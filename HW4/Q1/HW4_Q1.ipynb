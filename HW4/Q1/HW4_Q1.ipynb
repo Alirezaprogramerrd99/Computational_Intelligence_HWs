{
 "cells": [
  {
   "cell_type": "markdown",
   "metadata": {
    "id": "1QmnK25L7C0Z"
   },
   "source": [
    "# Q1_Alireza Rashidi\n"
   ]
  },
  {
   "cell_type": "markdown",
   "metadata": {
    "id": "48N3bNTkiG96"
   },
   "source": [
    "## Working with Data:"
   ]
  },
  {
   "cell_type": "code",
   "execution_count": 1,
   "metadata": {
    "id": "m7w1fEvWiBf6"
   },
   "outputs": [],
   "source": [
    "import numpy as np\n",
    "import pandas as pd\n",
    "import matplotlib.pyplot as plt"
   ]
  },
  {
   "cell_type": "code",
   "execution_count": 2,
   "metadata": {
    "colab": {
     "base_uri": "https://localhost:8080/",
     "height": 424
    },
    "id": "pVvEAS2UivvZ",
    "outputId": "818aad3f-f76c-48f4-ad6e-80df4da6afaa"
   },
   "outputs": [
    {
     "data": {
      "text/html": [
       "\n",
       "  <div id=\"df-51d36f5e-0812-438f-bde9-298fa8eda5ee\">\n",
       "    <div class=\"colab-df-container\">\n",
       "      <div>\n",
       "<style scoped>\n",
       "    .dataframe tbody tr th:only-of-type {\n",
       "        vertical-align: middle;\n",
       "    }\n",
       "\n",
       "    .dataframe tbody tr th {\n",
       "        vertical-align: top;\n",
       "    }\n",
       "\n",
       "    .dataframe thead th {\n",
       "        text-align: right;\n",
       "    }\n",
       "</style>\n",
       "<table border=\"1\" class=\"dataframe\">\n",
       "  <thead>\n",
       "    <tr style=\"text-align: right;\">\n",
       "      <th></th>\n",
       "      <th>Date</th>\n",
       "      <th>Price</th>\n",
       "    </tr>\n",
       "  </thead>\n",
       "  <tbody>\n",
       "    <tr>\n",
       "      <th>0</th>\n",
       "      <td>6-Dec-20</td>\n",
       "      <td>19379.9</td>\n",
       "    </tr>\n",
       "    <tr>\n",
       "      <th>1</th>\n",
       "      <td>7-Dec-20</td>\n",
       "      <td>19170.7</td>\n",
       "    </tr>\n",
       "    <tr>\n",
       "      <th>2</th>\n",
       "      <td>8-Dec-20</td>\n",
       "      <td>18326.6</td>\n",
       "    </tr>\n",
       "    <tr>\n",
       "      <th>3</th>\n",
       "      <td>9-Dec-20</td>\n",
       "      <td>18546.0</td>\n",
       "    </tr>\n",
       "    <tr>\n",
       "      <th>4</th>\n",
       "      <td>10-Dec-20</td>\n",
       "      <td>18247.2</td>\n",
       "    </tr>\n",
       "    <tr>\n",
       "      <th>...</th>\n",
       "      <td>...</td>\n",
       "      <td>...</td>\n",
       "    </tr>\n",
       "    <tr>\n",
       "      <th>361</th>\n",
       "      <td>2-Dec-21</td>\n",
       "      <td>56496.0</td>\n",
       "    </tr>\n",
       "    <tr>\n",
       "      <th>362</th>\n",
       "      <td>3-Dec-21</td>\n",
       "      <td>53631.5</td>\n",
       "    </tr>\n",
       "    <tr>\n",
       "      <th>363</th>\n",
       "      <td>4-Dec-21</td>\n",
       "      <td>49195.2</td>\n",
       "    </tr>\n",
       "    <tr>\n",
       "      <th>364</th>\n",
       "      <td>5-Dec-21</td>\n",
       "      <td>49405.5</td>\n",
       "    </tr>\n",
       "    <tr>\n",
       "      <th>365</th>\n",
       "      <td>6-Dec-21</td>\n",
       "      <td>49052.4</td>\n",
       "    </tr>\n",
       "  </tbody>\n",
       "</table>\n",
       "<p>366 rows × 2 columns</p>\n",
       "</div>\n",
       "      <button class=\"colab-df-convert\" onclick=\"convertToInteractive('df-51d36f5e-0812-438f-bde9-298fa8eda5ee')\"\n",
       "              title=\"Convert this dataframe to an interactive table.\"\n",
       "              style=\"display:none;\">\n",
       "        \n",
       "  <svg xmlns=\"http://www.w3.org/2000/svg\" height=\"24px\"viewBox=\"0 0 24 24\"\n",
       "       width=\"24px\">\n",
       "    <path d=\"M0 0h24v24H0V0z\" fill=\"none\"/>\n",
       "    <path d=\"M18.56 5.44l.94 2.06.94-2.06 2.06-.94-2.06-.94-.94-2.06-.94 2.06-2.06.94zm-11 1L8.5 8.5l.94-2.06 2.06-.94-2.06-.94L8.5 2.5l-.94 2.06-2.06.94zm10 10l.94 2.06.94-2.06 2.06-.94-2.06-.94-.94-2.06-.94 2.06-2.06.94z\"/><path d=\"M17.41 7.96l-1.37-1.37c-.4-.4-.92-.59-1.43-.59-.52 0-1.04.2-1.43.59L10.3 9.45l-7.72 7.72c-.78.78-.78 2.05 0 2.83L4 21.41c.39.39.9.59 1.41.59.51 0 1.02-.2 1.41-.59l7.78-7.78 2.81-2.81c.8-.78.8-2.07 0-2.86zM5.41 20L4 18.59l7.72-7.72 1.47 1.35L5.41 20z\"/>\n",
       "  </svg>\n",
       "      </button>\n",
       "      \n",
       "  <style>\n",
       "    .colab-df-container {\n",
       "      display:flex;\n",
       "      flex-wrap:wrap;\n",
       "      gap: 12px;\n",
       "    }\n",
       "\n",
       "    .colab-df-convert {\n",
       "      background-color: #E8F0FE;\n",
       "      border: none;\n",
       "      border-radius: 50%;\n",
       "      cursor: pointer;\n",
       "      display: none;\n",
       "      fill: #1967D2;\n",
       "      height: 32px;\n",
       "      padding: 0 0 0 0;\n",
       "      width: 32px;\n",
       "    }\n",
       "\n",
       "    .colab-df-convert:hover {\n",
       "      background-color: #E2EBFA;\n",
       "      box-shadow: 0px 1px 2px rgba(60, 64, 67, 0.3), 0px 1px 3px 1px rgba(60, 64, 67, 0.15);\n",
       "      fill: #174EA6;\n",
       "    }\n",
       "\n",
       "    [theme=dark] .colab-df-convert {\n",
       "      background-color: #3B4455;\n",
       "      fill: #D2E3FC;\n",
       "    }\n",
       "\n",
       "    [theme=dark] .colab-df-convert:hover {\n",
       "      background-color: #434B5C;\n",
       "      box-shadow: 0px 1px 3px 1px rgba(0, 0, 0, 0.15);\n",
       "      filter: drop-shadow(0px 1px 2px rgba(0, 0, 0, 0.3));\n",
       "      fill: #FFFFFF;\n",
       "    }\n",
       "  </style>\n",
       "\n",
       "      <script>\n",
       "        const buttonEl =\n",
       "          document.querySelector('#df-51d36f5e-0812-438f-bde9-298fa8eda5ee button.colab-df-convert');\n",
       "        buttonEl.style.display =\n",
       "          google.colab.kernel.accessAllowed ? 'block' : 'none';\n",
       "\n",
       "        async function convertToInteractive(key) {\n",
       "          const element = document.querySelector('#df-51d36f5e-0812-438f-bde9-298fa8eda5ee');\n",
       "          const dataTable =\n",
       "            await google.colab.kernel.invokeFunction('convertToInteractive',\n",
       "                                                     [key], {});\n",
       "          if (!dataTable) return;\n",
       "\n",
       "          const docLinkHtml = 'Like what you see? Visit the ' +\n",
       "            '<a target=\"_blank\" href=https://colab.research.google.com/notebooks/data_table.ipynb>data table notebook</a>'\n",
       "            + ' to learn more about interactive tables.';\n",
       "          element.innerHTML = '';\n",
       "          dataTable['output_type'] = 'display_data';\n",
       "          await google.colab.output.renderOutput(dataTable, element);\n",
       "          const docLink = document.createElement('div');\n",
       "          docLink.innerHTML = docLinkHtml;\n",
       "          element.appendChild(docLink);\n",
       "        }\n",
       "      </script>\n",
       "    </div>\n",
       "  </div>\n",
       "  "
      ],
      "text/plain": [
       "          Date    Price\n",
       "0     6-Dec-20  19379.9\n",
       "1     7-Dec-20  19170.7\n",
       "2     8-Dec-20  18326.6\n",
       "3     9-Dec-20  18546.0\n",
       "4    10-Dec-20  18247.2\n",
       "..         ...      ...\n",
       "361   2-Dec-21  56496.0\n",
       "362   3-Dec-21  53631.5\n",
       "363   4-Dec-21  49195.2\n",
       "364   5-Dec-21  49405.5\n",
       "365   6-Dec-21  49052.4\n",
       "\n",
       "[366 rows x 2 columns]"
      ]
     },
     "execution_count": 2,
     "metadata": {},
     "output_type": "execute_result"
    }
   ],
   "source": [
    "df = pd.read_csv(\"/content/BTC-USDT.csv\", thousands=',')\n",
    "reversed_df = df.iloc[::-1].reset_index(drop=True)\n",
    "reversed_df"
   ]
  },
  {
   "cell_type": "code",
   "execution_count": 3,
   "metadata": {
    "colab": {
     "base_uri": "https://localhost:8080/"
    },
    "id": "WONnhsnTkdAx",
    "outputId": "a641d3bb-a073-4fe7-cf4e-8c3104a6d635"
   },
   "outputs": [
    {
     "data": {
      "text/plain": [
       "(array([  0,   1,   2,   3,   4,   5,   6,   7,   8,   9,  10,  11,  12,\n",
       "         13,  14,  15,  16,  17,  18,  19,  20,  21,  22,  23,  24,  25,\n",
       "         26,  27,  28,  29,  30,  31,  32,  33,  34,  35,  36,  37,  38,\n",
       "         39,  40,  41,  42,  43,  44,  45,  46,  47,  48,  49,  50,  51,\n",
       "         52,  53,  54,  55,  56,  57,  58,  59,  60,  61,  62,  63,  64,\n",
       "         65,  66,  67,  68,  69,  70,  71,  72,  73,  74,  75,  76,  77,\n",
       "         78,  79,  80,  81,  82,  83,  84,  85,  86,  87,  88,  89,  90,\n",
       "         91,  92,  93,  94,  95,  96,  97,  98,  99, 100, 101, 102, 103,\n",
       "        104, 105, 106, 107, 108, 109, 110, 111, 112, 113, 114, 115, 116,\n",
       "        117, 118, 119, 120, 121, 122, 123, 124, 125, 126, 127, 128, 129,\n",
       "        130, 131, 132, 133, 134, 135, 136, 137, 138, 139, 140, 141, 142,\n",
       "        143, 144, 145, 146, 147, 148, 149, 150, 151, 152, 153, 154, 155,\n",
       "        156, 157, 158, 159, 160, 161, 162, 163, 164, 165, 166, 167, 168,\n",
       "        169, 170, 171, 172, 173, 174, 175, 176, 177, 178, 179, 180, 181,\n",
       "        182, 183, 184, 185, 186, 187, 188, 189, 190, 191, 192, 193, 194,\n",
       "        195, 196, 197, 198, 199, 200, 201, 202, 203, 204, 205, 206, 207,\n",
       "        208, 209, 210, 211, 212, 213, 214, 215, 216, 217, 218, 219, 220,\n",
       "        221, 222, 223, 224, 225, 226, 227, 228, 229, 230, 231, 232, 233,\n",
       "        234, 235, 236, 237, 238, 239, 240, 241, 242, 243, 244, 245, 246,\n",
       "        247, 248, 249, 250, 251, 252, 253, 254, 255, 256, 257, 258, 259,\n",
       "        260, 261, 262, 263, 264, 265, 266, 267, 268, 269, 270, 271, 272,\n",
       "        273, 274, 275, 276, 277, 278, 279, 280, 281, 282, 283, 284, 285,\n",
       "        286, 287, 288, 289, 290, 291, 292, 293, 294, 295, 296, 297, 298,\n",
       "        299, 300, 301, 302, 303, 304, 305, 306, 307, 308, 309, 310, 311,\n",
       "        312, 313, 314, 315, 316, 317, 318, 319, 320, 321, 322, 323, 324,\n",
       "        325, 326, 327, 328, 329, 330, 331, 332, 333, 334, 335, 336, 337,\n",
       "        338, 339, 340, 341, 342, 343, 344, 345, 346, 347, 348, 349, 350,\n",
       "        351, 352, 353, 354, 355, 356, 357, 358, 359, 360, 361, 362, 363,\n",
       "        364, 365]),\n",
       " array([19379.9, 19170.7, 18326.6, 18546. , 18247.2, 18023.6, 18808.9,\n",
       "        19176.8, 19273.8, 19434.9, 21352.2, 22825.4, 23127.9, 23844. ,\n",
       "        23474.9, 22728.5, 23823.2, 23257.9, 23736.5, 24689.6, 26454.4,\n",
       "        26261.3, 27057.8, 27376. , 28868.7, 28949.4, 29359.9, 32193.3,\n",
       "        32958.9, 32022.6, 33991.5, 36793.2, 39460.2, 40599.3, 40151.9,\n",
       "        38192.2, 35544.3, 34076.1, 37382.2, 39175.7, 36845.8, 36019.5,\n",
       "        35839.6, 36613.2, 36002.9, 35476.3, 30842.1, 33000.5, 32088.9,\n",
       "        32241.3, 32252.3, 32502.1, 30404. , 33374.8, 34301.8, 34283.1,\n",
       "        33108.1, 33515.7, 35485.2, 37646.8, 36982.1, 38297.6, 39256.6,\n",
       "        38852.9, 46395.7, 46508.6, 44836. , 47990.7, 47371.7, 47168.7,\n",
       "        48643.4, 47936.3, 49169.7, 52079.2, 51582.2, 55906.6, 55923.7,\n",
       "        57433.8, 54111.8, 48911.2, 49697.5, 46928.5, 46345.6, 46136.7,\n",
       "        45164. , 49595.5, 48424.2, 50395.1, 48428. , 48792.5, 48855.6,\n",
       "        50982.3, 52311. , 54879. , 55851.9, 57799.5, 57265.1, 61195.3,\n",
       "        59113.7, 55791.3, 56889.7, 58913.5, 57656. , 58088. , 58093.4,\n",
       "        57383.8, 54158.3, 54452.5, 52325.4, 51322.3, 55036.1, 55862.9,\n",
       "        55765.2, 57616.2, 58771.3, 58763.7, 58718.3, 58977.3, 57059.9,\n",
       "        58199.9, 58993.4, 57996.3, 55948.7, 58077.4, 58118.7, 59748.4,\n",
       "        59978.7, 59863.8, 63540.9, 62980.4, 63216. , 61379.7, 60041.9,\n",
       "        56207.1, 55646.1, 56483.2, 53820.2, 51729.5, 51143.6, 50088.9,\n",
       "        48963.6, 54020.5, 55036.5, 54841.4, 53560.8, 57720.3, 57807.1,\n",
       "        56603.8, 57169.8, 53741.5, 57441.3, 56405.4, 57337.2, 58840.1,\n",
       "        58238.3, 55848.9, 56695.7, 49384.2, 49704.6, 49839.8, 46708.8,\n",
       "        46426.4, 43541.3, 42897.3, 36720.5, 40717.2, 37297.4, 37448.3,\n",
       "        34679.7, 38750.6, 38378.3, 39249.2, 38417.3, 35662.5, 34584.6,\n",
       "        35652.8, 37298.6, 36687.6, 37555.8, 39187.3, 36851.3, 35520. ,\n",
       "        35815.4, 33578. , 33382.9, 37332.2, 36649.4, 37314.6, 35467.5,\n",
       "        39022.9, 40529.4, 40156.1, 38336. , 38052. , 35749.4, 35513.4,\n",
       "        35595.8, 31692. , 32496.4, 33674.3, 34665.8, 31594. , 32243.4,\n",
       "        34678.5, 34475.9, 35834.7, 35026.9, 33543.6, 33813.4, 34742.8,\n",
       "        35298.2, 33687.8, 34225.6, 33867.8, 32866.3, 33797.4, 33510.6,\n",
       "        34227.7, 33113. , 32728.1, 32820.7, 31840.5, 31394. , 31518.6,\n",
       "        31785.4, 30837.2, 29793.8, 32131.4, 32298.9, 33603.3, 33824.8,\n",
       "        35391.1, 37276.6, 39452. , 40003.2, 40001.4, 42203.4, 41553.7,\n",
       "        39878.3, 39168.4, 38130.3, 39736.9, 40867.2, 42795.4, 44614.2,\n",
       "        43792.8, 46284.3, 45593.8, 45564.3, 44403.4, 47809.1, 47081.5,\n",
       "        46991.3, 45996.3, 44691.6, 44723.8, 46755.9, 49324. , 48875.8,\n",
       "        49254.5, 49539.7, 47714.7, 48994.5, 46831.6, 49064.3, 48897.1,\n",
       "        48777.4, 46992.7, 47130.4, 48819.4, 49274.3, 49999. , 49918.4,\n",
       "        51768.6, 52672.1, 46779.6, 46061.4, 46385.6, 44842.8, 45161.9,\n",
       "        46062.3, 44949.5, 47077.5, 48130.6, 47748. , 47282.8, 48306.7,\n",
       "        47238.7, 42870.6, 40651.3, 43551.6, 44869.2, 42819.9, 42686.8,\n",
       "        43203.4, 42172.6, 41022.3, 41536.8, 43823.3, 48146. , 47666.9,\n",
       "        48200.1, 49227.3, 51469.3, 55323.2, 53783.9, 53914.7, 54942.5,\n",
       "        54687.7, 57477.3, 56015.9, 57380.1, 57345.8, 61672.5, 60861.1,\n",
       "        61527.5, 62056.3, 64278.5, 65979.1, 62210.2, 60690.3, 61312.5,\n",
       "        60866.5, 63067. , 60310.8, 58438.1, 60582.5, 62242.8, 61840.1,\n",
       "        61309.6, 60915.3, 63221.7, 62918.5, 61412.6, 60974.3, 61483.9,\n",
       "        63273.2, 67527.9, 66904.4, 64932.6, 64806.7, 64134.5, 64398.6,\n",
       "        65508.2, 63597.9, 60089.1, 60367.8, 56955.3, 58083.4, 59717.6,\n",
       "        58714.3, 56308.8, 57573.2, 57171.7, 58935.1, 53730.9, 54765.9,\n",
       "        57291.5, 57794.8, 56882.9, 57210.3, 56496. , 53631.5, 49195.2,\n",
       "        49405.5, 49052.4]))"
      ]
     },
     "execution_count": 3,
     "metadata": {},
     "output_type": "execute_result"
    }
   ],
   "source": [
    "dayes = np.array(list( range(len(reversed_df))))\n",
    "prices = reversed_df['Price'].to_numpy()\n",
    "(dayes, prices)   # features: dayes,"
   ]
  },
  {
   "cell_type": "code",
   "execution_count": 4,
   "metadata": {
    "id": "EkLGz47a0hCS"
   },
   "outputs": [],
   "source": [
    "POPULATION_SIZE = 100\n",
    "chromosome_size = 5\n",
    "\n",
    "first_days, sec_days, true_prices= prices[:100], prices[100:200], prices[200:300]\n",
    "\n",
    "a, b = 0, 20\n",
    "# generating initial population:\n",
    "# one individual -> [gain, a, b, c, d] -> f(x) = (gain*a)x' - bx + c - d\n",
    "def generate_individual(a, b, chromosome_size):\n",
    "    return np.random.randint(a, b, chromosome_size) \n",
    "# [np.random.randint(0, 2, 10).tolist() for _ in range(POPULATION_SIZE)]\n",
    "\n",
    "def init_population(size, a, b, chromosome_size):\n",
    "    population = []\n",
    "    for i in range(size):\n",
    "        individual_chromosome = generate_individual(a, b , chromosome_size)\n",
    "        population.append(individual_chromosome)\n",
    "    return population\n",
    "\n",
    "def fitness_func(chromosome):\n",
    "    preds = (chromosome[0] * chromosome[1] * sec_days) - (chromosome[2] * first_days) + chromosome[3] - chromosome[4]\n",
    "    return np.average( (true_prices - preds)**2 ) # using MSE for objective function.\n",
    "\n",
    "def selection(population, scores, k=3):\n",
    "\t# first random selection\n",
    "\tselection_ix = np.random.randint(len(population))\n",
    "\tfor ix in np.random.randint(0, len(population), k-1):\n",
    "\t\t# check if better (e.g. perform a tournament)\n",
    "\t\tif scores[ix] < scores[selection_ix]:\n",
    "\t\t\tselection_ix = ix\n",
    "\treturn population[selection_ix]\n",
    "\n",
    "def crossover(p1, p2, r_cross):\n",
    "\t# children are copies of parents by default\n",
    "\tc1, c2 = p1.copy(), p2.copy()\n",
    "\t# check for recombination\n",
    "\tif np.random.rand() < r_cross:\n",
    "\t\t# select crossover point that is not on the end of the string\n",
    "\t\tcrossover_point = np.random.randint(1, len(p1)-1)\n",
    "\t\t# perform crossover\n",
    "\t\tc1 = np.concatenate( (p1[:crossover_point], p2[crossover_point:]), axis=0)\n",
    "\t\tc2 = np.concatenate( (p2[:crossover_point], p1[crossover_point:]), axis=0)\n",
    "\treturn [c1, c2]\n",
    "\n",
    "def mutation(chromosome, r_mut):\n",
    "\tfor i in range(len(chromosome)):\n",
    "\t\t# check for a mutation\n",
    "\t\tif np.random.rand() < r_mut:\n",
    "\t\t\tchromosome[i] = np.random.randint(a, b)"
   ]
  },
  {
   "cell_type": "code",
   "execution_count": 5,
   "metadata": {
    "id": "DS4QJDlaS0oM"
   },
   "outputs": [],
   "source": [
    "def genetic_algorithm(fitness_func, generations, n_pop, chromosome_size, r_cross, r_mut):\n",
    "    score_lst = []\n",
    "    pop = init_population(n_pop, a, b, chromosome_size)\n",
    "    best, best_eval = 0, fitness_func(pop[0])\n",
    "    for gen in range(generations):\n",
    "        scores = [fitness_func(c) for c in pop]\n",
    "        for i in range(n_pop):\n",
    "            if scores[i] < best_eval:\n",
    "                best, best_eval = pop[i], scores[i]\n",
    "                score_lst.append(best_eval)\n",
    "                print(\">generation: %d, new best f(%s) = %.3f\" % (gen,  pop[i], scores[i]))\n",
    "        selected = [selection(pop, scores) for _ in range(n_pop)]\n",
    "        children = []\n",
    "        for i in range(0, n_pop, 2):\n",
    "            p1, p2 = selected[i], selected[i+1]\n",
    "            for c in crossover(p1, p2, r_cross):\n",
    "                mutation(c, r_mut)\n",
    "                children.append(c)\n",
    "        pop = children\n",
    "    return best, best_eval, score_lst"
   ]
  },
  {
   "cell_type": "code",
   "execution_count": 6,
   "metadata": {
    "colab": {
     "base_uri": "https://localhost:8080/"
    },
    "id": "fV_5ZJadBEuJ",
    "outputId": "7a377cd1-c871-4605-f13e-810ba0b01ad3"
   },
   "outputs": [
    {
     "name": "stdout",
     "output_type": "stream",
     "text": [
      ">generation: 0, new best f([ 2  3 11 13 17]) = 61229492788.732\n",
      ">generation: 0, new best f([ 1  5 10  1  6]) = 57658239335.244\n",
      ">generation: 0, new best f([ 0 15  1  4 17]) = 6536120242.409\n",
      ">generation: 0, new best f([ 0  7  1 17  8]) = 6532641051.441\n",
      ">generation: 3, new best f([ 0  0  0  6 14]) = 1761401747.101\n",
      ">generation: 4, new best f([11  0  0  8 11]) = 1760986914.101\n",
      ">generation: 5, new best f([ 0  8  0 19 11]) = 1760074457.501\n",
      ">generation: 6, new best f([ 0  8  0 12  3]) = 1759991518.901\n",
      ">generation: 8, new best f([ 0  6  0 13  2]) = 1759825647.701\n",
      ">generation: 11, new best f([ 0  7  0 17  1]) = 1759411004.701\n",
      ">generation: 11, new best f([ 1  1  1 10 10]) = 1573820005.861\n",
      ">generation: 30, new best f([ 1  1  0  2 13]) = 277123721.486\n",
      ">generation: 37, new best f([ 1  1  0  3 17]) = 277079332.412\n",
      ">generation: 55, new best f([ 1  1  0  3 19]) = 277049749.696\n"
     ]
    }
   ],
   "source": [
    " best, best_eval, score_lst = genetic_algorithm(fitness_func, 1000, POPULATION_SIZE, chromosome_size, 0.80, 0.45)"
   ]
  },
  {
   "cell_type": "code",
   "execution_count": 7,
   "metadata": {
    "colab": {
     "base_uri": "https://localhost:8080/",
     "height": 296
    },
    "id": "A6cjo8NSNAV2",
    "outputId": "9dacf147-66be-4604-9d2d-a67033f8990f"
   },
   "outputs": [
    {
     "data": {
      "text/plain": [
       "Text(0, 0.5, 'number of scores')"
      ]
     },
     "execution_count": 7,
     "metadata": {},
     "output_type": "execute_result"
    },
    {
     "data": {
      "image/png": "[encoded data removed]",
      "text/plain": [
       "<Figure size 432x288 with 1 Axes>"
      ]
     },
     "metadata": {
      "needs_background": "light"
     },
     "output_type": "display_data"
    }
   ],
   "source": [
    "plt.plot(score_lst, range(1, len(score_lst) + 1))\n",
    "plt.xlabel('scores')\n",
    "plt.ylabel('number of scores')"
   ]
  },
  {
   "cell_type": "code",
   "execution_count": 8,
   "metadata": {
    "colab": {
     "base_uri": "https://localhost:8080/"
    },
    "id": "ZqRMTYEkUKVz",
    "outputId": "6cc32ec2-3ac6-439b-91c4-13f863871bc7"
   },
   "outputs": [
    {
     "data": {
      "text/plain": [
       "array([56873.7, 58897.5, 57640. , 58072. , 58077.4, 57367.8, 54142.3,\n",
       "       54436.5, 52309.4, 51306.3, 55020.1, 55846.9, 55749.2, 57600.2,\n",
       "       58755.3, 58747.7, 58702.3, 58961.3, 57043.9, 58183.9, 58977.4,\n",
       "       57980.3, 55932.7, 58061.4, 58102.7, 59732.4, 59962.7, 59847.8,\n",
       "       63524.9, 62964.4, 63200. , 61363.7, 60025.9, 56191.1, 55630.1,\n",
       "       56467.2, 53804.2, 51713.5, 51127.6, 50072.9, 48947.6, 54004.5,\n",
       "       55020.5, 54825.4, 53544.8, 57704.3, 57791.1, 56587.8, 57153.8,\n",
       "       53725.5, 57425.3, 56389.4, 57321.2, 58824.1, 58222.3, 55832.9,\n",
       "       56679.7, 49368.2, 49688.6, 49823.8, 46692.8, 46410.4, 43525.3,\n",
       "       42881.3, 36704.5, 40701.2, 37281.4, 37432.3, 34663.7, 38734.6,\n",
       "       38362.3, 39233.2, 38401.3, 35646.5, 34568.6, 35636.8, 37282.6,\n",
       "       36671.6, 37539.8, 39171.3, 36835.3, 35504. , 35799.4, 33562. ,\n",
       "       33366.9, 37316.2, 36633.4, 37298.6, 35451.5, 39006.9, 40513.4,\n",
       "       40140.1, 38320. , 38036. , 35733.4, 35497.4, 35579.8, 31676. ,\n",
       "       32480.4, 33658.3])"
      ]
     },
     "execution_count": 8,
     "metadata": {},
     "output_type": "execute_result"
    }
   ],
   "source": [
    "preds = (best[0] * best[1] * sec_days) - (best[2] * first_days) + best[3] - best[4]\n",
    "preds"
   ]
  }
 ],
 "metadata": {
  "colab": {
   "collapsed_sections": [],
   "name": "HW4_Q1.ipynb",
   "provenance": []
  },
  "kernelspec": {
   "display_name": "Python 3",
   "language": "python",
   "name": "python3"
  },
  "language_info": {
   "codemirror_mode": {
    "name": "ipython",
    "version": 3
   },
   "file_extension": ".py",
   "mimetype": "text/x-python",
   "name": "python",
   "nbconvert_exporter": "python",
   "pygments_lexer": "ipython3",
   "version": "3.9.4"
  }
 },
 "nbformat": 4,
 "nbformat_minor": 1
}
