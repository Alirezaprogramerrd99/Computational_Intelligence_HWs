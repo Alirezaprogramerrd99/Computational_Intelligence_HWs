{
 "cells": [
  {
   "cell_type": "markdown",
   "metadata": {
    "id": "Pga9WaoO1Iex"
   },
   "source": [
    "# Q3_Alireza Rashidi\n",
    "\n",
    "\n"
   ]
  },
  {
   "cell_type": "markdown",
   "metadata": {
    "id": "tQK-nEv97-Ej"
   },
   "source": [
    "## Importing important libs:"
   ]
  },
  {
   "cell_type": "code",
   "execution_count": 202,
   "metadata": {
    "id": "zzqF8lSM6xF9"
   },
   "outputs": [],
   "source": [
    "import numpy as np\n",
    "import pandas as pd\n",
    "import random\n",
    "from random import randint\n",
    "import matplotlib.pyplot as plt"
   ]
  },
  {
   "cell_type": "markdown",
   "metadata": {
    "id": "VtFTCQvK8HXg"
   },
   "source": [
    "## Creating initial data of our Problem:"
   ]
  },
  {
   "cell_type": "code",
   "execution_count": 204,
   "metadata": {
    "colab": {
     "base_uri": "https://localhost:8080/"
    },
    "id": "TDBp_S9k8GrZ",
    "outputId": "a206878d-1d0a-46d4-d40a-18e0fa2665ee"
   },
   "outputs": [
    {
     "name": "stdout",
     "output_type": "stream",
     "text": [
      "item_idx  weight  price\n",
      "\n",
      "1        14        12\n",
      "\n",
      "2        15        10\n",
      "\n",
      "3        12        5\n",
      "\n",
      "4        10        2\n",
      "\n",
      "5        2        10\n",
      "\n",
      "6        5        10\n",
      "\n",
      "7        18        10\n",
      "\n",
      "8        14        8\n",
      "\n",
      "9        10        12\n",
      "\n",
      "10        8        14\n",
      "\n",
      "11        14        16\n",
      "\n",
      "12        15        17\n",
      "\n",
      "13        16        18\n",
      "\n",
      "14        19        20\n",
      "\n",
      "15        1        1\n",
      "\n"
     ]
    }
   ],
   "source": [
    "item_number = np.arange(1, 16)\n",
    "TOTAL_ITEMS = item_number.shape[0]\n",
    "price = np.array([12, 10, 5, 2, 10, 10, 10, 8, 12, 14, 16, 17, 18, 20, 1])\n",
    "weight = np.array([14, 15, 12, 10, 2, 5, 18, 14, 10, 8, 14, 15, 16, 19, 1])\n",
    "KNAPSACK_CAPACITY = 300   \n",
    "print('item_idx  weight  price\\n')\n",
    "for i in range(TOTAL_ITEMS):\n",
    "    print('{0}        {1}        {2}\\n'.format(item_number[i], weight[i], price[i]))"
   ]
  },
  {
   "cell_type": "markdown",
   "metadata": {
    "id": "IIPDTRHQ_aKP"
   },
   "source": [
    "## Creating GA parameters for problem:"
   ]
  },
  {
   "cell_type": "code",
   "execution_count": 205,
   "metadata": {
    "colab": {
     "base_uri": "https://localhost:8080/"
    },
    "id": "Spxsd6m1_ja6",
    "outputId": "c8d5d7e7-deee-44d6-e2df-af097557a77b"
   },
   "outputs": [
    {
     "name": "stdout",
     "output_type": "stream",
     "text": [
      "population per generation: 10\n",
      "\n",
      "Population size: (10, 15)\n",
      "Initial random population: \n",
      "[[0 1 0 1 0 0 0 0 1 0 0 1 0 0 0]\n",
      " [0 0 0 0 0 0 1 0 0 1 0 0 0 0 0]\n",
      " [0 1 0 0 1 0 1 1 0 0 0 1 1 1 0]\n",
      " [1 1 0 0 0 0 0 1 0 1 0 1 1 0 1]\n",
      " [0 1 1 1 1 1 1 0 1 0 0 1 0 1 1]\n",
      " [0 0 0 0 1 0 1 0 0 0 0 0 1 0 0]\n",
      " [1 1 1 0 0 1 0 1 1 1 1 1 0 1 1]\n",
      " [0 0 0 1 1 1 1 0 0 1 1 0 0 1 0]\n",
      " [1 0 1 0 1 0 0 1 1 0 1 0 0 0 1]\n",
      " [1 0 0 1 0 1 0 1 0 1 0 0 0 0 1]]\n"
     ]
    }
   ],
   "source": [
    "population_size = 10\n",
    "pop_format = (population_size, TOTAL_ITEMS)\n",
    "print('population per generation: {}\\n'.format(population_size))\n",
    "print('Population size: {}'.format(pop_format))\n",
    "\n",
    "# we have binary encoding for this problem each gene index corresponds to item index in the list.\n",
    "# each gene has a value '1' or '0' which means the corresponding item is present or not.\n",
    "condition = True\n",
    "\n",
    "while condition:\n",
    "    initial_population = np.random.randint(2, size = pop_format, dtype=int)\n",
    "    a = np.count_nonzero(initial_population == 1, axis=0)\n",
    "    count = np.count_nonzero(a > 5)\n",
    "    count2 = np.count_nonzero(a >= 1)\n",
    "    if count < 1 and count2 == TOTAL_ITEMS:\n",
    "        condition = False\n",
    "\n",
    "generations = 100\n",
    "print('Initial random population: \\n{}'.format(initial_population))"
   ]
  },
  {
   "cell_type": "code",
   "execution_count": 206,
   "metadata": {
    "id": "dEV32EZxBHwQ"
   },
   "outputs": [],
   "source": [
    "def fitness_function(weight, price, population, capacity):\n",
    "\n",
    "    fitness = np.empty(population.shape[0])\n",
    "    for individual in range(population.shape[0]):\n",
    "\n",
    "        gene_price = np.sum(population[individual] * price) # scalar value...\n",
    "        gene_weight = np.sum(population[individual] * weight)\n",
    "\n",
    "        if gene_weight <= capacity:\n",
    "            fitness[individual] = gene_price\n",
    "        else:\n",
    "            fitness[individual] = 0 \n",
    "    return fitness.astype(int)\n",
    "\n",
    "\n",
    "def selection(fitness, num_parents, population):\n",
    "    fitness = list(fitness)\n",
    "    parents = np.empty((num_parents, population.shape[1]))      # -> (size_population/2, len of chromosome)\n",
    "\n",
    "    for chro in range(num_parents):\n",
    "        max_fitness_idx = np.where(fitness == np.max(fitness))  # Return elements chosen from x or y depending on condition.\n",
    "        parents[chro,:] = population[max_fitness_idx[0][0], :]\n",
    "        fitness[max_fitness_idx[0][0]] = -999999\n",
    "    return parents\n",
    "\n",
    "def crossover(parents, num_offsprings):\n",
    "    offsprings = np.empty((num_offsprings, parents.shape[1]))\n",
    "    crossover_point = int(parents.shape[1] / 2)\n",
    "\n",
    "    crossover_rate = 0.80\n",
    "    individual = 0\n",
    "\n",
    "    while (parents.shape[0] < num_offsprings):\n",
    "\n",
    "        parent1_index = individual % parents.shape[0]\n",
    "        parent2_index = (individual + 1) % parents.shape[0]\n",
    "\n",
    "        coin_toss = random.random()\n",
    "\n",
    "        if coin_toss > crossover_rate:\n",
    "            continue\n",
    "\n",
    "        parent1_index = individual % parents.shape[0]\n",
    "        parent2_index = (individual + 1) % parents.shape[0]\n",
    "\n",
    "        offsprings[individual, 0:crossover_point] = parents[parent1_index, 0:crossover_point]\n",
    "        offsprings[individual, crossover_point:] = parents[parent2_index, crossover_point:]\n",
    "        individual =+ 1\n",
    "    return offsprings\n",
    "\n",
    "def mutation(offsprings):\n",
    "    \n",
    "    mutation_rate = 0.35\n",
    "    mutants = np.empty((offsprings.shape))\n",
    "    for individaul in range(mutants.shape[0]):\n",
    "\n",
    "        # copy offsprings to mutated list for applying mutation opration.\n",
    "        mutants[individaul,:] = offsprings[individaul,:]\n",
    "        coin_toss = random.random()\n",
    "\n",
    "        if coin_toss > mutation_rate:\n",
    "            continue\n",
    "        random_gene = randint(0, offsprings.shape[1]-1)    \n",
    "\n",
    "        # by chance flip the random bits of each individual...\n",
    "        if mutants[individaul, random_gene] == 0:\n",
    "            mutants[individaul, random_gene] = 1\n",
    "        else:\n",
    "            mutants[individaul, random_gene] = 0\n",
    "\n",
    "    return mutants\n",
    "\n",
    "\n",
    "def GA(weight, price, population, pop_size, generations, capacity):\n",
    "\n",
    "    parameters, fitness_history = [], []\n",
    "    num_parents = int(population.shape[0] / 2) # dividing half of population for older parents and half of it for new generations...\n",
    "    num_offsprings = population.shape[0] - num_parents \n",
    "\n",
    "    for i in range(generations):\n",
    "\n",
    "        fitness = fitness_function(weight, price, population, capacity)\n",
    "        fitness_history.append(fitness)\n",
    "        # selection and crossover oprations... \n",
    "        parents = selection(fitness, num_parents, population)\n",
    "        offsprings = crossover(parents, num_offsprings)\n",
    "\n",
    "        mutants = mutation(offsprings)\n",
    "        # new population replacement....\n",
    "        population[0:parents.shape[0], :] = parents   # half for parents \n",
    "        population[parents.shape[0]:, :] = mutants    # half for children\n",
    "\n",
    "        print('\\n-->>Generation number {} fitness = {}'.format(i+1, fitness))\n",
    "        \n",
    "    fitness_last_gen = fitness_function(weight, price, population, capacity)      \n",
    "    print('Fitness of the last generation: \\n{}\\n'.format(fitness_last_gen))\n",
    "\n",
    "    max_fitness = np.where(fitness_last_gen == np.max(fitness_last_gen))\n",
    "    opt_row_idx = max_fitness[0][0]\n",
    "    parameters.append(population[opt_row_idx,:])\n",
    "\n",
    "    return parameters, fitness_history\n"
   ]
  },
  {
   "cell_type": "code",
   "execution_count": 207,
   "metadata": {
    "colab": {
     "base_uri": "https://localhost:8080/"
    },
    "id": "TJDqBoofhRMQ",
    "outputId": "05348e29-045e-424a-fc66-550c158518f3"
   },
   "outputs": [
    {
     "name": "stdout",
     "output_type": "stream",
     "text": [
      "\n",
      "-->>Generation number 1 fitness = [ 41  24  93  80  97  38 125  82  64  47]\n",
      "\n",
      "-->>Generation number 2 fitness = [125  97  93  82  80 165 165 164 145 165]\n",
      "\n",
      "-->>Generation number 3 fitness = [165 165 165 164 145 115 113 103  82  80]\n",
      "\n",
      "-->>Generation number 4 fitness = [165 165 165 164 145 153 163 165 164 145]\n",
      "\n",
      "-->>Generation number 5 fitness = [165 165 165 165 164 165 160 165 164 145]\n",
      "\n",
      "-->>Generation number 6 fitness = [165 165 165 165 165 151 165 157 147 154]\n",
      "\n",
      "-->>Generation number 7 fitness = [165 165 165 165 165 165 165 165 165 145]\n",
      "\n",
      "-->>Generation number 8 fitness = [165 165 165 165 165 165 165 165 165 165]\n",
      "\n",
      "-->>Generation number 9 fitness = [165 165 165 165 165 147 165 165 165 163]\n",
      "\n",
      "-->>Generation number 10 fitness = [165 165 165 165 165 165 165 153 165 165]\n",
      "\n",
      "-->>Generation number 11 fitness = [165 165 165 165 165 165 165 165 148 155]\n",
      "\n",
      "-->>Generation number 12 fitness = [165 165 165 165 165 165 165 148 165 155]\n",
      "\n",
      "-->>Generation number 13 fitness = [165 165 165 165 165 165 165 165 165 145]\n",
      "\n",
      "-->>Generation number 14 fitness = [165 165 165 165 165 155 163 165 151 155]\n",
      "\n",
      "-->>Generation number 15 fitness = [165 165 165 165 165 165 165 165 155 165]\n",
      "\n",
      "-->>Generation number 16 fitness = [165 165 165 165 165 157 165 165 165 165]\n",
      "\n",
      "-->>Generation number 17 fitness = [165 165 165 165 165 165 155 155 157 165]\n",
      "\n",
      "-->>Generation number 18 fitness = [165 165 165 165 165 165 155 165 149 165]\n",
      "\n",
      "-->>Generation number 19 fitness = [165 165 165 165 165 165 165 165 165 165]\n",
      "\n",
      "-->>Generation number 20 fitness = [165 165 165 165 165 165 165 165 149 165]\n",
      "\n",
      "-->>Generation number 21 fitness = [165 165 165 165 165 164 164 165 153 147]\n",
      "\n",
      "-->>Generation number 22 fitness = [165 165 165 165 165 145 165 165 164 148]\n",
      "\n",
      "-->>Generation number 23 fitness = [165 165 165 165 165 165 165 165 165 165]\n",
      "\n",
      "-->>Generation number 24 fitness = [165 165 165 165 165 165 147 165 165 151]\n",
      "\n",
      "-->>Generation number 25 fitness = [165 165 165 165 165 163 165 165 155 155]\n",
      "\n",
      "-->>Generation number 26 fitness = [165 165 165 165 165 148 165 165 165 160]\n",
      "\n",
      "-->>Generation number 27 fitness = [165 165 165 165 165 149 149 155 165 165]\n",
      "\n",
      "-->>Generation number 28 fitness = [165 165 165 165 165 165 160 153 165 149]\n",
      "\n",
      "-->>Generation number 29 fitness = [165 165 165 165 165 165 155 165 147 155]\n",
      "\n",
      "-->>Generation number 30 fitness = [165 165 165 165 165 165 165 164 165 165]\n",
      "\n",
      "-->>Generation number 31 fitness = [165 165 165 165 165 164 153 165 155 145]\n",
      "\n",
      "-->>Generation number 32 fitness = [165 165 165 165 165 157 153 155 165 155]\n",
      "\n",
      "-->>Generation number 33 fitness = [165 165 165 165 165 165 165 147 165 165]\n",
      "\n",
      "-->>Generation number 34 fitness = [165 165 165 165 165 163 165 165 165 165]\n",
      "\n",
      "-->>Generation number 35 fitness = [165 165 165 165 165 155 165 165 165 155]\n",
      "\n",
      "-->>Generation number 36 fitness = [165 165 165 165 165 151 165 157 147 165]\n",
      "\n",
      "-->>Generation number 37 fitness = [165 165 165 165 165 165 155 147 165 165]\n",
      "\n",
      "-->>Generation number 38 fitness = [165 165 165 165 165 165 165 149 165 155]\n",
      "\n",
      "-->>Generation number 39 fitness = [165 165 165 165 165 153 165 165 165 165]\n",
      "\n",
      "-->>Generation number 40 fitness = [165 165 165 165 165 165 165 155 165 165]\n",
      "\n",
      "-->>Generation number 41 fitness = [165 165 165 165 165 165 155 164 165 165]\n",
      "\n",
      "-->>Generation number 42 fitness = [165 165 165 165 165 165 165 149 165 155]\n",
      "\n",
      "-->>Generation number 43 fitness = [165 165 165 165 165 164 165 165 151 165]\n",
      "\n",
      "-->>Generation number 44 fitness = [165 165 165 165 165 165 155 160 165 165]\n",
      "\n",
      "-->>Generation number 45 fitness = [165 165 165 165 165 165 165 165 163 165]\n",
      "\n",
      "-->>Generation number 46 fitness = [165 165 165 165 165 165 165 165 165 165]\n",
      "\n",
      "-->>Generation number 47 fitness = [165 165 165 165 165 165 165 155 165 147]\n",
      "\n",
      "-->>Generation number 48 fitness = [165 165 165 165 165 155 165 147 165 151]\n",
      "\n",
      "-->>Generation number 49 fitness = [165 165 165 165 165 163 165 165 151 165]\n",
      "\n",
      "-->>Generation number 50 fitness = [165 165 165 165 165 165 165 165 164 165]\n",
      "\n",
      "-->>Generation number 51 fitness = [165 165 165 165 165 155 164 165 165 165]\n",
      "\n",
      "-->>Generation number 52 fitness = [165 165 165 165 165 165 165 165 165 165]\n",
      "\n",
      "-->>Generation number 53 fitness = [165 165 165 165 165 165 165 148 165 145]\n",
      "\n",
      "-->>Generation number 54 fitness = [165 165 165 165 165 165 165 165 165 165]\n",
      "\n",
      "-->>Generation number 55 fitness = [165 165 165 165 165 157 165 165 165 165]\n",
      "\n",
      "-->>Generation number 56 fitness = [165 165 165 165 165 165 165 153 149 157]\n",
      "\n",
      "-->>Generation number 57 fitness = [165 165 165 165 165 155 165 147 155 165]\n",
      "\n",
      "-->>Generation number 58 fitness = [165 165 165 165 165 151 165 153 165 163]\n",
      "\n",
      "-->>Generation number 59 fitness = [165 165 165 165 165 157 147 165 165 165]\n",
      "\n",
      "-->>Generation number 60 fitness = [165 165 165 165 165 165 165 155 160 153]\n",
      "\n",
      "-->>Generation number 61 fitness = [165 165 165 165 165 153 165 165 145 145]\n",
      "\n",
      "-->>Generation number 62 fitness = [165 165 165 165 165 165 145 164 165 163]\n",
      "\n",
      "-->>Generation number 63 fitness = [165 165 165 165 165 165 165 165 165 165]\n",
      "\n",
      "-->>Generation number 64 fitness = [165 165 165 165 165 165 165 155 157 145]\n",
      "\n",
      "-->>Generation number 65 fitness = [165 165 165 165 165 164 165 165 165 165]\n",
      "\n",
      "-->>Generation number 66 fitness = [165 165 165 165 165 165 153 165 165 163]\n",
      "\n",
      "-->>Generation number 67 fitness = [165 165 165 165 165 165 145 153 165 165]\n",
      "\n",
      "-->>Generation number 68 fitness = [165 165 165 165 165 165 165 165 165 165]\n",
      "\n",
      "-->>Generation number 69 fitness = [165 165 165 165 165 165 155 149 165 165]\n",
      "\n",
      "-->>Generation number 70 fitness = [165 165 165 165 165 165 165 165 155 165]\n",
      "\n",
      "-->>Generation number 71 fitness = [165 165 165 165 165 165 165 165 165 165]\n",
      "\n",
      "-->>Generation number 72 fitness = [165 165 165 165 165 165 165 165 165 165]\n",
      "\n",
      "-->>Generation number 73 fitness = [165 165 165 165 165 165 165 164 165 165]\n",
      "\n",
      "-->>Generation number 74 fitness = [165 165 165 165 165 165 165 165 165 165]\n",
      "\n",
      "-->>Generation number 75 fitness = [165 165 165 165 165 147 165 165 165 165]\n",
      "\n",
      "-->>Generation number 76 fitness = [165 165 165 165 165 155 165 165 165 148]\n",
      "\n",
      "-->>Generation number 77 fitness = [165 165 165 165 165 151 165 165 165 148]\n",
      "\n",
      "-->>Generation number 78 fitness = [165 165 165 165 165 155 165 165 165 165]\n",
      "\n",
      "-->>Generation number 79 fitness = [165 165 165 165 165 165 165 157 165 155]\n",
      "\n",
      "-->>Generation number 80 fitness = [165 165 165 165 165 157 155 149 157 165]\n",
      "\n",
      "-->>Generation number 81 fitness = [165 165 165 165 165 163 165 165 165 155]\n",
      "\n",
      "-->>Generation number 82 fitness = [165 165 165 165 165 165 157 165 165 165]\n",
      "\n",
      "-->>Generation number 83 fitness = [165 165 165 165 165 165 165 165 147 165]\n",
      "\n",
      "-->>Generation number 84 fitness = [165 165 165 165 165 165 165 165 164 165]\n",
      "\n",
      "-->>Generation number 85 fitness = [165 165 165 165 165 155 165 165 163 165]\n",
      "\n",
      "-->>Generation number 86 fitness = [165 165 165 165 165 145 165 163 165 165]\n",
      "\n",
      "-->>Generation number 87 fitness = [165 165 165 165 165 153 165 165 165 165]\n",
      "\n",
      "-->>Generation number 88 fitness = [165 165 165 165 165 155 164 165 165 165]\n",
      "\n",
      "-->>Generation number 89 fitness = [165 165 165 165 165 165 165 165 163 164]\n",
      "\n",
      "-->>Generation number 90 fitness = [165 165 165 165 165 165 165 165 153 165]\n",
      "\n",
      "-->>Generation number 91 fitness = [165 165 165 165 165 164 165 165 153 153]\n",
      "\n",
      "-->>Generation number 92 fitness = [165 165 165 165 165 165 155 165 165 165]\n",
      "\n",
      "-->>Generation number 93 fitness = [165 165 165 165 165 165 165 151 165 153]\n",
      "\n",
      "-->>Generation number 94 fitness = [165 165 165 165 165 151 165 165 163 157]\n",
      "\n",
      "-->>Generation number 95 fitness = [165 165 165 165 165 165 160 165 160 165]\n",
      "\n",
      "-->>Generation number 96 fitness = [165 165 165 165 165 165 165 164 165 151]\n",
      "\n",
      "-->>Generation number 97 fitness = [165 165 165 165 165 165 148 153 165 165]\n",
      "\n",
      "-->>Generation number 98 fitness = [165 165 165 165 165 165 165 153 165 165]\n",
      "\n",
      "-->>Generation number 99 fitness = [165 165 165 165 165 153 165 165 165 165]\n",
      "\n",
      "-->>Generation number 100 fitness = [165 165 165 165 165 155 165 165 148 165]\n",
      "Fitness of the last generation: \n",
      "[165 165 165 165 165 165 165 155 165 164]\n",
      "\n",
      "The optimized parameters for the given inputs are: \n",
      "[array([1, 1, 1, 1, 1, 1, 1, 1, 1, 1, 1, 1, 1, 1, 1])]\n",
      "\n",
      "items that we can pick from bag:  [1, 2, 3, 4, 5, 6, 7, 8, 9, 10, 11, 12, 13, 14, 15]\n"
     ]
    }
   ],
   "source": [
    "parameters, fitness_history = GA(weight, price, initial_population, pop_format, generations, KNAPSACK_CAPACITY)\n",
    "\n",
    "print('The optimized parameters for the given inputs are: \\n{}'.format(parameters))\n",
    "selected_items = item_number * parameters  # item_number[i] * 0 or 1 that shows what item that we can pick from bag\n",
    "\n",
    "item_selected = []\n",
    "for i in range(selected_items.shape[1]):\n",
    "  if selected_items[0][i] != 0:\n",
    "      item_selected.append(selected_items[0][i])\n",
    "print('\\nitems that we can pick from bag: ', item_selected)"
   ]
  },
  {
   "cell_type": "code",
   "execution_count": 208,
   "metadata": {
    "colab": {
     "base_uri": "https://localhost:8080/"
    },
    "id": "WAZUVO3qwfEs",
    "outputId": "2f9ab549-44c1-4c44-b752-cd830e7352d4"
   },
   "outputs": [
    {
     "name": "stdout",
     "output_type": "stream",
     "text": [
      "[array([ 41,  24,  93,  80,  97,  38, 125,  82,  64,  47]), array([125,  97,  93,  82,  80, 165, 165, 164, 145, 165]), array([165, 165, 165, 164, 145, 115, 113, 103,  82,  80]), array([165, 165, 165, 164, 145, 153, 163, 165, 164, 145]), array([165, 165, 165, 165, 164, 165, 160, 165, 164, 145]), array([165, 165, 165, 165, 165, 151, 165, 157, 147, 154]), array([165, 165, 165, 165, 165, 165, 165, 165, 165, 145]), array([165, 165, 165, 165, 165, 165, 165, 165, 165, 165]), array([165, 165, 165, 165, 165, 147, 165, 165, 165, 163]), array([165, 165, 165, 165, 165, 165, 165, 153, 165, 165]), array([165, 165, 165, 165, 165, 165, 165, 165, 148, 155]), array([165, 165, 165, 165, 165, 165, 165, 148, 165, 155]), array([165, 165, 165, 165, 165, 165, 165, 165, 165, 145]), array([165, 165, 165, 165, 165, 155, 163, 165, 151, 155]), array([165, 165, 165, 165, 165, 165, 165, 165, 155, 165]), array([165, 165, 165, 165, 165, 157, 165, 165, 165, 165]), array([165, 165, 165, 165, 165, 165, 155, 155, 157, 165]), array([165, 165, 165, 165, 165, 165, 155, 165, 149, 165]), array([165, 165, 165, 165, 165, 165, 165, 165, 165, 165]), array([165, 165, 165, 165, 165, 165, 165, 165, 149, 165]), array([165, 165, 165, 165, 165, 164, 164, 165, 153, 147]), array([165, 165, 165, 165, 165, 145, 165, 165, 164, 148]), array([165, 165, 165, 165, 165, 165, 165, 165, 165, 165]), array([165, 165, 165, 165, 165, 165, 147, 165, 165, 151]), array([165, 165, 165, 165, 165, 163, 165, 165, 155, 155]), array([165, 165, 165, 165, 165, 148, 165, 165, 165, 160]), array([165, 165, 165, 165, 165, 149, 149, 155, 165, 165]), array([165, 165, 165, 165, 165, 165, 160, 153, 165, 149]), array([165, 165, 165, 165, 165, 165, 155, 165, 147, 155]), array([165, 165, 165, 165, 165, 165, 165, 164, 165, 165]), array([165, 165, 165, 165, 165, 164, 153, 165, 155, 145]), array([165, 165, 165, 165, 165, 157, 153, 155, 165, 155]), array([165, 165, 165, 165, 165, 165, 165, 147, 165, 165]), array([165, 165, 165, 165, 165, 163, 165, 165, 165, 165]), array([165, 165, 165, 165, 165, 155, 165, 165, 165, 155]), array([165, 165, 165, 165, 165, 151, 165, 157, 147, 165]), array([165, 165, 165, 165, 165, 165, 155, 147, 165, 165]), array([165, 165, 165, 165, 165, 165, 165, 149, 165, 155]), array([165, 165, 165, 165, 165, 153, 165, 165, 165, 165]), array([165, 165, 165, 165, 165, 165, 165, 155, 165, 165]), array([165, 165, 165, 165, 165, 165, 155, 164, 165, 165]), array([165, 165, 165, 165, 165, 165, 165, 149, 165, 155]), array([165, 165, 165, 165, 165, 164, 165, 165, 151, 165]), array([165, 165, 165, 165, 165, 165, 155, 160, 165, 165]), array([165, 165, 165, 165, 165, 165, 165, 165, 163, 165]), array([165, 165, 165, 165, 165, 165, 165, 165, 165, 165]), array([165, 165, 165, 165, 165, 165, 165, 155, 165, 147]), array([165, 165, 165, 165, 165, 155, 165, 147, 165, 151]), array([165, 165, 165, 165, 165, 163, 165, 165, 151, 165]), array([165, 165, 165, 165, 165, 165, 165, 165, 164, 165]), array([165, 165, 165, 165, 165, 155, 164, 165, 165, 165]), array([165, 165, 165, 165, 165, 165, 165, 165, 165, 165]), array([165, 165, 165, 165, 165, 165, 165, 148, 165, 145]), array([165, 165, 165, 165, 165, 165, 165, 165, 165, 165]), array([165, 165, 165, 165, 165, 157, 165, 165, 165, 165]), array([165, 165, 165, 165, 165, 165, 165, 153, 149, 157]), array([165, 165, 165, 165, 165, 155, 165, 147, 155, 165]), array([165, 165, 165, 165, 165, 151, 165, 153, 165, 163]), array([165, 165, 165, 165, 165, 157, 147, 165, 165, 165]), array([165, 165, 165, 165, 165, 165, 165, 155, 160, 153]), array([165, 165, 165, 165, 165, 153, 165, 165, 145, 145]), array([165, 165, 165, 165, 165, 165, 145, 164, 165, 163]), array([165, 165, 165, 165, 165, 165, 165, 165, 165, 165]), array([165, 165, 165, 165, 165, 165, 165, 155, 157, 145]), array([165, 165, 165, 165, 165, 164, 165, 165, 165, 165]), array([165, 165, 165, 165, 165, 165, 153, 165, 165, 163]), array([165, 165, 165, 165, 165, 165, 145, 153, 165, 165]), array([165, 165, 165, 165, 165, 165, 165, 165, 165, 165]), array([165, 165, 165, 165, 165, 165, 155, 149, 165, 165]), array([165, 165, 165, 165, 165, 165, 165, 165, 155, 165]), array([165, 165, 165, 165, 165, 165, 165, 165, 165, 165]), array([165, 165, 165, 165, 165, 165, 165, 165, 165, 165]), array([165, 165, 165, 165, 165, 165, 165, 164, 165, 165]), array([165, 165, 165, 165, 165, 165, 165, 165, 165, 165]), array([165, 165, 165, 165, 165, 147, 165, 165, 165, 165]), array([165, 165, 165, 165, 165, 155, 165, 165, 165, 148]), array([165, 165, 165, 165, 165, 151, 165, 165, 165, 148]), array([165, 165, 165, 165, 165, 155, 165, 165, 165, 165]), array([165, 165, 165, 165, 165, 165, 165, 157, 165, 155]), array([165, 165, 165, 165, 165, 157, 155, 149, 157, 165]), array([165, 165, 165, 165, 165, 163, 165, 165, 165, 155]), array([165, 165, 165, 165, 165, 165, 157, 165, 165, 165]), array([165, 165, 165, 165, 165, 165, 165, 165, 147, 165]), array([165, 165, 165, 165, 165, 165, 165, 165, 164, 165]), array([165, 165, 165, 165, 165, 155, 165, 165, 163, 165]), array([165, 165, 165, 165, 165, 145, 165, 163, 165, 165]), array([165, 165, 165, 165, 165, 153, 165, 165, 165, 165]), array([165, 165, 165, 165, 165, 155, 164, 165, 165, 165]), array([165, 165, 165, 165, 165, 165, 165, 165, 163, 164]), array([165, 165, 165, 165, 165, 165, 165, 165, 153, 165]), array([165, 165, 165, 165, 165, 164, 165, 165, 153, 153]), array([165, 165, 165, 165, 165, 165, 155, 165, 165, 165]), array([165, 165, 165, 165, 165, 165, 165, 151, 165, 153]), array([165, 165, 165, 165, 165, 151, 165, 165, 163, 157]), array([165, 165, 165, 165, 165, 165, 160, 165, 160, 165]), array([165, 165, 165, 165, 165, 165, 165, 164, 165, 151]), array([165, 165, 165, 165, 165, 165, 148, 153, 165, 165]), array([165, 165, 165, 165, 165, 165, 165, 153, 165, 165]), array([165, 165, 165, 165, 165, 153, 165, 165, 165, 165]), array([165, 165, 165, 165, 165, 155, 165, 165, 148, 165])]\n"
     ]
    }
   ],
   "source": [
    "print(fitness_history)"
   ]
  },
  {
   "cell_type": "code",
   "execution_count": 209,
   "metadata": {
    "id": "rZymcjxhvaNu"
   },
   "outputs": [],
   "source": [
    "fitness_history_mean = [np.mean(fitness_individual) for fitness_individual in fitness_history]\n",
    "fitness_history_max = [np.max(fitness_individual) for fitness_individual in fitness_history]"
   ]
  },
  {
   "cell_type": "markdown",
   "metadata": {
    "id": "S6aFG8Tt0Gqr"
   },
   "source": [
    "## Showing optimization using plot fitness vs generation numbers:"
   ]
  },
  {
   "cell_type": "code",
   "execution_count": 210,
   "metadata": {
    "colab": {
     "base_uri": "https://localhost:8080/",
     "height": 296
    },
    "id": "YMGE2rKPv1A6",
    "outputId": "641a2abd-7004-45d5-c8fc-944d5fdfc55c"
   },
   "outputs": [
    {
     "data": {
      "text/plain": [
       "Text(0, 0.5, 'fitness function value')"
      ]
     },
     "execution_count": 210,
     "metadata": {},
     "output_type": "execute_result"
    },
    {
     "data": {
      "image/png": "[encoded data removed]",
      "text/plain": [
       "<Figure size 432x288 with 1 Axes>"
      ]
     },
     "metadata": {
      "needs_background": "light"
     },
     "output_type": "display_data"
    }
   ],
   "source": [
    "plt.plot(range(1, generations+1), fitness_history_mean, label = 'mean of fitness values')\n",
    "plt.plot(range(1, generations+1), fitness_history_max, label = 'max of fitness values')\n",
    "plt.legend()\n",
    "plt.xlabel('generations')\n",
    "plt.ylabel('fitness function value')"
   ]
  }
 ],
 "metadata": {
  "colab": {
   "collapsed_sections": [],
   "name": "HW4_Q3.ipynb",
   "provenance": []
  },
  "kernelspec": {
   "display_name": "Python 3",
   "language": "python",
   "name": "python3"
  },
  "language_info": {
   "codemirror_mode": {
    "name": "ipython",
    "version": 3
   },
   "file_extension": ".py",
   "mimetype": "text/x-python",
   "name": "python",
   "nbconvert_exporter": "python",
   "pygments_lexer": "ipython3",
   "version": "3.9.4"
  }
 },
 "nbformat": 4,
 "nbformat_minor": 1
}
