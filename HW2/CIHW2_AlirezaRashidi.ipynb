{
 "cells": [
  {
   "cell_type": "markdown",
   "metadata": {
    "id": "1YHKRJXZdsm4"
   },
   "source": [
    "# CIHW-2 Alireza Rashidi"
   ]
  },
  {
   "cell_type": "markdown",
   "metadata": {
    "id": "rc_hGmSzIBVl"
   },
   "source": [
    "## Preparing Dataset files:"
   ]
  },
  {
   "cell_type": "code",
   "execution_count": 1,
   "metadata": {
    "colab": {
     "base_uri": "https://localhost:8080/"
    },
    "id": "NNCiVjDHEjR8",
    "outputId": "614e54eb-baaa-4582-b174-543715e2b2e6"
   },
   "outputs": [
    {
     "name": "stdout",
     "output_type": "stream",
     "text": [
      "Mounted at /content/gdrive\n"
     ]
    }
   ],
   "source": [
    "from google.colab import drive\n",
    "drive.mount('/content/gdrive')"
   ]
  },
  {
   "cell_type": "code",
   "execution_count": 2,
   "metadata": {
    "id": "ZGm360UtGj_2"
   },
   "outputs": [],
   "source": [
    "!cp /content/gdrive/MyDrive/Datasets/Dataset.zip /content/sample_data"
   ]
  },
  {
   "cell_type": "code",
   "execution_count": 3,
   "metadata": {
    "colab": {
     "base_uri": "https://localhost:8080/"
    },
    "id": "GHJgUxuwHPFW",
    "outputId": "f2467bf9-7f0a-47ae-c263-f05bb0154f8a"
   },
   "outputs": [
    {
     "name": "stdout",
     "output_type": "stream",
     "text": [
      "Archive:  /content/sample_data/Dataset.zip\n",
      "  inflating: /content/CIHW2_Datasets/test.csv  \n",
      "  inflating: /content/CIHW2_Datasets/train.csv  \n"
     ]
    }
   ],
   "source": [
    "!mkdir /content/CIHW2_Datasets\n",
    "!unzip /content/sample_data/Dataset.zip -d /content/CIHW2_Datasets"
   ]
  },
  {
   "cell_type": "markdown",
   "metadata": {
    "id": "7xc6KEJ_Kc-B"
   },
   "source": [
    "## Understanding of Dataset:"
   ]
  },
  {
   "cell_type": "code",
   "execution_count": 5,
   "metadata": {
    "id": "jLpUwzTOKBcx"
   },
   "outputs": [],
   "source": [
    "import pandas as pd\n",
    "import numpy as np\n",
    "import sklearn\n",
    "from sklearn.model_selection import train_test_split, cross_val_score\n",
    "from sklearn import metrics\n",
    "from sklearn.metrics import classification_report, confusion_matrix\n",
    "import math"
   ]
  },
  {
   "cell_type": "code",
   "execution_count": 6,
   "metadata": {
    "colab": {
     "base_uri": "https://localhost:8080/",
     "height": 918
    },
    "id": "-8tYlBwyKchr",
    "outputId": "96871b35-b405-4b8c-bbfd-073207f2f48e"
   },
   "outputs": [
    {
     "data": {
      "text/html": [
       "<div>\n",
       "<style scoped>\n",
       "    .dataframe tbody tr th:only-of-type {\n",
       "        vertical-align: middle;\n",
       "    }\n",
       "\n",
       "    .dataframe tbody tr th {\n",
       "        vertical-align: top;\n",
       "    }\n",
       "\n",
       "    .dataframe thead th {\n",
       "        text-align: right;\n",
       "    }\n",
       "</style>\n",
       "<table border=\"1\" class=\"dataframe\">\n",
       "  <thead>\n",
       "    <tr style=\"text-align: right;\">\n",
       "      <th></th>\n",
       "      <th>PassengerId</th>\n",
       "      <th>Survived</th>\n",
       "      <th>Pclass</th>\n",
       "      <th>Name</th>\n",
       "      <th>Sex</th>\n",
       "      <th>Age</th>\n",
       "      <th>SibSp</th>\n",
       "      <th>Parch</th>\n",
       "      <th>Ticket</th>\n",
       "      <th>Fare</th>\n",
       "      <th>Cabin</th>\n",
       "      <th>Embarked</th>\n",
       "    </tr>\n",
       "  </thead>\n",
       "  <tbody>\n",
       "    <tr>\n",
       "      <th>0</th>\n",
       "      <td>1</td>\n",
       "      <td>0</td>\n",
       "      <td>3</td>\n",
       "      <td>Braund, Mr. Owen Harris</td>\n",
       "      <td>male</td>\n",
       "      <td>22.0</td>\n",
       "      <td>1</td>\n",
       "      <td>0</td>\n",
       "      <td>A/5 21171</td>\n",
       "      <td>7.2500</td>\n",
       "      <td>NaN</td>\n",
       "      <td>S</td>\n",
       "    </tr>\n",
       "    <tr>\n",
       "      <th>1</th>\n",
       "      <td>2</td>\n",
       "      <td>1</td>\n",
       "      <td>1</td>\n",
       "      <td>Cumings, Mrs. John Bradley (Florence Briggs Th...</td>\n",
       "      <td>female</td>\n",
       "      <td>38.0</td>\n",
       "      <td>1</td>\n",
       "      <td>0</td>\n",
       "      <td>PC 17599</td>\n",
       "      <td>71.2833</td>\n",
       "      <td>C85</td>\n",
       "      <td>C</td>\n",
       "    </tr>\n",
       "    <tr>\n",
       "      <th>2</th>\n",
       "      <td>3</td>\n",
       "      <td>1</td>\n",
       "      <td>3</td>\n",
       "      <td>Heikkinen, Miss. Laina</td>\n",
       "      <td>female</td>\n",
       "      <td>26.0</td>\n",
       "      <td>0</td>\n",
       "      <td>0</td>\n",
       "      <td>STON/O2. 3101282</td>\n",
       "      <td>7.9250</td>\n",
       "      <td>NaN</td>\n",
       "      <td>S</td>\n",
       "    </tr>\n",
       "    <tr>\n",
       "      <th>3</th>\n",
       "      <td>4</td>\n",
       "      <td>1</td>\n",
       "      <td>1</td>\n",
       "      <td>Futrelle, Mrs. Jacques Heath (Lily May Peel)</td>\n",
       "      <td>female</td>\n",
       "      <td>35.0</td>\n",
       "      <td>1</td>\n",
       "      <td>0</td>\n",
       "      <td>113803</td>\n",
       "      <td>53.1000</td>\n",
       "      <td>C123</td>\n",
       "      <td>S</td>\n",
       "    </tr>\n",
       "    <tr>\n",
       "      <th>4</th>\n",
       "      <td>5</td>\n",
       "      <td>0</td>\n",
       "      <td>3</td>\n",
       "      <td>Allen, Mr. William Henry</td>\n",
       "      <td>male</td>\n",
       "      <td>35.0</td>\n",
       "      <td>0</td>\n",
       "      <td>0</td>\n",
       "      <td>373450</td>\n",
       "      <td>8.0500</td>\n",
       "      <td>NaN</td>\n",
       "      <td>S</td>\n",
       "    </tr>\n",
       "    <tr>\n",
       "      <th>5</th>\n",
       "      <td>6</td>\n",
       "      <td>0</td>\n",
       "      <td>3</td>\n",
       "      <td>Moran, Mr. James</td>\n",
       "      <td>male</td>\n",
       "      <td>NaN</td>\n",
       "      <td>0</td>\n",
       "      <td>0</td>\n",
       "      <td>330877</td>\n",
       "      <td>8.4583</td>\n",
       "      <td>NaN</td>\n",
       "      <td>Q</td>\n",
       "    </tr>\n",
       "    <tr>\n",
       "      <th>6</th>\n",
       "      <td>7</td>\n",
       "      <td>0</td>\n",
       "      <td>1</td>\n",
       "      <td>McCarthy, Mr. Timothy J</td>\n",
       "      <td>male</td>\n",
       "      <td>54.0</td>\n",
       "      <td>0</td>\n",
       "      <td>0</td>\n",
       "      <td>17463</td>\n",
       "      <td>51.8625</td>\n",
       "      <td>E46</td>\n",
       "      <td>S</td>\n",
       "    </tr>\n",
       "    <tr>\n",
       "      <th>7</th>\n",
       "      <td>8</td>\n",
       "      <td>0</td>\n",
       "      <td>3</td>\n",
       "      <td>Palsson, Master. Gosta Leonard</td>\n",
       "      <td>male</td>\n",
       "      <td>2.0</td>\n",
       "      <td>3</td>\n",
       "      <td>1</td>\n",
       "      <td>349909</td>\n",
       "      <td>21.0750</td>\n",
       "      <td>NaN</td>\n",
       "      <td>S</td>\n",
       "    </tr>\n",
       "    <tr>\n",
       "      <th>8</th>\n",
       "      <td>9</td>\n",
       "      <td>1</td>\n",
       "      <td>3</td>\n",
       "      <td>Johnson, Mrs. Oscar W (Elisabeth Vilhelmina Berg)</td>\n",
       "      <td>female</td>\n",
       "      <td>27.0</td>\n",
       "      <td>0</td>\n",
       "      <td>2</td>\n",
       "      <td>347742</td>\n",
       "      <td>11.1333</td>\n",
       "      <td>NaN</td>\n",
       "      <td>S</td>\n",
       "    </tr>\n",
       "    <tr>\n",
       "      <th>9</th>\n",
       "      <td>10</td>\n",
       "      <td>1</td>\n",
       "      <td>2</td>\n",
       "      <td>Nasser, Mrs. Nicholas (Adele Achem)</td>\n",
       "      <td>female</td>\n",
       "      <td>14.0</td>\n",
       "      <td>1</td>\n",
       "      <td>0</td>\n",
       "      <td>237736</td>\n",
       "      <td>30.0708</td>\n",
       "      <td>NaN</td>\n",
       "      <td>C</td>\n",
       "    </tr>\n",
       "  </tbody>\n",
       "</table>\n",
       "</div>"
      ],
      "text/plain": [
       "   PassengerId  Survived  Pclass  ...     Fare Cabin  Embarked\n",
       "0            1         0       3  ...   7.2500   NaN         S\n",
       "1            2         1       1  ...  71.2833   C85         C\n",
       "2            3         1       3  ...   7.9250   NaN         S\n",
       "3            4         1       1  ...  53.1000  C123         S\n",
       "4            5         0       3  ...   8.0500   NaN         S\n",
       "5            6         0       3  ...   8.4583   NaN         Q\n",
       "6            7         0       1  ...  51.8625   E46         S\n",
       "7            8         0       3  ...  21.0750   NaN         S\n",
       "8            9         1       3  ...  11.1333   NaN         S\n",
       "9           10         1       2  ...  30.0708   NaN         C\n",
       "\n",
       "[10 rows x 12 columns]"
      ]
     },
     "execution_count": 6,
     "metadata": {},
     "output_type": "execute_result"
    }
   ],
   "source": [
    "train_df = pd.read_csv('/content/CIHW2_Datasets/train.csv')\n",
    "train_df.head(10)"
   ]
  },
  {
   "cell_type": "code",
   "execution_count": 7,
   "metadata": {
    "colab": {
     "base_uri": "https://localhost:8080/"
    },
    "id": "F_j_SaqLLDPV",
    "outputId": "5e4952aa-703d-4d19-c6ef-0e20da9b7611"
   },
   "outputs": [
    {
     "name": "stdout",
     "output_type": "stream",
     "text": [
      "(891, 12)\n"
     ]
    }
   ],
   "source": [
    "print(train_df.shape)"
   ]
  },
  {
   "cell_type": "code",
   "execution_count": 8,
   "metadata": {
    "colab": {
     "base_uri": "https://localhost:8080/"
    },
    "id": "R_XYfC0YPYDr",
    "outputId": "fe3b8246-1afc-4697-d256-d1070022e9f8"
   },
   "outputs": [
    {
     "name": "stdout",
     "output_type": "stream",
     "text": [
      "shape of dataset:  (891, 12)\n",
      "\n",
      "col names:  Index(['PassengerId', 'Survived', 'Pclass', 'Name', 'Sex', 'Age', 'SibSp',\n",
      "       'Parch', 'Ticket', 'Fare', 'Cabin', 'Embarked'],\n",
      "      dtype='object')\n",
      "\n",
      "number of columns:  12\n",
      "\n",
      "colomns data types:\n",
      " PassengerId      int64\n",
      "Survived         int64\n",
      "Pclass           int64\n",
      "Name            object\n",
      "Sex             object\n",
      "Age            float64\n",
      "SibSp            int64\n",
      "Parch            int64\n",
      "Ticket          object\n",
      "Fare           float64\n",
      "Cabin           object\n",
      "Embarked        object\n",
      "dtype: object\n",
      " \n",
      "Count total missing values in a DataFrame:  866\n"
     ]
    }
   ],
   "source": [
    "print('shape of dataset: ', train_df.shape)\n",
    "print('\\ncol names: ', train_df.columns)\n",
    "print('\\nnumber of columns: ', len(train_df.columns))\n",
    "print('\\ncolomns data types:\\n', train_df.dtypes)\n",
    "# print('\\nmissing values:\\n', train_df.isnull().sum())\n",
    "print(\" \\nCount total missing values in a DataFrame: \", train_df.isnull().sum().sum())"
   ]
  },
  {
   "cell_type": "markdown",
   "metadata": {
    "id": "Ax6wBKH1pfVu"
   },
   "source": [
    "### Seeing the number of missing values in percent:"
   ]
  },
  {
   "cell_type": "code",
   "execution_count": 9,
   "metadata": {
    "colab": {
     "base_uri": "https://localhost:8080/",
     "height": 425
    },
    "id": "FJA63xpmpNBJ",
    "outputId": "5fdfb0a4-34e6-4eae-d93a-a50c6b2a1dc2"
   },
   "outputs": [
    {
     "data": {
      "text/html": [
       "<div>\n",
       "<style scoped>\n",
       "    .dataframe tbody tr th:only-of-type {\n",
       "        vertical-align: middle;\n",
       "    }\n",
       "\n",
       "    .dataframe tbody tr th {\n",
       "        vertical-align: top;\n",
       "    }\n",
       "\n",
       "    .dataframe thead th {\n",
       "        text-align: right;\n",
       "    }\n",
       "</style>\n",
       "<table border=\"1\" class=\"dataframe\">\n",
       "  <thead>\n",
       "    <tr style=\"text-align: right;\">\n",
       "      <th></th>\n",
       "      <th>Total missing values</th>\n",
       "      <th>In percent %</th>\n",
       "    </tr>\n",
       "  </thead>\n",
       "  <tbody>\n",
       "    <tr>\n",
       "      <th>Cabin</th>\n",
       "      <td>687</td>\n",
       "      <td>77.1</td>\n",
       "    </tr>\n",
       "    <tr>\n",
       "      <th>Age</th>\n",
       "      <td>177</td>\n",
       "      <td>19.9</td>\n",
       "    </tr>\n",
       "    <tr>\n",
       "      <th>Embarked</th>\n",
       "      <td>2</td>\n",
       "      <td>0.2</td>\n",
       "    </tr>\n",
       "    <tr>\n",
       "      <th>Fare</th>\n",
       "      <td>0</td>\n",
       "      <td>0.0</td>\n",
       "    </tr>\n",
       "    <tr>\n",
       "      <th>Ticket</th>\n",
       "      <td>0</td>\n",
       "      <td>0.0</td>\n",
       "    </tr>\n",
       "    <tr>\n",
       "      <th>Parch</th>\n",
       "      <td>0</td>\n",
       "      <td>0.0</td>\n",
       "    </tr>\n",
       "    <tr>\n",
       "      <th>SibSp</th>\n",
       "      <td>0</td>\n",
       "      <td>0.0</td>\n",
       "    </tr>\n",
       "    <tr>\n",
       "      <th>Sex</th>\n",
       "      <td>0</td>\n",
       "      <td>0.0</td>\n",
       "    </tr>\n",
       "    <tr>\n",
       "      <th>Name</th>\n",
       "      <td>0</td>\n",
       "      <td>0.0</td>\n",
       "    </tr>\n",
       "    <tr>\n",
       "      <th>Pclass</th>\n",
       "      <td>0</td>\n",
       "      <td>0.0</td>\n",
       "    </tr>\n",
       "    <tr>\n",
       "      <th>Survived</th>\n",
       "      <td>0</td>\n",
       "      <td>0.0</td>\n",
       "    </tr>\n",
       "    <tr>\n",
       "      <th>PassengerId</th>\n",
       "      <td>0</td>\n",
       "      <td>0.0</td>\n",
       "    </tr>\n",
       "  </tbody>\n",
       "</table>\n",
       "</div>"
      ],
      "text/plain": [
       "             Total missing values  In percent %\n",
       "Cabin                         687          77.1\n",
       "Age                           177          19.9\n",
       "Embarked                        2           0.2\n",
       "Fare                            0           0.0\n",
       "Ticket                          0           0.0\n",
       "Parch                           0           0.0\n",
       "SibSp                           0           0.0\n",
       "Sex                             0           0.0\n",
       "Name                            0           0.0\n",
       "Pclass                          0           0.0\n",
       "Survived                        0           0.0\n",
       "PassengerId                     0           0.0"
      ]
     },
     "execution_count": 9,
     "metadata": {},
     "output_type": "execute_result"
    }
   ],
   "source": [
    "total = train_df.isnull().sum().sort_values(ascending=False)\n",
    "percent_1 = train_df.isnull().sum()/train_df.isnull().count()*100\n",
    "percent_2 = (round(percent_1, 1)).sort_values(ascending=False)\n",
    "missing_data = pd.concat([total, percent_2], axis=1, keys=['Total missing values', 'In percent %'])\n",
    "missing_data"
   ]
  },
  {
   "cell_type": "code",
   "execution_count": 10,
   "metadata": {
    "colab": {
     "base_uri": "https://localhost:8080/",
     "height": 299
    },
    "id": "UBc2oqmro4Ej",
    "outputId": "ffcc8028-d134-476f-ebde-7e7d1742b877"
   },
   "outputs": [
    {
     "data": {
      "text/html": [
       "<div>\n",
       "<style scoped>\n",
       "    .dataframe tbody tr th:only-of-type {\n",
       "        vertical-align: middle;\n",
       "    }\n",
       "\n",
       "    .dataframe tbody tr th {\n",
       "        vertical-align: top;\n",
       "    }\n",
       "\n",
       "    .dataframe thead th {\n",
       "        text-align: right;\n",
       "    }\n",
       "</style>\n",
       "<table border=\"1\" class=\"dataframe\">\n",
       "  <thead>\n",
       "    <tr style=\"text-align: right;\">\n",
       "      <th></th>\n",
       "      <th>PassengerId</th>\n",
       "      <th>Survived</th>\n",
       "      <th>Pclass</th>\n",
       "      <th>Age</th>\n",
       "      <th>SibSp</th>\n",
       "      <th>Parch</th>\n",
       "      <th>Fare</th>\n",
       "    </tr>\n",
       "  </thead>\n",
       "  <tbody>\n",
       "    <tr>\n",
       "      <th>count</th>\n",
       "      <td>891.000000</td>\n",
       "      <td>891.000000</td>\n",
       "      <td>891.000000</td>\n",
       "      <td>714.000000</td>\n",
       "      <td>891.000000</td>\n",
       "      <td>891.000000</td>\n",
       "      <td>891.000000</td>\n",
       "    </tr>\n",
       "    <tr>\n",
       "      <th>mean</th>\n",
       "      <td>446.000000</td>\n",
       "      <td>0.383838</td>\n",
       "      <td>2.308642</td>\n",
       "      <td>29.699118</td>\n",
       "      <td>0.523008</td>\n",
       "      <td>0.381594</td>\n",
       "      <td>32.204208</td>\n",
       "    </tr>\n",
       "    <tr>\n",
       "      <th>std</th>\n",
       "      <td>257.353842</td>\n",
       "      <td>0.486592</td>\n",
       "      <td>0.836071</td>\n",
       "      <td>14.526497</td>\n",
       "      <td>1.102743</td>\n",
       "      <td>0.806057</td>\n",
       "      <td>49.693429</td>\n",
       "    </tr>\n",
       "    <tr>\n",
       "      <th>min</th>\n",
       "      <td>1.000000</td>\n",
       "      <td>0.000000</td>\n",
       "      <td>1.000000</td>\n",
       "      <td>0.420000</td>\n",
       "      <td>0.000000</td>\n",
       "      <td>0.000000</td>\n",
       "      <td>0.000000</td>\n",
       "    </tr>\n",
       "    <tr>\n",
       "      <th>25%</th>\n",
       "      <td>223.500000</td>\n",
       "      <td>0.000000</td>\n",
       "      <td>2.000000</td>\n",
       "      <td>20.125000</td>\n",
       "      <td>0.000000</td>\n",
       "      <td>0.000000</td>\n",
       "      <td>7.910400</td>\n",
       "    </tr>\n",
       "    <tr>\n",
       "      <th>50%</th>\n",
       "      <td>446.000000</td>\n",
       "      <td>0.000000</td>\n",
       "      <td>3.000000</td>\n",
       "      <td>28.000000</td>\n",
       "      <td>0.000000</td>\n",
       "      <td>0.000000</td>\n",
       "      <td>14.454200</td>\n",
       "    </tr>\n",
       "    <tr>\n",
       "      <th>75%</th>\n",
       "      <td>668.500000</td>\n",
       "      <td>1.000000</td>\n",
       "      <td>3.000000</td>\n",
       "      <td>38.000000</td>\n",
       "      <td>1.000000</td>\n",
       "      <td>0.000000</td>\n",
       "      <td>31.000000</td>\n",
       "    </tr>\n",
       "    <tr>\n",
       "      <th>max</th>\n",
       "      <td>891.000000</td>\n",
       "      <td>1.000000</td>\n",
       "      <td>3.000000</td>\n",
       "      <td>80.000000</td>\n",
       "      <td>8.000000</td>\n",
       "      <td>6.000000</td>\n",
       "      <td>512.329200</td>\n",
       "    </tr>\n",
       "  </tbody>\n",
       "</table>\n",
       "</div>"
      ],
      "text/plain": [
       "       PassengerId    Survived      Pclass  ...       SibSp       Parch        Fare\n",
       "count   891.000000  891.000000  891.000000  ...  891.000000  891.000000  891.000000\n",
       "mean    446.000000    0.383838    2.308642  ...    0.523008    0.381594   32.204208\n",
       "std     257.353842    0.486592    0.836071  ...    1.102743    0.806057   49.693429\n",
       "min       1.000000    0.000000    1.000000  ...    0.000000    0.000000    0.000000\n",
       "25%     223.500000    0.000000    2.000000  ...    0.000000    0.000000    7.910400\n",
       "50%     446.000000    0.000000    3.000000  ...    0.000000    0.000000   14.454200\n",
       "75%     668.500000    1.000000    3.000000  ...    1.000000    0.000000   31.000000\n",
       "max     891.000000    1.000000    3.000000  ...    8.000000    6.000000  512.329200\n",
       "\n",
       "[8 rows x 7 columns]"
      ]
     },
     "execution_count": 10,
     "metadata": {},
     "output_type": "execute_result"
    }
   ],
   "source": [
    "train_df.describe()"
   ]
  },
  {
   "cell_type": "markdown",
   "metadata": {
    "id": "2QVwaH-QvT6A"
   },
   "source": [
    "## Data Preprocessing:"
   ]
  },
  {
   "cell_type": "markdown",
   "metadata": {
    "id": "EMVmv6dreruO"
   },
   "source": [
    "### Handling Missing data and data cleaning:"
   ]
  },
  {
   "cell_type": "code",
   "execution_count": 11,
   "metadata": {
    "colab": {
     "base_uri": "https://localhost:8080/"
    },
    "id": "fxb2WkYgVLoz",
    "outputId": "c513a9c9-f884-4d83-9547-fbb7b51ba577"
   },
   "outputs": [
    {
     "name": "stdout",
     "output_type": "stream",
     "text": [
      "shape of dataset:  (891, 8)\n",
      "\n",
      "col names:  Index(['Survived', 'Pclass', 'Sex', 'Age', 'SibSp', 'Parch', 'Fare',\n",
      "       'Embarked'],\n",
      "      dtype='object')\n"
     ]
    }
   ],
   "source": [
    "\"\"\"At first, we delete cabin column becuase it has so much missing data and we can't do any thing to fix this problem, e.g: data imputation. \n",
    "   Also we delete passenger's ID from dataset beacuse it cuases the model to overfit due to uniqueness of this columns's values and it does not contribute to a persons survival probability.\n",
    "   Name column is also like passenger's ID.\n",
    "\"\"\"\n",
    "train_df = train_df.drop(['Cabin', 'PassengerId', 'Name', 'Ticket'], axis = 1)\n",
    "print('shape of dataset: ', train_df.shape)\n",
    "print('\\ncol names: ', train_df.columns)"
   ]
  },
  {
   "cell_type": "markdown",
   "metadata": {
    "id": "OmE9n_TNcgqr"
   },
   "source": [
    "### Handling Age column missing data and catagorize it's values:"
   ]
  },
  {
   "cell_type": "code",
   "execution_count": 12,
   "metadata": {
    "colab": {
     "base_uri": "https://localhost:8080/"
    },
    "id": "A1VX3zMThJIq",
    "outputId": "2e447c95-2a90-4d66-c411-1f2126e40a7b"
   },
   "outputs": [
    {
     "data": {
      "text/plain": [
       "0      22.000000\n",
       "1      38.000000\n",
       "2      26.000000\n",
       "3      35.000000\n",
       "4      35.000000\n",
       "         ...    \n",
       "886    27.000000\n",
       "887    19.000000\n",
       "888    29.699118\n",
       "889    26.000000\n",
       "890    32.000000\n",
       "Name: Age, Length: 891, dtype: float64"
      ]
     },
     "execution_count": 12,
     "metadata": {},
     "output_type": "execute_result"
    }
   ],
   "source": [
    "\"\"\"About Age feature, we use data imputation beacuse we have some information about this column. \"\"\"\n",
    "train_df['Age'] = train_df['Age'].replace(np.NaN, train_df['Age'].mean() )\n",
    "train_df['Age']"
   ]
  },
  {
   "cell_type": "code",
   "execution_count": 13,
   "metadata": {
    "colab": {
     "base_uri": "https://localhost:8080/"
    },
    "id": "0s8eT2Z3VAog",
    "outputId": "f2ecf8a7-3bba-4aa0-f369-0573e925fbcc"
   },
   "outputs": [
    {
     "data": {
      "text/plain": [
       "0      1.0\n",
       "1      3.0\n",
       "2      2.0\n",
       "3      3.0\n",
       "4      3.0\n",
       "      ... \n",
       "886    2.0\n",
       "887    0.0\n",
       "888    2.0\n",
       "889    2.0\n",
       "890    3.0\n",
       "Name: Age, Length: 891, dtype: float64"
      ]
     },
     "execution_count": 13,
     "metadata": {},
     "output_type": "execute_result"
    }
   ],
   "source": [
    "# creating categories for age column.\n",
    "train_df.loc[ train_df['Age'] <= 19, 'Age'] = 0\n",
    "train_df.loc[(train_df['Age'] > 19) & (train_df['Age'] <= 25), 'Age'] = 1\n",
    "train_df.loc[(train_df['Age'] > 25) & (train_df['Age'] <= 31.8), 'Age'] = 2\n",
    "train_df.loc[(train_df['Age'] > 31.8) & (train_df['Age'] <= 41), 'Age'] = 3\n",
    "train_df.loc[train_df['Age'] > 41, 'Age'] = 4\n",
    "    \n",
    "train_df['Age']"
   ]
  },
  {
   "cell_type": "code",
   "execution_count": 14,
   "metadata": {
    "colab": {
     "base_uri": "https://localhost:8080/"
    },
    "id": "M1Mu52HocHh8",
    "outputId": "b203d6f7-b484-4232-e1d9-94c8f71701dc"
   },
   "outputs": [
    {
     "data": {
      "text/plain": [
       "2.0    304\n",
       "0.0    164\n",
       "3.0    144\n",
       "4.0    142\n",
       "1.0    137\n",
       "Name: Age, dtype: int64"
      ]
     },
     "execution_count": 14,
     "metadata": {},
     "output_type": "execute_result"
    }
   ],
   "source": [
    "# we will print number of samples per each catagory.\n",
    "train_df['Age'].value_counts()"
   ]
  },
  {
   "cell_type": "markdown",
   "metadata": {
    "id": "RRVYeKe3rOiA"
   },
   "source": [
    "#### Handeling Embarked colomn missing data: "
   ]
  },
  {
   "cell_type": "code",
   "execution_count": 15,
   "metadata": {
    "colab": {
     "base_uri": "https://localhost:8080/"
    },
    "id": "qsOYPlYlrOJU",
    "outputId": "cf0503a7-84b2-4521-a238-faf62bde1cc6"
   },
   "outputs": [
    {
     "data": {
      "text/plain": [
       "count     889\n",
       "unique      3\n",
       "top         S\n",
       "freq      644\n",
       "Name: Embarked, dtype: object"
      ]
     },
     "execution_count": 15,
     "metadata": {},
     "output_type": "execute_result"
    }
   ],
   "source": [
    "train_df['Embarked'].describe()"
   ]
  },
  {
   "cell_type": "code",
   "execution_count": 16,
   "metadata": {
    "colab": {
     "base_uri": "https://localhost:8080/"
    },
    "id": "Yx78u5NSr8rX",
    "outputId": "06a5b7ba-33c4-451b-d659-e12eebd798f7"
   },
   "outputs": [
    {
     "data": {
      "text/plain": [
       "count     891\n",
       "unique      3\n",
       "top         S\n",
       "freq      646\n",
       "Name: Embarked, dtype: object"
      ]
     },
     "execution_count": 16,
     "metadata": {},
     "output_type": "execute_result"
    }
   ],
   "source": [
    "\"\"\" due to freaquency of 'S' in this column and becasue we have 2 missing data, we replace them with most freaquent one.\"\"\"\n",
    "train_df['Embarked'] = train_df['Embarked'].fillna('S')       # fillna fills null or missing values with specific value.\n",
    "train_df['Embarked'].describe()"
   ]
  },
  {
   "cell_type": "markdown",
   "metadata": {
    "id": "ISn8CK6Lvl4i"
   },
   "source": [
    "### Encoding and converting catagorical values to numerical values:"
   ]
  },
  {
   "cell_type": "markdown",
   "metadata": {
    "id": "0mrsMHel6Xzc"
   },
   "source": [
    "Usually Algorithems Work better with numerical values, so we must convert this catagorical values to numerical values to achive maximum accuracy"
   ]
  },
  {
   "cell_type": "code",
   "execution_count": 17,
   "metadata": {
    "id": "t_RJMFwlvXek"
   },
   "outputs": [],
   "source": [
    "Embarked_encodings = {'S': 0, 'C': 1, 'Q': 2}\n",
    "gender_encodings = {'male' : 0,'female' : 1}\n",
    "train_df['Embarked'] = train_df['Embarked'].map(Embarked_encodings)\n",
    "train_df['Sex'] = train_df['Sex'].map(gender_encodings)"
   ]
  },
  {
   "cell_type": "markdown",
   "metadata": {
    "id": "cqJ-tLGk-MeZ"
   },
   "source": [
    "As shown in below statement, we converted all of colomns to numrical data that we can use them to train models and fixed missing data problem:"
   ]
  },
  {
   "cell_type": "code",
   "execution_count": 18,
   "metadata": {
    "colab": {
     "base_uri": "https://localhost:8080/"
    },
    "id": "FBLrsRSQME2D",
    "outputId": "b2255893-64fe-4d97-8869-3bbc032ee992"
   },
   "outputs": [
    {
     "name": "stdout",
     "output_type": "stream",
     "text": [
      "\n",
      "colomns data types:\n",
      " Survived      int64\n",
      "Pclass        int64\n",
      "Sex           int64\n",
      "Age         float64\n",
      "SibSp         int64\n",
      "Parch         int64\n",
      "Fare        float64\n",
      "Embarked      int64\n",
      "dtype: object\n",
      "\n",
      "missing values:\n",
      " Survived    0\n",
      "Pclass      0\n",
      "Sex         0\n",
      "Age         0\n",
      "SibSp       0\n",
      "Parch       0\n",
      "Fare        0\n",
      "Embarked    0\n",
      "dtype: int64\n"
     ]
    }
   ],
   "source": [
    "print('\\ncolomns data types:\\n', train_df.dtypes)\n",
    "print('\\nmissing values:\\n', train_df.isnull().sum())"
   ]
  },
  {
   "cell_type": "markdown",
   "metadata": {
    "id": "v6ec3bcuVDjG"
   },
   "source": [
    "## Spliting features and labels from dataset:"
   ]
  },
  {
   "cell_type": "code",
   "execution_count": 19,
   "metadata": {
    "colab": {
     "base_uri": "https://localhost:8080/"
    },
    "id": "zD_B-mZmRaYC",
    "outputId": "e53ad524-9c7a-4626-d474-da0ad1c81a4f"
   },
   "outputs": [
    {
     "name": "stdout",
     "output_type": "stream",
     "text": [
      "(891, 7) (891,)\n"
     ]
    }
   ],
   "source": [
    "train_y_df = train_df.iloc[:, 1]   # all rows from col number 1.\n",
    "train_X_df = train_df.drop(['Survived'], axis = 1)  # spliting Survived column from features dataset.\n",
    "print(train_X_df.shape, train_y_df.shape)"
   ]
  },
  {
   "cell_type": "code",
   "execution_count": 20,
   "metadata": {
    "colab": {
     "base_uri": "https://localhost:8080/"
    },
    "id": "W8OxCb_gOIPd",
    "outputId": "ae167473-f687-4db0-f681-8ebe5f756113"
   },
   "outputs": [
    {
     "name": "stdout",
     "output_type": "stream",
     "text": [
      "Sample train features: \n",
      " [[  1.       1.       4.       1.       1.     164.8667   0.    ]\n",
      " [  2.       0.       1.       1.       2.      41.5792   1.    ]\n",
      " [  3.       0.       2.       0.       0.       8.05     0.    ]]\n",
      "\n",
      "Sample train labels:  [1 2 3]\n"
     ]
    }
   ],
   "source": [
    "train_X, validation_X, train_y, validation_y = train_test_split(train_X_df.to_numpy(), train_y_df.to_numpy(), train_size=0.85, random_state=2021)\n",
    "print('Sample train features: \\n', train_X[:3])\n",
    "print('\\nSample train labels: ', train_y[:3])"
   ]
  },
  {
   "cell_type": "code",
   "execution_count": 21,
   "metadata": {
    "colab": {
     "base_uri": "https://localhost:8080/"
    },
    "id": "8Ez-G3VmPD6X",
    "outputId": "f11ff478-4d09-47ea-d7e1-18ad31bcb549"
   },
   "outputs": [
    {
     "name": "stdout",
     "output_type": "stream",
     "text": [
      "(757, 7)\n",
      "(134, 7)\n",
      "(757,)\n",
      "(134,)\n"
     ]
    }
   ],
   "source": [
    "print(train_X.shape)\n",
    "print(validation_X.shape)\n",
    "print(train_y.shape)\n",
    "print(validation_y.shape)"
   ]
  },
  {
   "cell_type": "markdown",
   "metadata": {
    "id": "Wq1roPBa4B4s"
   },
   "source": [
    "## k-Nearest Neighbors implementation:\n"
   ]
  },
  {
   "cell_type": "code",
   "execution_count": 22,
   "metadata": {
    "id": "XKeFOrNNjPbw"
   },
   "outputs": [],
   "source": [
    "class KNN_Classifier:\n",
    "\n",
    "    def __init__(self, train_X, train_y, K=5):\n",
    "\n",
    "        self.K = K\n",
    "        self.train_X = train_X\n",
    "        self.train_y = train_y\n",
    "\n",
    "    #calculates euclidean_distance between 2 datapoints.\n",
    "    def eucledian(self, point1, point2):\n",
    "        return np.sqrt(np.sum((point1 - point2) ** 2))\n",
    "\n",
    "    def get_neighbors(self, current_datapoint):\n",
    "        dist_from_neighbors = []\n",
    "        for neighbor_idx, train_row in enumerate (self.train_X):\n",
    "            # calcualating the eucledian error from current data point to one of the datapoints in train dataset.\n",
    "            dist = self.eucledian(current_datapoint, train_row)\n",
    "            dist_from_neighbors.append({'neighbor_index': neighbor_idx, 'dist_value':dist})\n",
    "        # sorting dist_from_neighbors according to the eucledian error.\n",
    "        dist_from_neighbors.sort(key=lambda dists: dists['dist_value'])   # key - function that serves as a key for the sort comparison.\n",
    "        # returning the k-nearest neighbors of current_datapoint using hyperparammeter K. \n",
    "        return dist_from_neighbors[:self.K]\n",
    "\n",
    "    def predict(self, datapoint_X):\n",
    "        neighbors = self.get_neighbors(datapoint_X)\n",
    "        # extracting neighbors indexes and mapping them to their corresponding labels in train_y. \n",
    "        neighbor_labels = self.train_y[[element['neighbor_index'] for element in neighbors]]\n",
    "        neighbor_labels = neighbor_labels.astype(np.int32)\n",
    "         #Majority voting (counting frequent label in k nearest neighbors)\n",
    "        prediction = np.bincount(neighbor_labels).argmax()\n",
    "        return prediction\n",
    "\n",
    "    # this function runs algo on the set of input data(validation or test data).\n",
    "    def k_nearest_neighbors_run(self, validation_data):\n",
    "        predictions = []\n",
    "        for datapoint in validation_data:\n",
    "            output = self.predict(datapoint)\n",
    "            predictions.append(output)\n",
    "        return np.array(predictions)\n",
    "\n",
    "    # this function calcualtes score(accuracy) of the model.  \n",
    "    def accuracy_metric(self, actual, predicted):\n",
    "        correct_count = np.unique((actual == predicted), return_counts=True)[1][1]\n",
    "        return correct_count / float(actual.shape[0]) * 100.0\n",
    "    "
   ]
  },
  {
   "cell_type": "markdown",
   "metadata": {
    "id": "jdzGKtln5WE3"
   },
   "source": [
    "### KNN Evaluation:"
   ]
  },
  {
   "cell_type": "code",
   "execution_count": 23,
   "metadata": {
    "colab": {
     "base_uri": "https://localhost:8080/"
    },
    "id": "ixu0fmBgWTob",
    "outputId": "d27c1b6a-c8e1-4cc9-929c-d0dd04cc46c0"
   },
   "outputs": [
    {
     "name": "stdout",
     "output_type": "stream",
     "text": [
      "some prediction on training data:\n",
      "Actual label: 1,  Predicted label: 1\n",
      "Actual label: 2,  Predicted label: 2\n",
      "Actual label: 3,  Predicted label: 3\n",
      "Actual label: 3,  Predicted label: 2\n",
      "Actual label: 3,  Predicted label: 3\n",
      "Actual label: 1,  Predicted label: 1\n",
      "Actual label: 1,  Predicted label: 1\n",
      "Actual label: 3,  Predicted label: 3\n",
      "Actual label: 3,  Predicted label: 3\n",
      "Actual label: 1,  Predicted label: 1\n",
      "Actual label: 3,  Predicted label: 3\n",
      "Actual label: 3,  Predicted label: 3\n",
      "Actual label: 1,  Predicted label: 1\n",
      "Actual label: 2,  Predicted label: 2\n",
      "Actual label: 1,  Predicted label: 1\n",
      "Actual label: 1,  Predicted label: 1\n",
      "Actual label: 3,  Predicted label: 3\n",
      "Actual label: 3,  Predicted label: 3\n",
      "Actual label: 3,  Predicted label: 3\n",
      "Actual label: 3,  Predicted label: 3\n",
      "Actual label: 3,  Predicted label: 1\n",
      "Actual label: 3,  Predicted label: 3\n",
      "Actual label: 3,  Predicted label: 3\n",
      "Actual label: 3,  Predicted label: 3\n",
      "Actual label: 1,  Predicted label: 1\n"
     ]
    }
   ],
   "source": [
    "knn_model = KNN_Classifier(train_X, train_y, K=3)\n",
    "print('some prediction on training data:')\n",
    "for sample_idx in range(25):\n",
    "    prediction = knn_model.predict(train_X[sample_idx])\n",
    "    print('Actual label: {},  Predicted label: {}'.format(train_y[sample_idx], prediction))"
   ]
  },
  {
   "cell_type": "code",
   "execution_count": 24,
   "metadata": {
    "colab": {
     "base_uri": "https://localhost:8080/"
    },
    "id": "nfBT7_LUtLS4",
    "outputId": "6ede5e9d-fca5-415b-e8f0-5d2b5e970144"
   },
   "outputs": [
    {
     "name": "stdout",
     "output_type": "stream",
     "text": [
      "Accuracy on train data:  97.88639365918098\n"
     ]
    }
   ],
   "source": [
    "predictions = knn_model.k_nearest_neighbors_run(train_X)\n",
    "print('Accuracy on train data: ', knn_model.accuracy_metric(train_y, predictions))"
   ]
  },
  {
   "cell_type": "code",
   "execution_count": 25,
   "metadata": {
    "colab": {
     "base_uri": "https://localhost:8080/"
    },
    "id": "Pfq-CfdO2FtM",
    "outputId": "f79da01d-f2aa-46ff-ff00-b15a371df656"
   },
   "outputs": [
    {
     "name": "stdout",
     "output_type": "stream",
     "text": [
      "Actual validation labels: \n",
      " [3 3 2 3 3 3 1 3 2 3]\n",
      "\n",
      "Predicted validation labels: \n",
      " [3 3 2 3 2 3 1 3 2 3]\n",
      "\n",
      "Accuracy on validation data:  95.52238805970148\n"
     ]
    }
   ],
   "source": [
    "predictions = knn_model.k_nearest_neighbors_run(validation_X)\n",
    "print('Actual validation labels: \\n', validation_y[:10])\n",
    "print('\\nPredicted validation labels: \\n', predictions[:10])\n",
    "\n",
    "print('\\nAccuracy on validation data: ', knn_model.accuracy_metric(validation_y, predictions))"
   ]
  },
  {
   "cell_type": "code",
   "execution_count": 26,
   "metadata": {
    "colab": {
     "base_uri": "https://localhost:8080/"
    },
    "id": "VLERZJpYReMt",
    "outputId": "17619b02-c19b-443e-fc44-80a9fbe3dcf8"
   },
   "outputs": [
    {
     "name": "stdout",
     "output_type": "stream",
     "text": [
      "confusion matrix for validation data KNN model: \n",
      " [[24  0  0]\n",
      " [ 1 25  2]\n",
      " [ 0  3 79]]\n",
      "\n",
      "               precision    recall  f1-score   support\n",
      "\n",
      "           1       0.96      1.00      0.98        24\n",
      "           2       0.89      0.89      0.89        28\n",
      "           3       0.98      0.96      0.97        82\n",
      "\n",
      "    accuracy                           0.96       134\n",
      "   macro avg       0.94      0.95      0.95       134\n",
      "weighted avg       0.96      0.96      0.96       134\n",
      "\n"
     ]
    }
   ],
   "source": [
    "print('confusion matrix for validation data KNN model: \\n', confusion_matrix(validation_y, predictions))\n",
    "print('\\n', classification_report(validation_y, predictions))"
   ]
  },
  {
   "cell_type": "markdown",
   "metadata": {
    "id": "p6X5nx4dZsCx"
   },
   "source": [
    "## SVM implementation:"
   ]
  },
  {
   "cell_type": "markdown",
   "metadata": {
    "id": "9XiLLAlk9XjY"
   },
   "source": [
    "### implemented using linear kernel:"
   ]
  },
  {
   "cell_type": "code",
   "execution_count": 27,
   "metadata": {
    "colab": {
     "base_uri": "https://localhost:8080/"
    },
    "id": "wrvLLnF2ZwMf",
    "outputId": "6db9f12f-1008-45a4-d61a-ab696a47738d"
   },
   "outputs": [
    {
     "data": {
      "text/plain": [
       "SVC(C=1.0, break_ties=False, cache_size=200, class_weight=None, coef0=0.0,\n",
       "    decision_function_shape='ovr', degree=3, gamma='scale', kernel='linear',\n",
       "    max_iter=-1, probability=False, random_state=None, shrinking=True,\n",
       "    tol=0.001, verbose=False)"
      ]
     },
     "execution_count": 27,
     "metadata": {},
     "output_type": "execute_result"
    }
   ],
   "source": [
    "from sklearn import svm\n",
    "\n",
    "# training svm model on training data (with linear kernel.)\n",
    "svm_model = svm.SVC(kernel='linear')\n",
    "svm_model.fit(train_X, train_y)     # fit function trains model (updates model's weights)"
   ]
  },
  {
   "cell_type": "code",
   "execution_count": 28,
   "metadata": {
    "colab": {
     "base_uri": "https://localhost:8080/"
    },
    "id": "_sqT6SS25B1p",
    "outputId": "28ba3f77-46f5-40bc-8f26-55dd2ce050f3"
   },
   "outputs": [
    {
     "name": "stdout",
     "output_type": "stream",
     "text": [
      "Actual validation data:\n",
      " [3 3 2 3 3 3 1 3 2 3]\n",
      "\n",
      "Predicted on validation data:\n",
      " [3 3 2 3 3 3 1 3 2 3]\n",
      "\n",
      "Accuracy on validation data: 100.0\n"
     ]
    }
   ],
   "source": [
    "y_pred_validation = svm_model.predict(validation_X)\n",
    "print('Actual validation data:\\n',validation_y[:10])\n",
    "print('\\nPredicted on validation data:\\n', y_pred_validation[:10])\n",
    "print(\"\\nAccuracy on validation data:\",metrics.accuracy_score(validation_y, y_pred_validation) * 100)"
   ]
  },
  {
   "cell_type": "code",
   "execution_count": 29,
   "metadata": {
    "colab": {
     "base_uri": "https://localhost:8080/"
    },
    "id": "7W7iqmtF6in1",
    "outputId": "d0a5b617-0730-4402-a53a-b219d685da13"
   },
   "outputs": [
    {
     "name": "stdout",
     "output_type": "stream",
     "text": [
      "confusion matrix for validation data: \n",
      " [[24  0  0]\n",
      " [ 0 28  0]\n",
      " [ 0  0 82]]\n",
      "\n",
      "               precision    recall  f1-score   support\n",
      "\n",
      "           1       1.00      1.00      1.00        24\n",
      "           2       1.00      1.00      1.00        28\n",
      "           3       1.00      1.00      1.00        82\n",
      "\n",
      "    accuracy                           1.00       134\n",
      "   macro avg       1.00      1.00      1.00       134\n",
      "weighted avg       1.00      1.00      1.00       134\n",
      "\n"
     ]
    }
   ],
   "source": [
    "print('confusion matrix for validation data: \\n', confusion_matrix(validation_y, y_pred_validation))\n",
    "print('\\n', classification_report(validation_y, y_pred_validation))"
   ]
  },
  {
   "cell_type": "markdown",
   "metadata": {
    "id": "hFWVpXdXZ0p7"
   },
   "source": [
    "As we can see the score of validation data is 1 (100 percent) for SVM model and is little bit tricky so we can use cross validation to check the performance of alogritem in detail."
   ]
  },
  {
   "cell_type": "code",
   "execution_count": 30,
   "metadata": {
    "colab": {
     "base_uri": "https://localhost:8080/"
    },
    "id": "pvx0qIU8Yp8c",
    "outputId": "cfbc6999-2f47-44e7-96e7-a5e63a174725"
   },
   "outputs": [
    {
     "name": "stdout",
     "output_type": "stream",
     "text": [
      "[1.         1.         0.88888889 1.         1.        ]\n",
      "\n",
      "cross validation mean score:  0.9777777777777779\n"
     ]
    }
   ],
   "source": [
    "cv = cross_val_score(svm_model,validation_X, validation_y, cv=5) # 5 fold cross validation on SVM with linear kernel. \n",
    "print(cv)\n",
    "print('\\ncross validation mean score: ', cv.mean())"
   ]
  },
  {
   "cell_type": "markdown",
   "metadata": {
    "id": "xwRSahmD9inM"
   },
   "source": [
    "### Implemented using RBF kernel:"
   ]
  },
  {
   "cell_type": "code",
   "execution_count": 31,
   "metadata": {
    "colab": {
     "base_uri": "https://localhost:8080/"
    },
    "id": "MsV8DA_y74EK",
    "outputId": "350c2a52-518f-4c48-ddf3-e6e6e0b7467e"
   },
   "outputs": [
    {
     "data": {
      "text/plain": [
       "SVC(C=1.0, break_ties=False, cache_size=200, class_weight=None, coef0=0.0,\n",
       "    decision_function_shape='ovr', degree=3, gamma='scale', kernel='rbf',\n",
       "    max_iter=-1, probability=False, random_state=None, shrinking=True,\n",
       "    tol=0.001, verbose=False)"
      ]
     },
     "execution_count": 31,
     "metadata": {},
     "output_type": "execute_result"
    }
   ],
   "source": [
    "# training svm model on training data (with RBF kernel.)\n",
    "svm_model_RBF = svm.SVC(kernel='rbf')\n",
    "svm_model_RBF.fit(train_X, train_y)"
   ]
  },
  {
   "cell_type": "code",
   "execution_count": 32,
   "metadata": {
    "colab": {
     "base_uri": "https://localhost:8080/"
    },
    "id": "q9H15-w074EL",
    "outputId": "bbd8f0ba-a9f3-4e7b-b06b-620aa6babd8a"
   },
   "outputs": [
    {
     "name": "stdout",
     "output_type": "stream",
     "text": [
      "Actual validation data:\n",
      " [3 3 2 3 3 3 1 3 2 3]\n",
      "\n",
      "Predicted on validation data:\n",
      " [3 3 3 3 3 3 1 3 3 3]\n",
      "\n",
      "Accuracy on validation data: 70.8955223880597\n"
     ]
    }
   ],
   "source": [
    "y_pred_validation = svm_model_RBF.predict(validation_X)\n",
    "print('Actual validation data:\\n',validation_y[:10])\n",
    "print('\\nPredicted on validation data:\\n', y_pred_validation[:10])\n",
    "print(\"\\nAccuracy on validation data:\",metrics.accuracy_score(validation_y, y_pred_validation) * 100)"
   ]
  },
  {
   "cell_type": "code",
   "execution_count": 33,
   "metadata": {
    "colab": {
     "base_uri": "https://localhost:8080/"
    },
    "id": "VMMRswnb74EL",
    "outputId": "11405101-b483-4d4e-bd3a-62fd499286ef"
   },
   "outputs": [
    {
     "name": "stdout",
     "output_type": "stream",
     "text": [
      "confusion matrix for validation data: \n",
      " [[19  0  5]\n",
      " [ 2  0 26]\n",
      " [ 6  0 76]]\n",
      "\n",
      "               precision    recall  f1-score   support\n",
      "\n",
      "           1       0.70      0.79      0.75        24\n",
      "           2       0.00      0.00      0.00        28\n",
      "           3       0.71      0.93      0.80        82\n",
      "\n",
      "    accuracy                           0.71       134\n",
      "   macro avg       0.47      0.57      0.52       134\n",
      "weighted avg       0.56      0.71      0.63       134\n",
      "\n"
     ]
    },
    {
     "name": "stderr",
     "output_type": "stream",
     "text": [
      "/usr/local/lib/python3.7/dist-packages/sklearn/metrics/_classification.py:1272: UndefinedMetricWarning: Precision and F-score are ill-defined and being set to 0.0 in labels with no predicted samples. Use `zero_division` parameter to control this behavior.\n",
      "  _warn_prf(average, modifier, msg_start, len(result))\n"
     ]
    }
   ],
   "source": [
    "print('confusion matrix for validation data: \\n', confusion_matrix(validation_y, y_pred_validation))\n",
    "print('\\n', classification_report(validation_y, y_pred_validation))"
   ]
  },
  {
   "cell_type": "markdown",
   "metadata": {
    "id": "kwLhcFKi_PCo"
   },
   "source": [
    "## Evaluation of trained models on test data:"
   ]
  },
  {
   "cell_type": "markdown",
   "metadata": {
    "id": "lC9rQt8h_k1e"
   },
   "source": [
    "first we must load test data and apply preprocesses on it."
   ]
  },
  {
   "cell_type": "code",
   "execution_count": 34,
   "metadata": {
    "colab": {
     "base_uri": "https://localhost:8080/"
    },
    "id": "7wz684qN--Ge",
    "outputId": "cd882f93-0c48-45c9-fd84-2ee8db5a9c4d"
   },
   "outputs": [
    {
     "name": "stdout",
     "output_type": "stream",
     "text": [
      "(418, 11)\n"
     ]
    }
   ],
   "source": [
    "test_df = pd.read_csv('/content/CIHW2_Datasets/test.csv')\n",
    "print(test_df.shape)"
   ]
  },
  {
   "cell_type": "code",
   "execution_count": 35,
   "metadata": {
    "colab": {
     "base_uri": "https://localhost:8080/",
     "height": 379
    },
    "id": "cst3iitfAI0a",
    "outputId": "66053b93-ca0c-4cd7-e8e5-aab9686e5e2a"
   },
   "outputs": [
    {
     "name": "stdout",
     "output_type": "stream",
     "text": [
      "shape of preprocessed dataset:  (418, 7)\n"
     ]
    },
    {
     "data": {
      "text/html": [
       "<div>\n",
       "<style scoped>\n",
       "    .dataframe tbody tr th:only-of-type {\n",
       "        vertical-align: middle;\n",
       "    }\n",
       "\n",
       "    .dataframe tbody tr th {\n",
       "        vertical-align: top;\n",
       "    }\n",
       "\n",
       "    .dataframe thead th {\n",
       "        text-align: right;\n",
       "    }\n",
       "</style>\n",
       "<table border=\"1\" class=\"dataframe\">\n",
       "  <thead>\n",
       "    <tr style=\"text-align: right;\">\n",
       "      <th></th>\n",
       "      <th>Pclass</th>\n",
       "      <th>Sex</th>\n",
       "      <th>Age</th>\n",
       "      <th>SibSp</th>\n",
       "      <th>Parch</th>\n",
       "      <th>Fare</th>\n",
       "      <th>Embarked</th>\n",
       "    </tr>\n",
       "  </thead>\n",
       "  <tbody>\n",
       "    <tr>\n",
       "      <th>0</th>\n",
       "      <td>3</td>\n",
       "      <td>0</td>\n",
       "      <td>3.0</td>\n",
       "      <td>0</td>\n",
       "      <td>0</td>\n",
       "      <td>7.8292</td>\n",
       "      <td>2</td>\n",
       "    </tr>\n",
       "    <tr>\n",
       "      <th>1</th>\n",
       "      <td>3</td>\n",
       "      <td>1</td>\n",
       "      <td>4.0</td>\n",
       "      <td>1</td>\n",
       "      <td>0</td>\n",
       "      <td>7.0000</td>\n",
       "      <td>0</td>\n",
       "    </tr>\n",
       "    <tr>\n",
       "      <th>2</th>\n",
       "      <td>2</td>\n",
       "      <td>0</td>\n",
       "      <td>4.0</td>\n",
       "      <td>0</td>\n",
       "      <td>0</td>\n",
       "      <td>9.6875</td>\n",
       "      <td>2</td>\n",
       "    </tr>\n",
       "    <tr>\n",
       "      <th>3</th>\n",
       "      <td>3</td>\n",
       "      <td>0</td>\n",
       "      <td>2.0</td>\n",
       "      <td>0</td>\n",
       "      <td>0</td>\n",
       "      <td>8.6625</td>\n",
       "      <td>0</td>\n",
       "    </tr>\n",
       "    <tr>\n",
       "      <th>4</th>\n",
       "      <td>3</td>\n",
       "      <td>1</td>\n",
       "      <td>1.0</td>\n",
       "      <td>1</td>\n",
       "      <td>1</td>\n",
       "      <td>12.2875</td>\n",
       "      <td>0</td>\n",
       "    </tr>\n",
       "    <tr>\n",
       "      <th>5</th>\n",
       "      <td>3</td>\n",
       "      <td>0</td>\n",
       "      <td>0.0</td>\n",
       "      <td>0</td>\n",
       "      <td>0</td>\n",
       "      <td>9.2250</td>\n",
       "      <td>0</td>\n",
       "    </tr>\n",
       "    <tr>\n",
       "      <th>6</th>\n",
       "      <td>3</td>\n",
       "      <td>1</td>\n",
       "      <td>2.0</td>\n",
       "      <td>0</td>\n",
       "      <td>0</td>\n",
       "      <td>7.6292</td>\n",
       "      <td>2</td>\n",
       "    </tr>\n",
       "    <tr>\n",
       "      <th>7</th>\n",
       "      <td>2</td>\n",
       "      <td>0</td>\n",
       "      <td>2.0</td>\n",
       "      <td>1</td>\n",
       "      <td>1</td>\n",
       "      <td>29.0000</td>\n",
       "      <td>0</td>\n",
       "    </tr>\n",
       "    <tr>\n",
       "      <th>8</th>\n",
       "      <td>3</td>\n",
       "      <td>1</td>\n",
       "      <td>0.0</td>\n",
       "      <td>0</td>\n",
       "      <td>0</td>\n",
       "      <td>7.2292</td>\n",
       "      <td>1</td>\n",
       "    </tr>\n",
       "    <tr>\n",
       "      <th>9</th>\n",
       "      <td>3</td>\n",
       "      <td>0</td>\n",
       "      <td>1.0</td>\n",
       "      <td>2</td>\n",
       "      <td>0</td>\n",
       "      <td>24.1500</td>\n",
       "      <td>0</td>\n",
       "    </tr>\n",
       "  </tbody>\n",
       "</table>\n",
       "</div>"
      ],
      "text/plain": [
       "   Pclass  Sex  Age  SibSp  Parch     Fare  Embarked\n",
       "0       3    0  3.0      0      0   7.8292         2\n",
       "1       3    1  4.0      1      0   7.0000         0\n",
       "2       2    0  4.0      0      0   9.6875         2\n",
       "3       3    0  2.0      0      0   8.6625         0\n",
       "4       3    1  1.0      1      1  12.2875         0\n",
       "5       3    0  0.0      0      0   9.2250         0\n",
       "6       3    1  2.0      0      0   7.6292         2\n",
       "7       2    0  2.0      1      1  29.0000         0\n",
       "8       3    1  0.0      0      0   7.2292         1\n",
       "9       3    0  1.0      2      0  24.1500         0"
      ]
     },
     "execution_count": 35,
     "metadata": {},
     "output_type": "execute_result"
    }
   ],
   "source": [
    "test_df = test_df.drop(['Cabin', 'PassengerId', 'Name', 'Ticket'], axis = 1)\n",
    "test_df['Age'] = test_df['Age'].replace(np.NaN, test_df['Age'].mean() )\n",
    "test_df['Fare'] = test_df['Fare'].replace(np.NaN, test_df['Fare'].mean() )\n",
    "test_df['Embarked'] = test_df['Embarked'].fillna('S')\n",
    "\n",
    "test_df['Embarked'] = test_df['Embarked'].map(Embarked_encodings)\n",
    "test_df['Sex'] = test_df['Sex'].map(gender_encodings) \n",
    "\n",
    "test_df.loc[ test_df['Age'] <= 19, 'Age'] = 0\n",
    "test_df.loc[(test_df['Age'] > 19) & (test_df['Age'] <= 25), 'Age'] = 1\n",
    "test_df.loc[(test_df['Age'] > 25) & (test_df['Age'] <= 31.8), 'Age'] = 2\n",
    "test_df.loc[(test_df['Age'] > 31.8) & (test_df['Age'] <= 41), 'Age'] = 3\n",
    "test_df.loc[test_df['Age'] > 41, 'Age'] = 4\n",
    "\n",
    "print('shape of preprocessed dataset: ', test_df.shape)\n",
    "test_df.head(10)"
   ]
  },
  {
   "cell_type": "code",
   "execution_count": 36,
   "metadata": {
    "colab": {
     "base_uri": "https://localhost:8080/"
    },
    "id": "kHPobV5pejCA",
    "outputId": "1b867dd3-994f-4df5-85ee-3f3bf21eab79"
   },
   "outputs": [
    {
     "name": "stdout",
     "output_type": "stream",
     "text": [
      "\n",
      "missing values:\n",
      " Survived    0\n",
      "Pclass      0\n",
      "Sex         0\n",
      "Age         0\n",
      "SibSp       0\n",
      "Parch       0\n",
      "Fare        0\n",
      "Embarked    0\n",
      "dtype: int64\n"
     ]
    }
   ],
   "source": [
    "print('\\nmissing values:\\n', train_df.isnull().sum())"
   ]
  },
  {
   "cell_type": "code",
   "execution_count": 37,
   "metadata": {
    "colab": {
     "base_uri": "https://localhost:8080/"
    },
    "id": "eAaNN1SIC-EU",
    "outputId": "ec8a8d6d-05c8-46c4-84cb-10b20645b45b"
   },
   "outputs": [
    {
     "name": "stdout",
     "output_type": "stream",
     "text": [
      "[[ 3.      0.      3.      0.      0.      7.8292  2.    ]\n",
      " [ 3.      1.      4.      1.      0.      7.      0.    ]\n",
      " [ 2.      0.      4.      0.      0.      9.6875  2.    ]\n",
      " [ 3.      0.      2.      0.      0.      8.6625  0.    ]\n",
      " [ 3.      1.      1.      1.      1.     12.2875  0.    ]]\n"
     ]
    }
   ],
   "source": [
    "test_X = test_df.to_numpy()\n",
    "print(test_X[:5])"
   ]
  },
  {
   "cell_type": "markdown",
   "metadata": {
    "id": "F0h-zEJdClqI"
   },
   "source": [
    "### Evaluation of KNN and SVM models using test data:"
   ]
  },
  {
   "cell_type": "code",
   "execution_count": 38,
   "metadata": {
    "colab": {
     "base_uri": "https://localhost:8080/"
    },
    "id": "VjBfohLSA9vD",
    "outputId": "54963229-b8f4-453f-b13a-0de41e960684"
   },
   "outputs": [
    {
     "name": "stdout",
     "output_type": "stream",
     "text": [
      "\n",
      "Predicted test data labels (KNN Model): \n",
      " [3 3 2 3 3 3 3 2 3 3 3 1 1 2 1 2 2 3 3 3 1 3 1 1 1]\n"
     ]
    }
   ],
   "source": [
    "test_predictions = knn_model.k_nearest_neighbors_run(test_X)\n",
    "print('\\nPredicted test data labels (KNN Model): \\n', test_predictions[:25])"
   ]
  },
  {
   "cell_type": "code",
   "execution_count": 39,
   "metadata": {
    "colab": {
     "base_uri": "https://localhost:8080/"
    },
    "id": "-jIuW84Xc6JV",
    "outputId": "b144f415-227c-4870-cb68-284651ff11a9"
   },
   "outputs": [
    {
     "name": "stdout",
     "output_type": "stream",
     "text": [
      "\n",
      "Predicted test data labels (SVM with linear kernel): \n",
      " [3 3 2 3 3 3 3 2 3 3 3 1 1 2 1 2 2 3 3 3 1 3 1 1 1]\n"
     ]
    }
   ],
   "source": [
    "y_pred_test = svm_model.predict(test_X)\n",
    "print('\\nPredicted test data labels (SVM with linear kernel): \\n', y_pred_test[:25])"
   ]
  },
  {
   "cell_type": "code",
   "execution_count": 40,
   "metadata": {
    "colab": {
     "base_uri": "https://localhost:8080/"
    },
    "id": "lacm_kVoftFB",
    "outputId": "9ad26822-4d5d-4275-a83b-8e479f51d3ff"
   },
   "outputs": [
    {
     "name": "stdout",
     "output_type": "stream",
     "text": [
      "\n",
      "Predicted test data labels (SVM with RBF kernel): \n",
      " [3 3 3 3 3 3 3 3 3 3 3 3 1 3 1 3 3 3 3 3 1 3 1 1 1]\n"
     ]
    }
   ],
   "source": [
    "y_pred_test_RBF = svm_model_RBF.predict(test_X)\n",
    "print('\\nPredicted test data labels (SVM with RBF kernel): \\n', y_pred_test_RBF[:25])"
   ]
  },
  {
   "cell_type": "markdown",
   "metadata": {
    "id": "ip9k_91NrF2y"
   },
   "source": [
    "## Saving Predictions in .csv file:"
   ]
  },
  {
   "cell_type": "code",
   "execution_count": 43,
   "metadata": {
    "id": "J1Wxv7ZgrKhm"
   },
   "outputs": [],
   "source": [
    "np.savetxt(\"KNN_Predictions.csv\", test_predictions, delimiter=\",\")\n",
    "np.savetxt(\"SVM_linear_Predictions.csv\", y_pred_test, delimiter=\",\")\n",
    "np.savetxt(\"SVM_RBF_Predictions.csv\", y_pred_test_RBF, delimiter=\",\")"
   ]
  }
 ],
 "metadata": {
  "colab": {
   "collapsed_sections": [],
   "name": "CIHW2.ipynb",
   "provenance": []
  },
  "kernelspec": {
   "display_name": "Python 3",
   "language": "python",
   "name": "python3"
  },
  "language_info": {
   "codemirror_mode": {
    "name": "ipython",
    "version": 3
   },
   "file_extension": ".py",
   "mimetype": "text/x-python",
   "name": "python",
   "nbconvert_exporter": "python",
   "pygments_lexer": "ipython3",
   "version": "3.9.4"
  }
 },
 "nbformat": 4,
 "nbformat_minor": 1
}
