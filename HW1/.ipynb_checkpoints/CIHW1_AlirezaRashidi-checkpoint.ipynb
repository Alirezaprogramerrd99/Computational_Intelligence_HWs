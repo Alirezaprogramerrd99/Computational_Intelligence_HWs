{
 "cells": [
  {
   "cell_type": "markdown",
   "metadata": {
    "id": "GyzM-2IxSSnG"
   },
   "source": [
    "# CI HW1 Alireza Rashidi"
   ]
  },
  {
   "cell_type": "markdown",
   "metadata": {
    "id": "fgg9oBXahaPJ"
   },
   "source": [
    "## Importing Libs:"
   ]
  },
  {
   "cell_type": "code",
   "execution_count": 97,
   "metadata": {
    "id": "ZCSpvitwhGWW"
   },
   "outputs": [],
   "source": [
    "import numpy as np\n",
    "import pandas as pd\n",
    "import matplotlib.pyplot as plt\n",
    "import datetime as dt"
   ]
  },
  {
   "cell_type": "markdown",
   "metadata": {
    "id": "603KA6CJiEGH"
   },
   "source": [
    "## Reading Dataset File:\n",
    "\n",
    "Here using Pandas functions we read .csv file in dataframe format.\n"
   ]
  },
  {
   "cell_type": "code",
   "execution_count": 98,
   "metadata": {
    "colab": {
     "base_uri": "https://localhost:8080/",
     "height": 357
    },
    "id": "2H9i1rEliDu3",
    "outputId": "15ab875d-5dee-4b9f-ba0e-3f929525beea"
   },
   "outputs": [
    {
     "data": {
      "text/html": [
       "<div>\n",
       "<style scoped>\n",
       "    .dataframe tbody tr th:only-of-type {\n",
       "        vertical-align: middle;\n",
       "    }\n",
       "\n",
       "    .dataframe tbody tr th {\n",
       "        vertical-align: top;\n",
       "    }\n",
       "\n",
       "    .dataframe thead th {\n",
       "        text-align: right;\n",
       "    }\n",
       "</style>\n",
       "<table border=\"1\" class=\"dataframe\">\n",
       "  <thead>\n",
       "    <tr style=\"text-align: right;\">\n",
       "      <th></th>\n",
       "      <th>Date</th>\n",
       "      <th>Close</th>\n",
       "    </tr>\n",
       "  </thead>\n",
       "  <tbody>\n",
       "    <tr>\n",
       "      <th>0</th>\n",
       "      <td>10/11/2020</td>\n",
       "      <td>11350</td>\n",
       "    </tr>\n",
       "    <tr>\n",
       "      <th>1</th>\n",
       "      <td>10/12/2020</td>\n",
       "      <td>11564</td>\n",
       "    </tr>\n",
       "    <tr>\n",
       "      <th>2</th>\n",
       "      <td>10/13/2020</td>\n",
       "      <td>11437</td>\n",
       "    </tr>\n",
       "    <tr>\n",
       "      <th>3</th>\n",
       "      <td>10/14/2020</td>\n",
       "      <td>11396</td>\n",
       "    </tr>\n",
       "    <tr>\n",
       "      <th>4</th>\n",
       "      <td>10/15/2020</td>\n",
       "      <td>11544</td>\n",
       "    </tr>\n",
       "    <tr>\n",
       "      <th>5</th>\n",
       "      <td>10/16/2020</td>\n",
       "      <td>11314</td>\n",
       "    </tr>\n",
       "    <tr>\n",
       "      <th>6</th>\n",
       "      <td>10/17/2020</td>\n",
       "      <td>11356</td>\n",
       "    </tr>\n",
       "    <tr>\n",
       "      <th>7</th>\n",
       "      <td>10/18/2020</td>\n",
       "      <td>11447</td>\n",
       "    </tr>\n",
       "    <tr>\n",
       "      <th>8</th>\n",
       "      <td>10/19/2020</td>\n",
       "      <td>11732</td>\n",
       "    </tr>\n",
       "    <tr>\n",
       "      <th>9</th>\n",
       "      <td>10/20/2020</td>\n",
       "      <td>11904</td>\n",
       "    </tr>\n",
       "  </tbody>\n",
       "</table>\n",
       "</div>"
      ],
      "text/plain": [
       "         Date  Close\n",
       "0  10/11/2020  11350\n",
       "1  10/12/2020  11564\n",
       "2  10/13/2020  11437\n",
       "3  10/14/2020  11396\n",
       "4  10/15/2020  11544\n",
       "5  10/16/2020  11314\n",
       "6  10/17/2020  11356\n",
       "7  10/18/2020  11447\n",
       "8  10/19/2020  11732\n",
       "9  10/20/2020  11904"
      ]
     },
     "execution_count": 98,
     "metadata": {},
     "output_type": "execute_result"
    }
   ],
   "source": [
    "data_frame = pd.read_csv('/content/CRYPTOCURRENCY_COINDESK_BTCUSD_NEW.csv', thousands=',')\n",
    "\n",
    "# data_frame = pd.read_csv('/content/CRYPTOCURRENCY_COINDESK_BTCUSD_NEW.csv')\n",
    "# data_frame['Close'] = data_frame.iloc[:,1].str.replace(',', '.').astype(float)\n",
    "# printing dataframe contents to insure datafreme is correct.\n",
    "data_frame.head(10)   "
   ]
  },
  {
   "cell_type": "markdown",
   "metadata": {
    "id": "opDX5oH2nM9X"
   },
   "source": [
    "Printing some informations about given dataset:"
   ]
  },
  {
   "cell_type": "code",
   "execution_count": 99,
   "metadata": {
    "colab": {
     "base_uri": "https://localhost:8080/"
    },
    "id": "Swakq-QwmJNn",
    "outputId": "030ac7e2-0cbe-49be-dce0-a83621171751"
   },
   "outputs": [
    {
     "name": "stdout",
     "output_type": "stream",
     "text": [
      "shape of dataset:  (366, 2)\n",
      "\n",
      "col names:  Index(['Date', 'Close'], dtype='object')\n",
      "\n",
      "number of columns:  2\n",
      "\n",
      "colomns data types:\n",
      " Date     object\n",
      "Close     int64\n",
      "dtype: object\n",
      "\n",
      "missing values: Date     0\n",
      "Close    0\n",
      "dtype: int64\n"
     ]
    }
   ],
   "source": [
    "print('shape of dataset: ', data_frame.shape)\n",
    "print('\\ncol names: ', data_frame.columns)\n",
    "print('\\nnumber of columns: ', len(data_frame.columns))\n",
    "print('\\ncolomns data types:\\n', data_frame.dtypes)\n",
    "print('\\nmissing values:', data_frame.isnull().sum())"
   ]
  },
  {
   "cell_type": "markdown",
   "metadata": {
    "id": "mGsiwVrwWvdP"
   },
   "source": [
    "### Converting date values to numerical values:\n",
    "\n",
    "in linear regression both of inputs and output values must be numrical."
   ]
  },
  {
   "cell_type": "code",
   "execution_count": 100,
   "metadata": {
    "colab": {
     "base_uri": "https://localhost:8080/"
    },
    "id": "E6-95W24rWHS",
    "outputId": "e3bd96cd-555c-486a-9a44-d4bc7a7e51ee"
   },
   "outputs": [
    {
     "data": {
      "text/plain": [
       "0      737709\n",
       "1      737710\n",
       "2      737711\n",
       "3      737712\n",
       "4      737713\n",
       "        ...  \n",
       "361    738070\n",
       "362    738071\n",
       "363    738072\n",
       "364    738073\n",
       "365    738074\n",
       "Name: Date_Ordinal, Length: 366, dtype: int64"
      ]
     },
     "execution_count": 100,
     "metadata": {},
     "output_type": "execute_result"
    }
   ],
   "source": [
    "data_frame['Date'] = pd.to_datetime(data_frame['Date'])\n",
    "data_frame['Date_Ordinal'] = data_frame['Date'].map(dt.datetime.toordinal)\n",
    "# feature_vector2 = np.arange(data_frame['Date_Ordinal'].index)\n",
    "idx = data_frame['Date_Ordinal'].index\n",
    "data_frame['Date_Ordinal']"
   ]
  },
  {
   "cell_type": "markdown",
   "metadata": {
    "id": "V-b0I3Fh7lfV"
   },
   "source": [
    "### Extracting indices of records:"
   ]
  },
  {
   "cell_type": "markdown",
   "metadata": {
    "id": "0J3VEyQqIa1U"
   },
   "source": [
    "**Attention: this method didn't used in this HW the date to ordinal method is used in this HW (feature_vector)."
   ]
  },
  {
   "cell_type": "code",
   "execution_count": 101,
   "metadata": {
    "colab": {
     "base_uri": "https://localhost:8080/"
    },
    "id": "Ark8KpfyMfH3",
    "outputId": "14f0de42-7ada-4d05-f721-7bb584a9faad"
   },
   "outputs": [
    {
     "data": {
      "text/plain": [
       "array([  0,   1,   2,   3,   4,   5,   6,   7,   8,   9,  10,  11,  12,\n",
       "        13,  14,  15,  16,  17,  18,  19,  20,  21,  22,  23,  24,  25,\n",
       "        26,  27,  28,  29,  30,  31,  32,  33,  34,  35,  36,  37,  38,\n",
       "        39,  40,  41,  42,  43,  44,  45,  46,  47,  48,  49,  50,  51,\n",
       "        52,  53,  54,  55,  56,  57,  58,  59,  60,  61,  62,  63,  64,\n",
       "        65,  66,  67,  68,  69,  70,  71,  72,  73,  74,  75,  76,  77,\n",
       "        78,  79,  80,  81,  82,  83,  84,  85,  86,  87,  88,  89,  90,\n",
       "        91,  92,  93,  94,  95,  96,  97,  98,  99, 100, 101, 102, 103,\n",
       "       104, 105, 106, 107, 108, 109, 110, 111, 112, 113, 114, 115, 116,\n",
       "       117, 118, 119, 120, 121, 122, 123, 124, 125, 126, 127, 128, 129,\n",
       "       130, 131, 132, 133, 134, 135, 136, 137, 138, 139, 140, 141, 142,\n",
       "       143, 144, 145, 146, 147, 148, 149, 150, 151, 152, 153, 154, 155,\n",
       "       156, 157, 158, 159, 160, 161, 162, 163, 164, 165, 166, 167, 168,\n",
       "       169, 170, 171, 172, 173, 174, 175, 176, 177, 178, 179, 180, 181,\n",
       "       182, 183, 184, 185, 186, 187, 188, 189, 190, 191, 192, 193, 194,\n",
       "       195, 196, 197, 198, 199, 200, 201, 202, 203, 204, 205, 206, 207,\n",
       "       208, 209, 210, 211, 212, 213, 214, 215, 216, 217, 218, 219, 220,\n",
       "       221, 222, 223, 224, 225, 226, 227, 228, 229, 230, 231, 232, 233,\n",
       "       234, 235, 236, 237, 238, 239, 240, 241, 242, 243, 244, 245, 246,\n",
       "       247, 248, 249, 250, 251, 252, 253, 254, 255, 256, 257, 258, 259,\n",
       "       260, 261, 262, 263, 264, 265, 266, 267, 268, 269, 270, 271, 272,\n",
       "       273, 274, 275, 276, 277, 278, 279, 280, 281, 282, 283, 284, 285,\n",
       "       286, 287, 288, 289, 290, 291, 292, 293, 294, 295, 296, 297, 298,\n",
       "       299, 300, 301, 302, 303, 304, 305, 306, 307, 308, 309, 310, 311,\n",
       "       312, 313, 314, 315, 316, 317, 318, 319, 320, 321, 322, 323, 324,\n",
       "       325, 326, 327, 328, 329, 330, 331, 332, 333, 334, 335, 336, 337,\n",
       "       338, 339, 340, 341, 342, 343, 344, 345, 346, 347, 348, 349, 350,\n",
       "       351, 352, 353, 354, 355, 356, 357, 358, 359, 360, 361, 362, 363,\n",
       "       364, 365])"
      ]
     },
     "execution_count": 101,
     "metadata": {},
     "output_type": "execute_result"
    }
   ],
   "source": [
    "feature_vector2 = np.arange(len(idx))\n",
    "feature_vector2"
   ]
  },
  {
   "cell_type": "markdown",
   "metadata": {
    "id": "gxcJduHXI3he"
   },
   "source": [
    "### Printing some feature vector values and label values:"
   ]
  },
  {
   "cell_type": "code",
   "execution_count": 102,
   "metadata": {
    "colab": {
     "base_uri": "https://localhost:8080/"
    },
    "id": "pgkjvp7hulkL",
    "outputId": "31417153-6e70-4fd6-c389-d3ce1da86460"
   },
   "outputs": [
    {
     "name": "stdout",
     "output_type": "stream",
     "text": [
      "feature values:  [737709 737710 737711 737712 737713]\n",
      "coresponding labels: [11350 11564 11437 11396 11544]\n"
     ]
    }
   ],
   "source": [
    "# extracting dataframe and converting to numpy array.\n",
    "feature_vector = data_frame['Date_Ordinal'].to_numpy()\n",
    "label_vector = data_frame['Close'].to_numpy()\n",
    "\n",
    "# printing 5 of samples...\n",
    "print('feature values: ', feature_vector[:5])\n",
    "print('coresponding labels:', label_vector[:5])"
   ]
  },
  {
   "cell_type": "markdown",
   "metadata": {
    "id": "CzHWYORpti5u"
   },
   "source": [
    "## Data Visualization:"
   ]
  },
  {
   "cell_type": "code",
   "execution_count": 103,
   "metadata": {
    "colab": {
     "base_uri": "https://localhost:8080/",
     "height": 342
    },
    "id": "02f2Vi1Amrjj",
    "outputId": "23917b64-700b-4f55-bf4d-6760680f21c5"
   },
   "outputs": [
    {
     "data": {
      "image/png": "[encoded data removed]",
      "text/plain": [
       "<Figure size 2520x720 with 1 Axes>"
      ]
     },
     "metadata": {
      "needs_background": "light"
     },
     "output_type": "display_data"
    }
   ],
   "source": [
    "NUM_RECORDS = 30\n",
    "area = (30 * NUM_RECORDS)**2 \n",
    "plt.figure(figsize=(NUM_RECORDS+5, 10))\n",
    "plt.scatter(data_frame['Date'][0:NUM_RECORDS], label_vector[0:NUM_RECORDS], s = 100 ,color='green')\n",
    "plt.xlabel('Date')\n",
    "plt.ylabel('label')\n",
    "plt.show()"
   ]
  },
  {
   "cell_type": "markdown",
   "metadata": {
    "id": "-jAyY4CftVgW"
   },
   "source": [
    "## Linear Regression:\n",
    "equation: `y = a.x + b`\n",
    "\n",
    "\n",
    "*   a is the coefficient that we must train it in order to use it to estimate new sampels(weight of model).\n",
    "\n",
    "*   x is the input feature.\n",
    "*   b is the bias of the model.\n",
    "*   y is the output that model has been predicted.\n",
    "\n",
    "\n"
   ]
  },
  {
   "cell_type": "code",
   "execution_count": 104,
   "metadata": {
    "id": "LGA74LWoWCjk"
   },
   "outputs": [],
   "source": [
    "def unison_shuffle(a, b):\n",
    "    inx = np.random.permutation(a.shape[0])\n",
    "    return a[inx], b[inx]\n",
    "\n",
    "def convert_to_row_vector(X, y):\n",
    "    new_X = X.reshape(-1, X.shape[0])\n",
    "    new_y = y.reshape(-1, y.shape[0])\n",
    "    return new_X, new_y\n",
    "\n",
    "def convert_to_col_vector(X):\n",
    "    return X.reshape(X.shape[0], -1)\n",
    "\n",
    "def train_val_test_split(X, y, train_ratio=0.7, val_ratio=0.15):\n",
    "    \"\"\"this function returns train, val, test sets from original dataset.\"\"\"\n",
    "    train_split = int(X.shape[0] * train_ratio)\n",
    "    step = int(X.shape[0] * val_ratio)\n",
    "\n",
    "    return X[:train_split], y[:train_split], X[train_split: train_split + step], y[train_split: train_split + step], X[train_split + step:], y[train_split + step:]"
   ]
  },
  {
   "cell_type": "code",
   "execution_count": 105,
   "metadata": {
    "id": "OIa8p5PpKRX2"
   },
   "outputs": [],
   "source": [
    "# feature_vector, label_vector = unison_shuffle(feature_vector, label_vector)\n",
    "# print(feature_vector[:5])\n",
    "# print(label_vector[:5])"
   ]
  },
  {
   "cell_type": "code",
   "execution_count": 106,
   "metadata": {
    "colab": {
     "base_uri": "https://localhost:8080/"
    },
    "id": "t4CgTrNOjZ1u",
    "outputId": "4e7196a2-4eb5-4ece-d0fb-fd37745409e7"
   },
   "outputs": [
    {
     "name": "stdout",
     "output_type": "stream",
     "text": [
      "feature_vector col wise vector's shape:  (366, 1)\n",
      "label vector shape:  (366,)\n"
     ]
    }
   ],
   "source": [
    "# feature_vector, label_vector = convert_to_row_vector(feature_vector, label_vector)\n",
    "feature_vector2 = convert_to_col_vector(feature_vector2)\n",
    "feature_vector = convert_to_col_vector(feature_vector)\n",
    "print(\"feature_vector col wise vector's shape: \", feature_vector.shape)\n",
    "print(\"label vector shape: \", label_vector.shape)"
   ]
  },
  {
   "cell_type": "markdown",
   "metadata": {
    "id": "IQq3SSt9HluJ"
   },
   "source": [
    "### Spliting data in to train, validation and test sets:"
   ]
  },
  {
   "cell_type": "code",
   "execution_count": 107,
   "metadata": {
    "colab": {
     "base_uri": "https://localhost:8080/"
    },
    "id": "OWgUZhkuWLoz",
    "outputId": "e28041f1-e9be-427a-e4df-5dd134461fb2"
   },
   "outputs": [
    {
     "name": "stdout",
     "output_type": "stream",
     "text": [
      "(256, 1) (256,)\n",
      "(54, 1) (54,)\n",
      "(56, 1) (56,)\n"
     ]
    }
   ],
   "source": [
    "train_X, train_y, val_X, val_y, test_X, test_y = train_val_test_split(X=feature_vector, y=label_vector)\n",
    "print(train_X.shape, train_y.shape)\n",
    "print(val_X.shape, val_y.shape)\n",
    "print(test_X.shape, test_y.shape)"
   ]
  },
  {
   "cell_type": "markdown",
   "metadata": {
    "id": "DFwRYMKPNKcI"
   },
   "source": [
    "![1.JPG](data:image/jpeg;base64,/9j/4AAQSkZJRgABAQEAeAB4AAD/4RDiRXhpZgAATU0AKgAAAAgABAE7AAIAAAAIAAAISodpAAQAAAABAAAIUpydAAEAAAAQAAAQyuocAAcAAAgMAAAAPgAAAAAc6gAAAAgAAAAAAAAAAAAAAAAAAAAAAAAAAAAAAAAAAAAAAAAAAAAAAAAAAAAAAAAAAAAAAAAAAAAAAAAAAAAAAAAAAAAAAAAAAAAAAAAAAAAAAAAAAAAAAAAAAAAAAAAAAAAAAAAAAAAAAAAAAAAAAAAAAAAAAAAAAAAAAAAAAAAAAAAAAAAAAAAAAAAAAAAAAAAAAAAAAAAAAAAAAAAAAAAAAAAAAAAAAAAAAAAAAAAAAAAAAAAAAAAAAAAAAAAAAAAAAAAAAAAAAAAAAAAAAAAAAAAAAAAAAAAAAAAAAAAAAAAAAAAAAAAAAAAAAAAAAAAAAAAAAAAAAAAAAAAAAAAAAAAAAAAAAAAAAAAAAAAAAAAAAAAAAAAAAAAAAAAAAAAAAAAAAAAAAAAAAAAAAAAAAAAAAAAAAAAAAAAAAAAAAAAAAAAAAAAAAAAAAAAAAAAAAAAAAAAAAAAAAAAAAAAAAAAAAAAAAAAAAAAAAAAAAAAAAAAAAAAAAAAAAAAAAAAAAAAAAAAAAAAAAAAAAAAAAAAAAAAAAAAAAAAAAAAAAAAAAAAAAAAAAAAAAAAAAAAAAAAAAAAAAAAAAAAAAAAAAAAAAAAAAAAAAAAAAAAAAAAAAAAAAAAAAAAAAAAAAAAAAAAAAAAAAAAAAAAAAAAAAAAAAAAAAAAAAAAAAAAAAAAAAAAAAAAAAAAAAAAAAAAAAAAAAAAAAAAAAAAAAAAAAAAAAAAAAAAAAAAAAAAAAAAAAAAAAAAAAAAAAAAAAAAAAAAAAAAAAAAAAAAAAAAAAAAAAAAAAAAAAAAAAAAAAAAAAAAAAAAAAAAAAAAAAAAAAAAAAAAAAAAAAAAAAAAAAAAAAAAAAAAAAAAAAAAAAAAAAAAAAAAAAAAAAAAAAAAAAAAAAAAAAAAAAAAAAAAAAAAAAAAAAAAAAAAAAAAAAAAAAAAAAAAAAAAAAAAAAAAAAAAAAAAAAAAAAAAAAAAAAAAAAAAAAAAAAAAAAAAAAAAAAAAAAAAAAAAAAAAAAAAAAAAAAAAAAAAAAAAAAAAAAAAAAAAAAAAAAAAAAAAAAAAAAAAAAAAAAAAAAAAAAAAAAAAAAAAAAAAAAAAAAAAAAAAAAAAAAAAAAAAAAAAAAAAAAAAAAAAAAAAAAAAAAAAAAAAAAAAAAAAAAAAAAAAAAAAAAAAAAAAAAAAAAAAAAAAAAAAAAAAAAAAAAAAAAAAAAAAAAAAAAAAAAAAAAAAAAAAAAAAAAAAAAAAAAAAAAAAAAAAAAAAAAAAAAAAAAAAAAAAAAAAAAAAAAAAAAAAAAAAAAAAAAAAAAAAAAAAAAAAAAAAAAAAAAAAAAAAAAAAAAAAAAAAAAAAAAAAAAAAAAAAAAAAAAAAAAAAAAAAAAAAAAAAAAAAAAAAAAAAAAAAAAAAAAAAAAAAAAAAAAAAAAAAAAAAAAAAAAAAAAAAAAAAAAAAAAAAAAAAAAAAAAAAAAAAAAAAAAAAAAAAAAAAAAAAAAAAAAAAAAAAAAAAAAAAAAAAAAAAAAAAAAAAAAAAAAAAAAAAAAAAAAAAAAAAAAAAAAAAAAAAAAAAAAAAAAAAAAAAAAAAAAAAAAAAAAAAAAAAAAAAAAAAAAAAAAAAAAAAAAAAAAAAAAAAAAAAAAAAAAAAAAAAAAAAAAAAAAAAAAAAAAAAAAAAAAAAAAAAAAAAAAAAAAAAAAAAAAAAAAAAAAAAAAAAAAAAAAAAAAAAAAAAAAAAAAAAAAAAAAAAAAAAAAAAAAAAAAAAAAAAAAAAAAAAAAAAAAAAAAAAAAAAAAAAAAAAAAAAAAAAAAAAAAAAAAAAAAAAAAAAAAAAAAAAAAAAAAAAAAAAAAAAAAAAAAAAAAAAAAAAAAAAAAAAAAAAAAAAAAAAAAAAAAAAAAAAAAAAAAAAAAAAAAAAAAAAAAAAAAAAAAAAAAAAAAAAAAAAAAAAAAAAAAAAAAAAAAAAAAAAAAAAAAAAAAAAAAAAAAAAAAAAAAAAAAAAAAAAAAAAAAAAAAAAAAAAAAAAAAAAAAAAAAAAAAAAAAAAAAAAAAAAAAAAAAAAAAAAAAAAAAAAAAAAAAAAAAAAAAAAAAAAAAAAAAAAAAAAAAAAAAAAAAAAAAAAAAAAAAAAAAAAAAAAAAAAAAAAAAAAAAAAAAAAAAAAAAAAAAAAAAAAAAAAAAAAAAAAAAAAAAAAAAAAAAAAAAAAAAAAAAAAAAAAAAAAAAAAAAAAAAAAAAAAAAAAAAAAAAAAAAAAAAAAAAAAAAAAAAAAAAAAAAAAAAAAAAAAAAAAAAAAAAAAAAAAAAAAAAAAAAAAAAAAAAAAAAAAAAAAAAAAAAAAAAAAAAAAAAAAAAAAAAAAAAAAAAAAAAAAAAAAAAAAAAAAAAAAAAAAAAAAAAAAAAAAAAAAAAAAAAAAAAAAAAAAAAAAAAAAAAAAAAAAAAAAAAAAAAAAAAAAAAAAAAAAAAAAAAAAAAAAAAAAAAAAAAAAAAAAAAAAAAAAAAAAAAAAAAAAAAAAAAAAAAAAAAAAAAAAAAAAAAAAAAAAAAAAAAAAAAAAAAAAAAAAAAAAAAAAAAAAAAAAAAAAAAAAAAAAAAAAAAAAAAAAAAAAAAAAAAAAAAAAAAAAAAAAAAAAAAAAAAAAAAAAAAAAAAAAAAAAAAAAAAAAAAAAAAAAAAAAAAAAAAAAAAAAAAAAAAAAAAAAAAAAAAAAAAAAAAAAAAAAAAAAAAAAAAAAAAAAAAAAAAAAAAGFsaXJlemEAAAWQAwACAAAAFAAAEKCQBAACAAAAFAAAELSSkQACAAAAAzA3AACSkgACAAAAAzA3AADqHAAHAAAIDAAACJQAAAAAHOoAAAAIAAAAAAAAAAAAAAAAAAAAAAAAAAAAAAAAAAAAAAAAAAAAAAAAAAAAAAAAAAAAAAAAAAAAAAAAAAAAAAAAAAAAAAAAAAAAAAAAAAAAAAAAAAAAAAAAAAAAAAAAAAAAAAAAAAAAAAAAAAAAAAAAAAAAAAAAAAAAAAAAAAAAAAAAAAAAAAAAAAAAAAAAAAAAAAAAAAAAAAAAAAAAAAAAAAAAAAAAAAAAAAAAAAAAAAAAAAAAAAAAAAAAAAAAAAAAAAAAAAAAAAAAAAAAAAAAAAAAAAAAAAAAAAAAAAAAAAAAAAAAAAAAAAAAAAAAAAAAAAAAAAAAAAAAAAAAAAAAAAAAAAAAAAAAAAAAAAAAAAAAAAAAAAAAAAAAAAAAAAAAAAAAAAAAAAAAAAAAAAAAAAAAAAAAAAAAAAAAAAAAAAAAAAAAAAAAAAAAAAAAAAAAAAAAAAAAAAAAAAAAAAAAAAAAAAAAAAAAAAAAAAAAAAAAAAAAAAAAAAAAAAAAAAAAAAAAAAAAAAAAAAAAAAAAAAAAAAAAAAAAAAAAAAAAAAAAAAAAAAAAAAAAAAAAAAAAAAAAAAAAAAAAAAAAAAAAAAAAAAAAAAAAAAAAAAAAAAAAAAAAAAAAAAAAAAAAAAAAAAAAAAAAAAAAAAAAAAAAAAAAAAAAAAAAAAAAAAAAAAAAAAAAAAAAAAAAAAAAAAAAAAAAAAAAAAAAAAAAAAAAAAAAAAAAAAAAAAAAAAAAAAAAAAAAAAAAAAAAAAAAAAAAAAAAAAAAAAAAAAAAAAAAAAAAAAAAAAAAAAAAAAAAAAAAAAAAAAAAAAAAAAAAAAAAAAAAAAAAAAAAAAAAAAAAAAAAAAAAAAAAAAAAAAAAAAAAAAAAAAAAAAAAAAAAAAAAAAAAAAAAAAAAAAAAAAAAAAAAAAAAAAAAAAAAAAAAAAAAAAAAAAAAAAAAAAAAAAAAAAAAAAAAAAAAAAAAAAAAAAAAAAAAAAAAAAAAAAAAAAAAAAAAAAAAAAAAAAAAAAAAAAAAAAAAAAAAAAAAAAAAAAAAAAAAAAAAAAAAAAAAAAAAAAAAAAAAAAAAAAAAAAAAAAAAAAAAAAAAAAAAAAAAAAAAAAAAAAAAAAAAAAAAAAAAAAAAAAAAAAAAAAAAAAAAAAAAAAAAAAAAAAAAAAAAAAAAAAAAAAAAAAAAAAAAAAAAAAAAAAAAAAAAAAAAAAAAAAAAAAAAAAAAAAAAAAAAAAAAAAAAAAAAAAAAAAAAAAAAAAAAAAAAAAAAAAAAAAAAAAAAAAAAAAAAAAAAAAAAAAAAAAAAAAAAAAAAAAAAAAAAAAAAAAAAAAAAAAAAAAAAAAAAAAAAAAAAAAAAAAAAAAAAAAAAAAAAAAAAAAAAAAAAAAAAAAAAAAAAAAAAAAAAAAAAAAAAAAAAAAAAAAAAAAAAAAAAAAAAAAAAAAAAAAAAAAAAAAAAAAAAAAAAAAAAAAAAAAAAAAAAAAAAAAAAAAAAAAAAAAAAAAAAAAAAAAAAAAAAAAAAAAAAAAAAAAAAAAAAAAAAAAAAAAAAAAAAAAAAAAAAAAAAAAAAAAAAAAAAAAAAAAAAAAAAAAAAAAAAAAAAAAAAAAAAAAAAAAAAAAAAAAAAAAAAAAAAAAAAAAAAAAAAAAAAAAAAAAAAAAAAAAAAAAAAAAAAAAAAAAAAAAAAAAAAAAAAAAAAAAAAAAAAAAAAAAAAAAAAAAAAAAAAAAAAAAAAAAAAAAAAAAAAAAAAAAAAAAAAAAAAAAAAAAAAAAAAAAAAAAAAAAAAAAAAAAAAAAAAAAAAAAAAAAAAAAAAAAAAAAAAAAAAAAAAAAAAAAAAAAAAAAAAAAAAAAAAAAAAAAAAAAAAAAAAAAAAAAAAAAAAAAAAAAAAAAAAAAAAAAAAAAAAAAAAAAAAAAAAAAAAAAAAAAAAAAAAAAAAAAAAAAAAAAAAAAAAAAAAAAAAAAAAAAAAAAAAAAAAAAAAAAAAAAAAAAAAAAAAAAAAAAAAAAAAAAAAAAAAAAAAAAAAAAAAAAAAAAAAAAAAAAAAAAAAAAAAAAAAAAAAAAAAAAAAAAAAAAAAAAAAAAAAAAAAAAAAAAAAAAAAAAAAAAAAAAAAAAAAAAAAAAAAAAAAAAAAAAAAAAAAAAAAAAAAAAAAAAAAAAAAAAAAAAAAAAAAAAAAAAAAAAAAAAAAAAAAAAAAAAAAAAAAAAAAAAAAAAAAAAAAAAAAAAAAAAAAAAAAAAAAAAAAAAAAAAAAAAAAAAAAAAAAAAAAAAAAAAAAAAAAAAAAAAAAAAAAAAAAAAAAAAAAAAAAAAAAAAAAAAAAAAAAAAAAAAAAAAAAAAAAAAAAAAAAAAAAAAAAAAAAAAAAAAAAAAAAAAAAAAAAAAAAAAAAAAAAAAAAAAAAAAAAAAAAAAAAAAAAAAAAAAAAAAAAAAAAAAAAAAAAAAAAAAAAAAAAAAAAAAAAAAAAAAAAAAAAAAAAAAAAAAAAAAAAAAAAAAAAAAAAAAAAAAAAAAAAAAAAAAAAAAAAAAAAAAAAAAAAAAAAAAAAAAAAAAAAAAAAAAAAAAAAAAAAAAAAAAAAAAAAAAAAAAAAAAAAAAAAAAAAAAAAAAAAAAAAAAAAAAAAAAAAAAAAAAAAAAAAAAAAAAAAAAAAAAAAAAAAAAAAAAAAAAAAAAAAAAAAAAAAAAAAAAAAAAAAAAAAAAAAAAAAAAAAAAAAAAAAAAAAAAAAAAAAAAAAAAAAAAAyMDIxOjEwOjIwIDEzOjQ3OjUzADIwMjE6MTA6MjAgMTM6NDc6NTMAAABhAGwAaQByAGUAegBhAAAA/+ELGmh0dHA6Ly9ucy5hZG9iZS5jb20veGFwLzEuMC8APD94cGFja2V0IGJlZ2luPSfvu78nIGlkPSdXNU0wTXBDZWhpSHpyZVN6TlRjemtjOWQnPz4NCjx4OnhtcG1ldGEgeG1sbnM6eD0iYWRvYmU6bnM6bWV0YS8iPjxyZGY6UkRGIHhtbG5zOnJkZj0iaHR0cDovL3d3dy53My5vcmcvMTk5OS8wMi8yMi1yZGYtc3ludGF4LW5zIyI+PHJkZjpEZXNjcmlwdGlvbiByZGY6YWJvdXQ9InV1aWQ6ZmFmNWJkZDUtYmEzZC0xMWRhLWFkMzEtZDMzZDc1MTgyZjFiIiB4bWxuczpkYz0iaHR0cDovL3B1cmwub3JnL2RjL2VsZW1lbnRzLzEuMS8iLz48cmRmOkRlc2NyaXB0aW9uIHJkZjphYm91dD0idXVpZDpmYWY1YmRkNS1iYTNkLTExZGEtYWQzMS1kMzNkNzUxODJmMWIiIHhtbG5zOnhtcD0iaHR0cDovL25zLmFkb2JlLmNvbS94YXAvMS4wLyI+PHhtcDpDcmVhdGVEYXRlPjIwMjEtMTAtMjBUMTM6NDc6NTMuMDY2PC94bXA6Q3JlYXRlRGF0ZT48L3JkZjpEZXNjcmlwdGlvbj48cmRmOkRlc2NyaXB0aW9uIHJkZjphYm91dD0idXVpZDpmYWY1YmRkNS1iYTNkLTExZGEtYWQzMS1kMzNkNzUxODJmMWIiIHhtbG5zOmRjPSJodHRwOi8vcHVybC5vcmcvZGMvZWxlbWVudHMvMS4xLyI+PGRjOmNyZWF0b3I+PHJkZjpTZXEgeG1sbnM6cmRmPSJodHRwOi8vd3d3LnczLm9yZy8xOTk5LzAyLzIyLXJkZi1zeW50YXgtbnMjIj48cmRmOmxpPmFsaXJlemE8L3JkZjpsaT48L3JkZjpTZXE+DQoJCQk8L2RjOmNyZWF0b3I+PC9yZGY6RGVzY3JpcHRpb24+PC9yZGY6UkRGPjwveDp4bXBtZXRhPg0KICAgICAgICAgICAgICAgICAgICAgICAgICAgICAgICAgICAgICAgICAgICAgICAgICAgICAgICAgICAgICAgICAgICAgICAgICAgICAgICAgICAgICAgICAgICAgICAgICAgIAogICAgICAgICAgICAgICAgICAgICAgICAgICAgICAgICAgICAgICAgICAgICAgICAgICAgICAgICAgICAgICAgICAgICAgICAgICAgICAgICAgICAgICAgICAgICAgICAgICAgCiAgICAgICAgICAgICAgICAgICAgICAgICAgICAgICAgICAgICAgICAgICAgICAgICAgICAgICAgICAgICAgICAgICAgICAgICAgICAgICAgICAgICAgICAgICAgICAgICAgICAKICAgICAgICAgICAgICAgICAgICAgICAgICAgICAgICAgICAgICAgICAgICAgICAgICAgICAgICAgICAgICAgICAgICAgICAgICAgICAgICAgICAgICAgICAgICAgICAgICAgIAogICAgICAgICAgICAgICAgICAgICAgICAgICAgICAgICAgICAgICAgICAgICAgICAgICAgICAgICAgICAgICAgICAgICAgICAgICAgICAgICAgICAgICAgICAgICAgICAgICAgCiAgICAgICAgICAgICAgICAgICAgICAgICAgICAgICAgICAgICAgICAgICAgICAgICAgICAgICAgICAgICAgICAgICAgICAgICAgICAgICAgICAgICAgICAgICAgICAgICAgICAKICAgICAgICAgICAgICAgICAgICAgICAgICAgICAgICAgICAgICAgICAgICAgICAgICAgICAgICAgICAgICAgICAgICAgICAgICAgICAgICAgICAgICAgICAgICAgICAgICAgIAogICAgICAgICAgICAgICAgICAgICAgICAgICAgICAgICAgICAgICAgICAgICAgICAgICAgICAgICAgICAgICAgICAgICAgICAgICAgICAgICAgICAgICAgICAgICAgICAgICAgCiAgICAgICAgICAgICAgICAgICAgICAgICAgICAgICAgICAgICAgICAgICAgICAgICAgICAgICAgICAgICAgICAgICAgICAgICAgICAgICAgICAgICAgICAgICAgICAgICAgICAKICAgICAgICAgICAgICAgICAgICAgICAgICAgICAgICAgICAgICAgICAgICAgICAgICAgICAgICAgICAgICAgICAgICAgICAgICAgICAgICAgICAgICAgICAgICAgICAgICAgIAogICAgICAgICAgICAgICAgICAgICAgICAgICAgICAgICAgICAgICAgICAgICAgICAgICAgICAgICAgICAgICAgICAgICAgICAgICAgICAgICAgICAgICAgICAgICAgICAgICAgCiAgICAgICAgICAgICAgICAgICAgICAgICAgICAgICAgICAgICAgICAgICAgICAgICAgICAgICAgICAgICAgICAgICAgICAgICAgICAgICAgICAgICAgICAgICAgICAgICAgICAKICAgICAgICAgICAgICAgICAgICAgICAgICAgICAgICAgICAgICAgICAgICAgICAgICAgICAgICAgICAgICAgICAgICAgICAgICAgICAgICAgICAgICAgICAgICAgICAgICAgIAogICAgICAgICAgICAgICAgICAgICAgICAgICAgICAgICAgICAgICAgICAgICAgICAgICAgICAgICAgICAgICAgICAgICAgICAgICAgICAgICAgICAgICAgICAgICAgICAgICAgCiAgICAgICAgICAgICAgICAgICAgICAgICAgICAgICAgICAgICAgICAgICAgICAgICAgICAgICAgICAgICAgICAgICAgICAgICAgICAgICAgICAgICAgICAgICAgICAgICAgICAKICAgICAgICAgICAgICAgICAgICAgICAgICAgICAgICAgICAgICAgICAgICAgICAgICAgICAgICAgICAgICAgICAgICAgICAgICAgICAgICAgICAgICAgICAgICAgICAgICAgIAogICAgICAgICAgICAgICAgICAgICAgICAgICAgICAgICAgICAgICAgICAgICAgICAgICAgICAgICAgICAgICAgICAgICAgICAgICAgICAgICAgICAgICAgICAgICAgICAgICAgCiAgICAgICAgICAgICAgICAgICAgICAgICAgICAgICAgICAgICAgICAgICAgICAgICAgICAgICAgICAgICAgICAgICAgICAgICAgICAgICAgICAgICAgICAgICAgICAgICAgICAKICAgICAgICAgICAgICAgICAgICAgICAgICAgICAgICAgICAgICAgICAgICAgICAgICAgICAgICAgICAgICAgICAgICAgICAgICAgICAgICAgICAgICAgICAgICAgICAgICAgIAogICAgICAgICAgICAgICAgICAgICAgICAgICAgICAgICAgICAgICAgICAgICAgICAgICAgICAgICAgICAgICAgICAgICAgICAgICAgICAgICAgICAgICAgICAgICAgICAgICAgCiAgICAgICAgICAgICAgICAgICAgICAgICAgICA8P3hwYWNrZXQgZW5kPSd3Jz8+/9sAQwAHBQUGBQQHBgUGCAcHCAoRCwoJCQoVDxAMERgVGhkYFRgXGx4nIRsdJR0XGCIuIiUoKSssKxogLzMvKjInKisq/9sAQwEHCAgKCQoUCwsUKhwYHCoqKioqKioqKioqKioqKioqKioqKioqKioqKioqKioqKioqKioqKioqKioqKioqKioq/8AAEQgB6gGiAwEiAAIRAQMRAf/EAB8AAAEFAQEBAQEBAAAAAAAAAAABAgMEBQYHCAkKC//EALUQAAIBAwMCBAMFBQQEAAABfQECAwAEEQUSITFBBhNRYQcicRQygZGhCCNCscEVUtHwJDNicoIJChYXGBkaJSYnKCkqNDU2Nzg5OkNERUZHSElKU1RVVldYWVpjZGVmZ2hpanN0dXZ3eHl6g4SFhoeIiYqSk5SVlpeYmZqio6Slpqeoqaqys7S1tre4ubrCw8TFxsfIycrS09TV1tfY2drh4uPk5ebn6Onq8fLz9PX29/j5+v/EAB8BAAMBAQEBAQEBAQEAAAAAAAABAgMEBQYHCAkKC//EALURAAIBAgQEAwQHBQQEAAECdwABAgMRBAUhMQYSQVEHYXETIjKBCBRCkaGxwQkjM1LwFWJy0QoWJDThJfEXGBkaJicoKSo1Njc4OTpDREVGR0hJSlNUVVZXWFlaY2RlZmdoaWpzdHV2d3h5eoKDhIWGh4iJipKTlJWWl5iZmqKjpKWmp6ipqrKztLW2t7i5usLDxMXGx8jJytLT1NXW19jZ2uLj5OXm5+jp6vLz9PX29/j5+v/aAAwDAQACEQMRAD8A+kaKKKACiiigAooooAKKKKACiiigAooooAKKKKACiiigAooooAKKKKACiiigAooooAKKy7zxJplg0wuZpQkH+ulS3keOHAyd7qpVcDk5IwOTWgbiIWxuPMUwhN/mA5G3Gc59MUASUVQ0nXNL12KaTR7+C9SCUwymFw3luACVPocEcUatrml6FDFLrF/b2STSCKIzOF8xz0Uep46UAX6KZHNHLbrNG2Y2XcGPGR61jnxjoKxtLJqCx2wVmF3LG6W7hQSdsxARuAT8rHofSgDboqrfalZ6ZYte6hcJbWygFpJflC59fSsqLxz4YngWeHW7SSJhuWRHypHrmgDfoqrpup2WsadFf6VdRXdpMCY54XDI4BxwR15Bq1QAUVXvL63sIRJdOVDNtRVUuzt1wqgEscAnAB4BqGw1mx1OeeC1lbz7fHmwTRPFIgOcMUcBtpwcNjBwcHg0AXqKzb3xDpGm6na6fqGo29teXbBLeGV9rSseAFz1PtWlQAUVm6X4i0fW5Z49H1G3vWt2Ky+Q4cIwOCCRxnNP1DW7DTJUhupmM8g3JbwRPNKy5wWEaAsQO5xgUAX6Ko2Gs6dqkksen3cdw8Kq0qoeY9xYAN6HKMMHkY5FUrjxn4ctNSk0+51i0jvIwWe3Z/nABwTjrjPGaANuisiy8WaDqGppp1lq1rNeyIZEt1k+dlHUgdcVr0AFFFFABRRRQAUUUUAFFFFABRRRQAUUUUAFFFFABRRRQAUUUUAFFFY3irxXpXgzQ21fX5ZIbJHWNpI4Wk2luBkKDgZ7/SgDZorz/wD4XT4S9NY/8E9z/wDEVp+H/iZ4d8Ta0mlaYb8XbxtKq3GnzQgquNx3MoH8Q/MetAHW0VieJ/F2leD7KO81154rZ22maO3eRUP+0VBx3PPoa26ACisTTfF2lavr19pGmtcXE+nyeVcyLbv5Ub7d23zMbScehq5qOs22nTw27iWe7nBMVtboXkcDGWx0VRkZZiBkgZyQCAX6KybDxJY3+ryaUomh1GGIyzWs0e1o1yACTyCDnggkHDc5U4j1LxbpGka3Z6RfS3K318HNtFHZTSebsUM2GVCDgEZ54oA2qKxZfFulQajZ2Vx9uhmvZfJtzJptwqO+Cdu8x7QcKTyR0NbVABRRRQAVDeXlvp9jPeXsywW1vG0ssrnCoijJJ9gBTdRuxp+l3V4U3i3heUqDjdtUnGfwrkfElhqvj/4RahaC1jsLzUrUNDCtzvDDKuFL7RjcBtPHGe9ADtHv49P8K3etWej/AGfRLhptSkS4uXaeRHJkeUowIXIywjz0I+6cioPhhfTWfwQ0W/1FGHk6c0wQtkiIbmQZP+xtAq1r0N94u8ON4esdOu9Ltr1BBfT3CqnkQH/WRoATudlygIyoyTk4ANzxCLux0yw0rQ/D11fWqyQK/wBmlgRIYY3UlcSSKTlV24HY9aAOf8B250Lx94x0y5dVHk6ffMxOFZmgMcj8+rQkk+/5Ra0j+Ivix4StpVJithcau0TAjy4kURwkg9Czylj0PyqDyua2rrwzfXHxQfWV2rpU+kR210gYbppI5ndVx6Yc5J7cdziDw9Z6vP8AFDXdc1fQ7uyt57S3s7CWaaBtsabncEJIxBZ3OOOi846UAafxBsNV1PwHqVpoESz30ioVgd9gnQSKZIs9t6Bl/wCBVgxeLNF8dRnwjrGl6poF9dKHWx1Sz8vzljZXYRtyrgbexzjnHFdFqd1rNr4stZrewludHis3W48lxvMruu1ghI3BFjbPf94MZ5FVns7jxJ4p0jU5bKaystHaWaI3KhZLiV4zEMLklUCu+d2CTtwMDNAFb4t6rLpHwr1t7UE3V1B9it1X7zSTMIhj3+fP4VL4X1OK0k0vwrYadewQWOmAtPdWzRLtj2Rqq56k5J9gPes7x/Za1rWv+G7az0C8u9L07VE1C8nimt1EnloTGqq8qk/ORnIH3e9ampalrt2Et9L8LX1pPdMsEuoXE9qotYifmf5JWZiASVUDGeuKAN7StNi0nTxaW4URiSSQBV2gF3ZyAPTLGrlNiiSGFIol2oihVHoBwKdQBy2tXtlfeMNO0y0sv7Q1jTlN8pNy0UVmrK0YaQrncWywVdp7njGaxDqN1d/HvTrERrFNZaJcNe+WxZHjeWLyjkgfxBuDyMN1HNXtPsLvw14+8T6pPY3V9FrjW0lvLaoHK+VFsMTDI24IJBPB39c5q94f0O6stR1jxPqsBfVtTCgWkTq3kQRqfLgViQpYklmOQu5uuADQBzfxaGdPOrjj/hHZ7G7Rh0LNdxlwf91I1P8AwKuw8UarHp+kXjOxEVtayXV2ytgpAikkZ7FtpUdONxBytYGr6Xqviv4eeLdPudEudOv9SjnFvDczQMJG2bYsGN2AyETOcYJPUDNVvHWj+Ib/AOH02hWemXGpahqvkrqF3bzQoiJvXzVHmSKT8gKjA5zk8k0Aavwp0qTSPhfokVwoFzcQfbJ+MfvJmMrZ+hfH4ViXHiK+8DeMvEV54h8Pape6dqE0U1vq2nQfaFihSJV8qRFO5ArB2zggl2NdxqEt5D4XuZNKs2W9W0Y21qxUESbPkQkEr1wM5I98VmWur6xaaNBZS6Jdz6vHAsZ+cGCRwAN5mJ+4TzyN+P4SeKALXhqHSblLzxBok0dzDr0kd356LgOBEka+/RM88gkiuE07xDbw/FHxx4lu7O/u7bS4YtLgktLVpdqxIZZ1yOAd7jjPb3rtdB0qTwb4JstNtbWXU5bWPDpa+WhkdmLOVDsqqu5iQM8DiuY+H9trfh/wbJaa/wCEdRn1G/urm81ARzWbxySTSMxHM4yNpUcjtQB2ltZPfTaXq2oRLDewWjK0QH3HkCFgD7bMY/wrUrE8PHU72S71TW9PbTJpmEUFm8qSNFCmcFihK7mJYnBIA2jqCaXTNcurvxPqujXunpatYww3EUqXHmCaKV5lUkbRtP7gkjnqOaANqiiigAooooAKKKKACiiigAooooAKKKKACiiigAooooAKKKKACs3xFoVn4n8N3+i6ku62voWifjlc9GHuDgj3ArSooA4T4Va7eXehXXhvXmzrvhqb7Bdk/wDLZAP3Uw74dMcnqQT3rd0FP7S1G78QSfMlwBb2I/u26n74/wCujZbI6qI/Sud8UeCtVuPiJYa94bmW3iv7Z9N1z5tpa3xuWRf+mgIKg8kbl7A130UUcEKRQosccahURRgKBwABQBxPxPsf7d8K6xpirv8AJ0e6usAfdl8srFn6/vfy9q1tN1dtW8KaPLDNsk1GwiuZJs/6qIorM+ex5wDnqc8gGl0y01e71DVZPEGn2lvDeRrDF5F2ZWESgjYwMajOXkbIJ4YDtXPWvg/xFo/wjTwzpstnc6zLphsXvZpmiigxHsXbhWYhQTgYGTk8ZNAE/wAH7ZT4Ik1hY/KOu39xqIjxjZGz7YlHsIkTFJ4gTxT4f8cz+IdB0OPxFYXljDaz2yXSw3FsYnkbcm/5WVvM5XIOQPTnqPDli+k+FtO057dYDZWyW4ijk3gBBtXDYGcgA9B1rJ0H/hJ9H0GKy1LToNQvuXNxBchImd2LMH3DcuCxGVDZxnAztABN4R1bS/FKz+I7C3uba7cDT7u3u02S27wu5MbLzggyMevIIrmZrqfUfjze3FtYT6hH4c0ZIBHC8a7Li5beTl2Ucxoo79a67Q9Gm8P6LdbNt7qN1cS3twd3lrJM5yQCc7VAwo68KM81zfhLSfFOg33iC+v9Hs7i61nU3u90eofci2qkcfMfO1V6+9AHRaJJJr+haTqWrxeRcO5vYoNwOwMH2KcdSEcZI7jNbN1M9vaSzRW8l08aFlgiKh5CB90FiFyenJA9xWJodtrdzrFzqfiO2tLQon2extbWczeXGcF3Ziq5ZiFGAMAIPU1uXECXNvJBIZFSRSpMcjRsB7MpBB9wQaAOf/4SjV/+hE8Qf9/9P/8Akqrul61f6hdmG78M6rpaBC3n3ctqyE8fLiKZ2z+GOOtR/wDCJad/z86x/wCDu8/+O1ZsNBtNOufPt5tQd9pXFxqVxOuP92RyM++KADxJ/wAirq3/AF5Tf+gGqmmapp+keC9JudWvraxg+yQL5tzMsa5MYwMsQM8Vb8Sf8irq3/XlN/6AaTw6obwrpO4A/wChQ9R/sCgCp/wnfhH/AKGrRP8AwYxf/FUf8J34R/6GrRP/AAYxf/FVueWn9xfyo8tP7i/lQBh/8J34R/6GrRP/AAYxf/FUf8J34R/6GrRP/BjF/wDFVPf6xb2urQaTaxRXGp3ELTpbtKseI1IBdicnGWA4BOfxNLo+s2+q3F7aNbG1v9PdY7q2kwSm5dysCOGVh0PsQQCCAAV/+E78I/8AQ1aJ/wCDGL/4qj/hO/CP/Q1aJ/4MYv8A4qtzy0/uL+VHlp/cX8qAMP8A4Tvwj/0NWif+DGL/AOKo/wCE78I/9DVon/gxi/8Aiq3PLT+4v5UeWn9xfyoAr6fqdhq1r9p0q9tr633FfNtpVkTI6jKkjNWqqakL5dJuv7FW2+3+U32YXOfK8zHy79vO3OM45xTNEurm+0Gxur9IUuZrdHlEBJj3FQTtzzt9M8460AUp/Gnha1uJLe58S6RDNE5SSOS/iVkYHBBBbIIPamf8J34R/wChq0T/AMGMX/xVbnlp/cX8qPLT+4v5UAYf/Cd+Ef8AoatE/wDBjF/8VR/wnfhH/oatE/8ABjF/8VW55af3F/Ks3UtWtdPvrLTwkcmoX+/7Nbl1TeEALtk9hkZwCeeh5oAq/wDCd+Ef+hq0T/wYxf8AxVH/AAnfhH/oatE/8GMX/wAVUun61Fd315p1zZNbanZxrK9rlW8yNshXjbgMpKsvOCCOQOCU8L+ILTxVo7ajaWVxaxrcS2+y6RAxaNyjEbGYEblIzntQBH/wnfhH/oatE/8ABjF/8VR/wnfhH/oatE/8GMX/AMVW55af3F/Kjy0/uL+VAGVZ+LvDeo3kdpp/iDSrq5kOEhgvY3d+M8KGyeBVKx/5Knrv/YF03/0ffV0QjQdEX8q52x/5Knrv/YF03/0ffUAdJRRRQAUUUUAFFFFABRRRQAUUUUAFFFFABRRRQAUUUUAFFFFABRRRQAUUUUAFFFFABRRRQAUUUUAFFFFABRRRQBDeWsd9Yz2k27y542ifacHDDBx+dQaRpv8AZGlw2Iu7i7SFQiSXATcFAwB8iqOAPTNXaKACiiigDkdJ1eXxZ4j1WTS2SzsNJnbTjepErT3Ey4MiqWBCxqSB0JZs9NvPOeG7zVLv4i+NNR3xrDaNa6W13t/dgQiSWRyM/eCyKPZm6YFdFovh7WvDEOo2GijTpbS6vZ7yG5uJHV4WmfeVaNVxIFJODvUkYHHWn3Pgx7f4can4c0S78u81CGcS39wMtLNNnzJnx/ESxPHTgDgUAYa+NfEQ+F+m+LriG0S4vDaCDTkjP+kCaVEHzFvlLK+QBnbkZ3c10E+t6nYeN9E0edoLhdUguZZkijI+zLEEwwOckZcKcjkkEYxin6v4U+3f8IzaWskcOm6LeR3LxEHdIIomWJR24Yqx/wB2i48NXcnjyXXUukEctjDZryQ8CrK0kgUYwfMygJyCNnfjAB0tFFFADJ4Y7m3kgnXfHKpR1PcEYIpyqFUKoAAGAAOlLRQAUUUUAFclHq0niTxpqGm6X5dtBoQWK41Hy1eUzSLuMUW4EKAu0sSDnIGOM11tcnp3h/VfDeqa4+hRWNxbaxetqBN1cPG8EzRqjDCowdcoGHKkZI96AOPvddutL+JnjLW538y38L+G1tzMwA8+VyZ0BA43YwvHrnAyBWr4bk1LwDongjQdRkgmfUn+yTQLGweOQwvM0m7J3fOpDZA+/njHOzN4Cgm8F6ro8l0ZL3Vna4u79oxmW4JBDFeyDaoCZ4UAZ71dj8PT3/iq01/XDD5unQyRWNrAxZIWkwJJSxALMVAUDACjd1zkAHQ0UUUAFZljoaWWu6hqz3lzdXN9HFCRNsCxRxtIyIoVV4Bmflsk8ZPFadFABRRRQAUUUUAFFFFABRRRQAUUUUAFFFFABRRRQAUUUUAFFFFABRRRQAUUUUAFFFFABRRRQAUUUUAFFFFABRRRQAUUVFc3MFnbPcXk8cEEYy8srhVUepJ4FAEtFUZNc0mLSo9Ul1SyTT5Qpju2uEEThuhD5wc9ueauI6SxrJGyujAMrKcgg9waAHUUUUAFFFFABRRRQAUUUUAFFFFABRRRQAUUUUAFFFFABRRRQAUUUUAFFFFABRRRQAUUUUAFFFFABRRRQAUUUUAFFFFABRRRQAUUUUAFFFFABRRRQAUUUUAFFFFABUb3EMc0cMksayy58tGYBnwMnA74qSvP9Y06ysvjV4QmtLSGGW5tdUeaREAaU4gOWPU9T19aAPQKKKKACszxCPN0WW0/5/WW1OOu2RgrEe4Usfwq9LdW8DBZ54oiRkB3Az+dUbsaJfSwS3psZ5Ldt8LyMrGNvVT2PuKAOO0tDo3iy48EOh+xzXi6tp5A4S3LGSSMdhsnQD2WZK9Eqk11pjXKXDT2hnjRkSQuu5VYgsAewJVcj/ZHpUyX1pI4SO6hdjwFWQEmgCeiiigAooooAKKKKACiiigAooooAKKKKACiiigAooooAKKKKACiiigAooooAKKKKACiiigAooooAKKKKACiiigAooooAKxJ/F2l2viy08OXJuI9QvN32cNbv5cu1C5w+MfdVu/YituvNPHBH9v6Frg4+yeJ7OyV+xjZHjb/AMiTsD/u0Aej3NxFaWstzcuI4YULyOeiqBkmszw14nsPFmlJqWkLcmzlAaKWe3eISA55XcBkcVzXxS1WWHwLrTWnzGGEW8QU8yXcpEcSj12l1b67f7pFdZoOlRaF4c07SYMeXY2sdupHcIoXP6UARXHiCFLya1sbS61Ga3IFwLVVIhJGcFmZRuwQdoJbBHHIzLo+uWGvW80+lytLFDM0DsyFcOoG5cEA5BOD6EEdRXn8WreKPhqmqLqnhqTWtAF7c3w1TTrhGnjjlkaQ+ZC2GYruPIOMAV6DokVimlRzaUd1reM94r/3/OYyFvxL/lQBjwePtKutXv8ATLW21Sa804oLqJLCUmLeu5M8dxyPar2leKLHVtXudMhhvYLy2iWaSO6tJIcoxIDAsAGGVI49DXm3gnWtXHhvXvEmm6PLcP4l1uR7S8M0YWONpVtoSVJyVXG7pzz25r1pLe3/ALSmukINw0aQvznaqlmA9vvn9KALFFVNRvZ7KJHttNutQZmwUtmiUqPU+Y6jH0JrP/t7Uf8AoU9Y/wC/tn/8kUAbdFVdPvJ72BpLnTrnT2DbRHctEWYY6jy3YY7dc8dKbqesabotstxrGoWthAz7FlupljUtgnALEDOATj2NAFyuC19Ncn+J3h/VbXwzqFxYaVBewyzJPajzDKIwpVWmBx+7PUA8jit3/hP/AAf/ANDVov8A4MIv/iqP+E/8H/8AQ1aL/wCDCL/4qgDfU5UEgqSOh7Utc/8A8J/4P/6GrRf/AAYRf/FVoaVr+j655v8AYuq2WoeTjzfslwkuzOcZ2k4zg/kaAPOvjn8MD458OpqujxBte0pS9uu0N9pjzkxEHgnuue+R/FmqnwlPgD4i+EluJPBvh2LV7PEWoWw0uAbX7OBt+62CR6HI7V7BXgfxM0PUPhV48i+J/hGDdp9w4j1uxThWDEZb2DHHPZ8HnOKAPVz8OPA5H/Im+H//AAVw/wDxNcxrfwM8LTXMGq+FbZfD+t2Uq3Frc2pPleYpyoePOCueuMH37V3uha1Y+I9Bs9Y0qXzbO8iEsTYwcHsR2IPBHYg1foApS6klloZ1HVl+xrFB5twhO/yuMlePvEdOOvap7OaW4s45p7drZ5F3GF2BZM9AccZx1xkZ7nrXOeMGa41bwtpWD5F7qwefjIKwQyTqD/20jjqTxv4ju/DPh+71Gzt0kNtA0v71GZZJCQsUIAIO53YDPOPQ5FAHS0Vg3PiKaLxrpPh+G2VmurOe8umL826IUVceuXfH/ATWxbXcF5EZbWVZUWR4yyHIDIxVh9QwI/CgCaisnVfFnh3QbpbbXNf0vTZ3TzFivLyOFmXJG4BiDjIIz7GqP/Cx/BH/AEOXh/8A8GkH/wAVQB0lUbvVY7bU7TT40aa6utziNSB5cS43SN6AEqPUlgPUi5FLHPCksDrJHIoZHQ5VgeQQR1Fcv4akOoeNPFt9Jz9muoNNiz1VI4ElP5vcN+QoA6qiuRTxRq03jo+HorKFRJZPeCWQHNugm8tS4z828AsANuMYPc1Bp/izVtQ03xBMVsbVdCuri3kvJEZo5/KXcSEDZUAHBJY8g4HoAdrRWJputXmr+GNG1C1s/IuNUtop2SQFltd8e87uhOPu44JJHQZIyNF8TeIdb3vZafZSwWmsSabdSbynmRxswedMk4xgDZyS27kAZIB2VFQrdwNevaLKpuI41laPPIRiQD9CVb8jVbVtd0jQYEn13VbLTYpG2JJeXCQqzYzgFiMnHagC/RXnsPxC8JD4iXkreLtF+yHSoFVzqcXlmQSzEgHdjdgrnvgiu10rWdL120N1ompWeo26uYzNZzrKgYAErlSRnBHHuKAK2qeJLHSNX0zTrxbjz9Tl8m2KQsyFwpYgt0HCk/QVY1DVE02e0+0xkW9xKITcZG2KRiAgb2YnaD/eKjvXI6z9r1f4y6VaWJhVdD0uW8kklUuqSXDeUnygjJ2Ry8ZHDZ9qtxainjr4bausyLFIReWLshO0SRO8fmITyBlQw7j6igDo9U1RNJiiuLmM/ZWkEc0wIxBngMw/u5wCe2cnjJDNVXU5ZrKLTWEUMkxF3OrqJIkCMQVDKwYlgoI9DVTRp4/F3w+sJ9RTfFrGlxvOmMZEsQLD/wAeNYOjQ6t4x+EuipDqy2dxPaxpdzy23nGcKNrgjcMbiMnk8EjvQBreCNWvtX0u+lvpRcww6jPb2d5sCm6gRsLIQMDruXIAB25A5rpKy9A02+0vT2h1TUhqMxfcJEtxAqLtChFQEgAbfzJrUoAKKKKACiiigAooooAKKKKACiiigAooooAhu2uUtZGsYoprgD5I5pTGjH3YKxH5GuO1DwprWu/Dv+x9QexsdVN7Fd+fbyvNErrcrOzjcin+9hcegz3Hb0UAcV4s8M61qj6DZ6VDYPp2m6jDf3DXd46S3DR7mAIWJhy5Dk55I6c1u+K7DUtU8MXVho08dtd3OyMTSAlY0LjecDBPybsDjJwMjrWxRQBzOpx+Itc0q40hrKDTftMZhuL5bnzFVGGGMS4BLYJxu2gHnnGDY13TdSi8GzaR4RitIpvsjWts11O8aQDZtVsqjFscccdOtb1FAHJeHtL8QeF/BWl6Lp+maTNJYWkcGX1KRFdlXBbIgJ5bnp3rZ8PWN7ZaXu1iSGXU7lzPdvb58veeNqZ52qoVASASFBPJNalFAFTUNNg1OFYrl7pFVtwNtdy25z7mNlJHseKz/wDhEtO/5+dY/wDB3ef/AB2tuigCpp+mwaZC0Vs906s24m5u5bhs4xw0jMQOOg4qa5uYbO1kuLmQRxRqWdj2FS1na/okHiLQ7jS7ua5gin2ky2spjlQqwYFWHQ5Uc0AVYvFmnHWrbSrpbmyu7wM1ot3A0YuAoywQnjIHO04bvipfEmvDw3o76i+nXmoRxsA0VkIzIMnAwHdc8kDAyckcVzPiezk8V+NfD2mabzb+HtQTUtQu85EbKjCOAHu7b9zDsuCfvDPUar/pGpaXZDkNObiVfVIhkH8JGioANL1+21zwta67o8U13b3dus8MSFBIwIzt+ZgoYdCCeCDzTtB1k69pcd+un3ljFMoeJbsRhnQjIbCM2Ac98H2rz3w20nhe68WeA1byVWUXejEHG23u32AD2jmYj8a9SjjSGJIolCIihVUdAB0FADq4fxBM/jnU7nwlpj40mH93rt6mOQRn7JGf77A/Of4FOPvMMJ8TPFeq6Fp9vYeH9J1i7ur9tsl5p2nSXX2KL+J8AYMn91SevJ4GDlaL8QdM0DSINN0zwF44jt4QcbtDlZnYnLMzE5ZiSSSeSSTQB6RaWlvYWcNpZQxwW8CCOKKNdqooGAAB0AFTV53N8X0jI2fD/wAeTZ67NCYY/NhXMav8T/HniS+ttD8KeAtd0Nb6VYJNX1OxkH2VGOGcLt2ggc5LH6UAeheNYmguPD2thd0ek6osk57LFLFJbs59l84MT2Ck0zxzBBqUmh6WLyGO/bUor63s5Tj7YtuwkdM4OMDBz0yFB610cOn2sOlJpqwq1okIgETjcDGF27TnqMcVB/YlkbO3tpBLItshjjdpmDhDj5S4ILDAGck5wM5PNAHEaZeT3HiDxn4wvnW0tLCBNPt54/3m2G3DS3DKSAGO52XOCA0ePmxz1vhG6vbzwpYSavJ5moeUoujtxtkxlk4ABK52kjjIP0rVgtbe1tEtbaCOK3jTYkSIAqr0wAOMU+KKOCJYoUWONBhUQYCj0AoAdRRRQAVy2hRHS/HviWzk+VNSaHVLf/a/dLBKB7gxIT/10X1rqarXNhb3VxbXEqfvrVy0UinDLkYIz6EcEdOncAgAx9H0G6tfGniHXL54m+3/AGeC0VCSUgiQ9cjgmSSQ4HbFYSeB9T/4U/c+G5LiEapqBklv5Vc7ZGmmMk6hsZ5VnQHHpXfUUAc9JD4mtpbM6eNONufN+0W0hYeV8qiFY2A+6MEsSCTngDtW8HeHtU8O6JY6RPLD5VnLNJNcRtlrwu7tkqR8uS+48nkYGRzXVUUAcv4V1a81DW9ciu7vz4Le58i3XywOYwBKwwOF8xiigkk+UxyeTXUUyOCKJ5HiiRGlbdIyqAXOMZPqcAU+gDBhs7hfiJeXphYWz6VBCsuPlLiWYlfqAwP41vUUUAcvLoeqWHiXW9U0UWrS6vBBGJbh2H2d4g65KgHcuGyACMnIOM5EMum23gH4WTafpm+d7a1eOAycvdXMhIXP+08rj8WrrqrXFhBd3VtPcKXa2YvEpPyhiMbseoGQD2yaAMy2WDwX4Bt45iZIdG05IyEBJcRRgAKOpJ24A6kkUeCdIm0HwPo+mXeBc29ognA6CQjL49txNad5p9vftB9rUyJBKJljz8pcfdLDvg8gHgEA9QCLNABRRRQAUUUUAFFFFABRRRQAUUUUAFFFFABRRRQAUUUUAFFFFABRRRQAUUUUAFFFFABVLWIdRuNGuodFuobS/kjKw3E0RkWJj/FtyM47DPXFXaKAOH0jw140tJLO3v8AxBpLabDMsssVrp0kcsuG3n940rcsw+YkEnJz1rehsNY/4St7+7uLF7AQGGCFIXEseWyTvLYOcLkYH3RW1RQBzureELXVPG2h+JGdo7nSVmjKr0nR14VvUKwDD3roqKKACobSdrm2WV7eW2Ykjy5tu4YJGflJHOM9eh7dKzfFhuU8J6jLY28l3cxQNJDbIM+e6jKoR1KkgAgdRkd8VjR6Hff8Izo1nawT3P2K3+ztJcazdWEj7QFDkRKd27buw2CucetAHY1m2GuQahq99p0cFxFNZJG7mZAoZZN+0rzn+A9QO1ZGj6LqVpqsM1zZ+XEudzf8JLe3WOD/AMspECt+J469qNJmY/ETXZDbXiRT21rHFLJaSLG7RmbeAxXHG4d+c8ZoA6miiigAooooAKKKKACiiigAooooAKKKKACiiigAooooAKKKKACiiigAooooAKKKKACiiigAooooAKKKKACiiigAooooAKKKKACiiigAooooAKKKKACiiigAooooAKKKKACiiigAooooAKKKKACiiigAooooAKKKKACiiigAooooAKKKKACiiigAooooAKKKKACiiigAooooAKKKKACiiigAooooAKKKKACiiigAooooAKKKKACiiigAooooAKKKKACiiigCG7uobGynu7txHBbxtLK56KqjJP5CuF8A3er+N5E8a6pd3NnpkpkGk6RE5RBFyvmz4/1jtjIB+VRgjJ5G58R/+SWeK/8AsC3n/oh6rfCn/kkfhf8A7BkH/oAoA6PUr7+zrFrjyZZzvSNY4kLEs7hBnAJAywJOOBk9qr2Wri41i60q5h8i9too5yqvvR43LBWVsD+JGBBAIx6EE5PipbqXW9EhmD/2EXmfUdiFg7Ko8pHAB+QksT2JVQcg4rmNR8O3ZsfF3iCwtJrd723jtNLsvLZCscauA5ixkZlldwgGTtU4yxFAHp9Fedprz2t94k1S3N9c2mj2tvpcCOSjPOEaR2w45dvMhQEqctgdCTXcTx3rww/2feQKAvzPPAZd/TBG11A7/n2oAuUVQjt9Ubet3fWzRshX/R7Vo3UkdQxkYcfSuBttCv7jSdKBttQt7jUdfkmZgZEfT7NXlcKG6xB0jRT0JMtAHptFcPprTWc2urd6bqaWdxqqLDDawNiKJRFECB3RyjuxTPytzyeW+DrWS3spNQutP1CLUEkvpBBMXijijknzHD82FICKuMZVfmPG7kA7qisbRr+41rw1bX9jMInuh5ym5j83ajEsowpTjaRjODjGec1Zjh1gSoZr+xaMMN6rZOpI7gHzTg++DQBHY64l94i1TSUt5EbTVhLzEgq5kDEKO+QFyc/3lrUrzeLR9RfXLiS3tbiLVLvxILq4vDGypFZxBQAHPBDxRom1TklzkfKSPSKACiiigAooooAKKKq3Wp2FjLHFe3tvbySnEaTSqhc5xwCeeSB+NAFqiq1tqVjezSw2d5b3EsGBKkUqs0ec43AHjoevoas0AFFFFABRRRQAUUUUAFFFFABRRRQAUUUUAFFFFABRRRQAUUUUAFFFFABRRRQAUUUUAFFFFABRRRQAUUUUAFFFFAHN/Ef/AJJZ4r/7At5/6Ieq3wp/5JH4X/7BkH/oAqD4uarHpnwt1qIqZLnUrZ9OtYFGXmlmBjVVHc/MT9Aa2vBmjSeHfA+iaPcEGaxsYYJSDkF1QBse2c0ATanZ6zcXCtpWrQWUQTDRyWXnEtk853rjtx7Vkaj4Z17VrUW+oa/ZyxrIkqj+zCpV0YMrAiUEEMAQR6V1dFAHIR+EdYi037AmtWH2bzPO2NpRYmTfv3kmXJbeN27Oc85zV1NI8TRRrHH4iskRQFVV0nAAHYDza6KigDlbtPEFlJFFP4ntfNm3eXGmjs7NgZJAWQnA456cj1FOsYvEGpWi3Nl4ps5ImLLn+ySCGUlWUgyZBBBBB5BBBqKa/bUPGWqxXko02w0G0jb7ThA8hlBZ23sMrGojA4xkg5Py4rmfDp8RafYaFGb57a68Ravc3UsL267kgYSylmDD5W2rFgDGHc5BHFAHZ/2Z4p/6GSz/APBV/wDbabJpHiaWNo5fEVi6OCrK2k5DA9QR5tc0PEWtjT5rtdWZ0k8RDTrDfFEBJDHMFnaRtuCAsdxgrt4Qck816LHIssSSJna6hhkEHB9jyKAOas/D/iHT7VLay16xghT7qJpOAOc/89an/szxT/0Mln/4Kv8A7bXQUUAYMem+JhKpl8RWrIGG5V0zBI7gHzDj8q3qKKAOQvrCB9QuGbwnrlwWkYmaLUIlSTn7yg3IIB7DA+gqKHT4BMhHg/X0IYfM2oxELz1P+lGu0ooAKwLrTvFEl3K9p4isYIGcmOJ9KLlF7At5oz9cCt+igDBtNO8UR3kT3viGynt1YGSJNLMbOPQN5px9cGuY+IN9pt94X1XTtIvUlv8AVtUttFndHyYJHaNWTP8ADtRmbHZmPcmvRapSaNpcrzvLptm7XH+uZoFJl5B+bjnkDr6CgClEuiaVd315aWkcdwqw2s0kUY3PtH7uLPsHHsA3J4OLehXi6j4fsb6K7N5HdwLPHOYvL8xHG5Tt7cEcVBrWhrqPhO+0TTpF05bq3eBXhjAEYcEHAGMdT09c1c020ax02G2d1cxjA2JtVRnhVHYAYA9gKALVFFFABRRRQAUUUUAFFFFABRRRQAUUUUAFFFFABRRRQAUUUUAFFFFABRRRQAUUUUAFFFFABRRRQAUUUUAFFFFAHnHjnd4U8WWfjfVo/wC1dEg2W8scuSdILEL9piUfKwJIDZG8cYbGVr0VHSWNZI2V0YBlZTkEHuDXNfEuJJvhT4qWVQyjR7pgD6rExB/AgGmfC+aSf4T+F5JmLv8A2Xbgk98IAP0FAHQajqEWmWRuZ0kdQ6RhYk3MzO4RQB/vMOTwOpIFQWWsR3WqXOmzRNb3ttGkzxMQQ0blgrqR1GUYdiCOnIJyPFU90Ne0G1lma10WWSZ7+cSFAzIgMUTMPuqxLE8jOzbn5sHl77R71rfxf4i0uO6hSW0js9KgiLRkxxK53hVwwjMsrMAMbhGMcNggHqFFeexeJGtdQ8Q6il3e32l6NZW9jEYW3+bPsaWSQA/KzlXhAPckDvXZXsGrNHAul39pCygiV7uzaYyHjBG2RAvfPXr2xQBPcadZXk0c13Z288sRzG8sSsyc54JHHNTtFG0qSMimRAQrEcrnrg9s4FZlta695jDUNVsJImQr/ounvFIpI4IZpnHHoVNcNZ2mp3GlaS8d1qsc+p6/J5TNcSE2tkjyvg5PAaOPGW5zKBnhQAD0hrK1aFYmtoTGr7whjGA2Sc49cknPvU1cJp2pC2k8QrqMupW9m2rJFDtZ2+zx/uozlycoJHEj5GMKwbILAk8GmRo31G7bV3uo5L4/Y3d9sURn/cxMrnhwiqVBxgMxOARQB3dFY2n3l5rPhm2vtJukhe6/fRyXtt5g8tiSo2oyZGCMHPIwTyaWC28SLcRm51bSpIQwMiR6XIjMueQGNwQDjvg49DQBNZa3De6/qWkpBOkunLC0krhfLfzAxAUhicgLyCB1HXNaVeZw2V+/iK7msWuo9YvPEayXGHcJDYw7F+Zfu7XijAHGSZMj7pI9MoAKKKKACiiigAoorjfiF4i1rw1Z6fc6YbNYLjU7S0k82NncrJKFbHIA4789aAOyooooAKKKKACiiigAooooAKKKKACiiigAooooAKKKKACiiigAooooAKKKKACiiigAooooAKKKKACiiigAooooAKKKKAOb+I//ACSzxX/2Bbz/ANEPVb4U/wDJI/C//YMg/wDQBWj43sZ9T+H3iGws08y4utLuYYkH8TtEwA/M1jfB69gvvg/4ae1kDrHYpC+P4XT5WB+hBoA6LVIddkmQ6LfadbRBfnW7s3mYn1BWVMD8DWPqOieKtUtVgutX0XakscyFNLmBV0YMp/4+OxAPPFdXRQBxi+FdfGlvYG/0NoJJhcPnTbjc8ocOJC/2ncW3AHOcjA9K0IrDxdBCkUOq6DHHGoVEXSZgFA4AA+0V0dFAHP8A2Xxl/wBBjQ//AAVTf/JFULXUPEV5MkVv4g0JmlXfETo9wqzLgHcjG4w4wRypPUVqeMNZk0DwrdX1vbJdT7ooIoZD8jPLIsS7v9kM4J9ga5LXYp9H8Q+HLOynae00G3uNUuoooEjEEUdu8MUaKijarmRgFOeIzjoaAN3TrnxLq1p9q03xBoFxD5jx700qbG5GKsP+PjqGBH1FWJbDxdPC8UuraE0cilWU6TNyDwR/x8VheAn1DR5NF8PTTfa9+jPqOoOIwFgnklUqFI5+ctOfmJzsyMdK9AoA5aw0bxRpllHaWOp6FFBENqqNLnOB9Tc5P41Z+y+Mv+gxof8A4Kpv/kiugooAwYrbxcJkM+q6K8QYb1TTJVYjuATcHB98H6VvUUUAcTqWjRz6pcytofjCUtKx8y18RPDE3PVEF4oVT2G0Y9BUVvokUd1E66B40Uq4IMviZ3Uc91N6QR7YOfSu7ooAKx57bxI1xIbbVtKjhLExpJpcjsq54BYXABOO+Bn0FbFFAGRb23iNbiM3Wq6XJCGHmJHpkiMw7gMZyAffB+lct8Yv+RZ0b/sYNP8A/Rwr0CsjV/Cmg6/MsutaVa3zrjaZ492MdCM+mTQBr0VBZ2Vvp9olrZRLDBHnai9Bk5P6k1PQAUUUUAFFFFABRRRQAUUUUAFFFFABRRRQAUUUUAFFFFABRRRQAUUUUAFFFFABRRRQAUUUUAFFFFABRRRQAUUUUAFcxpngxdB8V3GqaBftZ2F+zS3+lGMPDJKRxLHyPKYnG7GQ2OgPNdPRQAUUUUAFFFFAEdxbw3Vu8F1FHNDIpV45FDKw9CDwRUVpp1nYK62VrDAJDl/LQDecYyfXjjntVmigCvZ6fZ6dGY9PtILVCclYIggP4AVYoooAKKKKACiiigAooooAKKKKACiiigAooooAKKKKACiiigAooooAKKKKACiiigAooooAKKKKACiiigAooooAKy9J8SaTrt5fW2kXi3b6e4juGiVjGjnPyh8bWIxyFJI4zjIrkfjTrV9pngm1sNLuGtLnXtTg0kXKH5oVlyWYe+1SPxrtNF0aw8PaLa6VpFultZ2sYjijQdAO59SepPckmgC9RXNahdpqniwaZaRm9bTrcyXltIyrbqZCPK3kqxL4RiFAwAxJx8ued8L65c69pmj2M5m+y32oag6+e2XksoJXVEY9+WiHU7lUg5yTQB6PRXP3fi+zsNS1G1vIJok0+we/klIGPKQ4Jx1GSG2567GPQAnWs79buG2cwzQvcQCfZJGfkBA+VmHyhhu6ZzwcZwaALVFYh8aeFlJB8S6OCOCDfxcf+PVHqni6z0+HT57WKTU4L+dIIZLJldWZjhQpztbkEnngKxPbIBv0VysnjhLeLUnuNOmVdLvYrO6ZJAylpBHt8s/xn98mRxg5HJxnQ1fxF/ZN1bQmwmmFzdJZxMCF3SshYYz1UAHLDp6HBwAbVFUrHUGubGznubO4tJbngwSIWaJsEkMVyFHynk4HQdSBVa68VeHrG6e2vte0y2njOHimvI0ZT7gnIoA1qK4vxxrttqHw9vv+Ec1Fbye8li0+CTTboF1llkVPldWADANu5I4HPFO1rXo28N61qNujW974UkLzDfuBEcSTugb+JXicKc9CemVBoA6S71rT7G4WC7uVidmVMsDtVmOFDNjCljwASMngZq9XGeLbe+vb1tPtPC93dWly0T3V3byW0a3BVgVR2aVZAq4GcKSRkCuzoAKKKKACiiqmoatp2kxrJql/a2SNnDXMyxg468sRQBbopkM8VzAk1vKksUihkkjYMrA9CCOop9ABRRVfUL+30yxlvL2Ty4YgMkAkkk4CgDksSQABySQByaALFFNjcyRI7I0ZZQSjYyvscZGadQAUUUUAFFFFABRRRQAUUUUAFFFFABRRRQAUVnya9psWvQ6LJc7dQnjaSKExt86qAWIOMcZGee4qWTUYYdUhsJg0clwhaF2HySkZLID/AHgBnBxkZIzhsAFuiiigAooqrd6jBaXNtbPue4unKxRRjLEDG5z6KoIJJ9QOSQCAWqKKKACiiigAoqvf3senWMl3OkjRRDdJ5a7iq92x1IA5OMnA4B6VNHIksayROro4DKynIYHoQaAHUUUUAFFFFAHlvx2/5BXg3/sbbH/0GSvUq8t+Oozpfg0D/obbH/0GSvUqAObn0uxi1XVLmz1hLCTU9gvfLZPM3IuwMrHlW2gDnP3eADzUN3baXpaaLNor2yQ6MTEttFKMm3ZNjKvPJBCP3J2EdTWvP4Z0G5nee50TTppZGLPJJaRszE9SSRyaj/4RLw5/0ANL/wDAKP8AwoA5DxJpcmvaxqcEE0dnbakbW1urj7XE8c9pES7fL99WbzJY9oyOjEgcHoNPbyPGOqXkt5b/AGKeGJIT9rByyliSVz1yxHoAiYzlsX/+ES8Of9ADS/8AwCj/AMKP+ES8Of8AQA0v/wAAo/8ACgC9/adj/wA/tv8A9/V/xrO1CHStS1LS7yfUYs6ZO1xFGJk2s7RvHlvortj3NP8A+ES8Of8AQA0v/wAAo/8ACsnWNH0GwvbKBNE0KCO48wvLNZxsw2gYCoMFs5ySMgAc9aACXw9o0mnPbLrJRn1U6qZhLGWMvmb1BBGCF+ULkcbFPOKWbRLCbUra8bxJOxsrj7RaJJPG6wsYTCfvAk/KWIzzuZjk5xVDQX8G6hZym/07w9DPBeTWm8QQok5j53x5zkbSpIycZIycZOotl4DbZttvDp8yTykxHB8z5A2j1OSBj1IoAbcxJ/wlGj3VvfwvaWdvJHIz3nzM3yhSwzyNpkz6tsJ+6K6D+07H/n9t/wDv6v8AjVH/AIRLw5/0ANL/APAKP/Cj/hEvDn/QA0v/AMAo/wDCgBurxaXq8NuJNQgiltbhLmCQSIdki5wcHg8Ej8exrF1LTNLTw5d6DYXUcp1uZzf3Msqkush/fO7DjJT5FAH90ABQcbn/AAiXhz/oAaX/AOAUf+FH/CJeHP8AoAaX/wCAUf8AhQBe/tOx/wCf23/7+r/jU8csc0YeF1kQ9GU5B/Gsr/hEvDn/AEANL/8AAKP/AArTt7aCzt0gtIY4IYxhI4kCqo9gOBQBT1DWE06ZY3s76csu7dbWrSqPYkDg1U/4SiH/AKBesf8Agvk/wq3qGm3V7Mr22tX2nqq4MdskDKx9T5kbHP0OKqf2DqP/AENmsf8Afqz/APkegDVtLkXdqk6xyxBxnZNGUcc9weRWZFpt1Z+KdR1m61ONrCa1jjS2eEKYChYs3mZ+6c5x25rTtYZLe1SKa5lunUYM0wUM/udiqv5AVyPjOXxFc6hHYWPhI61o4QPODqEUCzvnhGDZJQYyR/ETg8AhgCt8JLW5i0PWbry2h0vUNZubvSYWUrstXI2kKfuqx3MBjo2e9bXirxfbeG4XRxtuiiPCbhWSGXL7Solxt3AZbbnOOemcWvDV1rd7Z3M/iLTF0qVp8QWguEm2RhF5LqMEltx+mKoeL/B48S28jGZp5Nsaw2l1KfsikSBmcxgfMxGRls4wMbck0AbOkazaa5ayXOn+a9ushjSV4mRZcAfMhIG5OeGHBwcE1i69Kb3x94b0g8wolzqcqdiYQkcefUbp9w90B7VtaRpKaNayW8F1d3ETSmSMXUxlMQOPkVj820YyASSM4zjAGJrkZsviN4a1U/LFNDd6ZI3YNII5Y8+nNuw+rAegoAteJfFP/CPeSRZG5V7i2tyPM2szTSiNVQYO9hyxHGABzzVhfECSeNpPDsduzPDp63ss4b5U3SFETHqdrn/gPvWX4ss3v/E3hkw7bv8As27kvptOSVFlkUQvGsoVmGQjyLnn+L8DzOk6vdxaX408c+WIDdXpgt1Pzs0FsnlIseMhmebzAOq5fILAYIB6fDNFcQpNbyJLFIAyOjBlYeoI60yS9tYZCk1zDG46q0gBqHSN/wDY1osy26SpEqSpbDEaOBhlUdgGBGPaoL7wzoOp3TXOpaJp13OwAMtxaRyMQOnJGaALQ1GyPS8t/wDv6v8AjU08y29vJNJu2xqXbaMnAGeAOtZC+DPC6MGTw3pCspyCLCIEH/vmtqgDltK8Wahq+rarpkGirFdaY0QmaW7xEPMiWQLuCE7wG5UAgYzu5GaCfEZ5PAcHi5NIxpriLeHuMSHdIsZ8tdhDgFuCSu7HAAIJZYaLr+n+AfFEkFqB4h1e5vbqGHzlwruSkA35xxGsfftjipNY8J3MXhrwpoenW/2nTtJurZryJGUNLHBGSgAYgEGVYicnp60AdRf31xBL5NlbRzSiMyu08pijjUcDLBW5POBjoD+OL4a8YXniWHSb2DQbiDS9UtGuUunmG6HG3CumON247SCcgZ47V/ESeL9Q0fU9Gs7G1DXmlGKLUFnAWO5cMrgqfmCqMEEA5OM98aehwX9podtZ21j9gisbFbeCC5dSWdVAXJjLAKMY65OTwMDIBtxzxTNIsUqO0TbJArAlGwDg+hwQce4pJrmC3x580cW7pvcDP51g+CdVfWtBfUJPJP2i5lkiaNArSQ7iIncDu0YVv90rWpqOiaVrBjOraZZ33l52fabdJNmeuNwOOlAEv9pWP/P5b/8Af1f8anR1kQPGyup6MpyDWN/whXhX/oWdH/8AACL/AOJrWtraCzto7ezgjt4IxtSKJAqoPQAcCgDgxcX2ofGfVrnTrKK5TQ9JiswZ7jykWWZvOcZCsclFh7dM88gGXxJ4ht9a+ECeMdKWRRbQRavbBhh0MZDshx6qHQ9sMe1OfQdbsbbxXZaVb/6Tr1680OotIoSBJIY49zDO/cm1sKAQcLyMnDvFOhwaN8H28KaVuCz2sWj2wzhmMpEWT+DFm9gxPFAHcA5GRXJah8QNNsNbhspWMIV5kulnjdJV2j5DGhGZA54UqDntzkV1iqFUKoAAGAAOlcfqPgCG/wDEFtfy3VxcfPO8081y4nhDj5FgZQPKCn+7tyOu45oA6y1uBd2cNwscsQlQOEmQo65GcMp5B9RXN6FKdR+IHia7k+ZdONvpsB7KPKWeTHuTMoP+4vpXR2kBtbKC3aeW4aKNUM0xBeQgY3NgAZPU4A57Vzfh+P8As7x54qsnyovZbfU4QejK0Kwvj3DQc/7y+ooA6SS9tYZCk1zDG46q0gBpg1GyPS8t/wDv6v8AjVS98MaDqV011qOiabd3D4DTT2kbu2BgZJGelQr4M8LowZPDekKynIIsIgQf++aAJNX1e4sPPFnaRztb25uZmnmMMaJzgbtrZJ2txjgA5I4zS0DxPe69LYTx6HNBpeoWP2yG8eZcrkrtR0xwzBtwwTwOcHgUfGtv4n1rRvEGhaVYQJDeWHk2l6bgDLOGEquOq8YCkA8nJxWzZm8g01lhtU0y2tbZY7eK7ZTtIH3n2MQFAAwA3PzZxwaANWOaOXf5UivsbY+1gdreh9DXMeAZimmanpJJKaNqk9lED/DFkSRL9FjkRR7KKteCdSfV/C0GoTJGkly8kwCIEJjdi0TOB/GYmjZvcmqvgKPzbHV9VH+r1bVri6hY/wAcYxEj/RliVh7EUAdVRRRQAUUUUAea3kR+Jnj3RriyUt4X8N3RuzeHhb69XhFi/vJGckv0JyBnrXpVeZ+KZT8PviJoWtaexh0jxHfDTdUs14jNxICYrgDor5BDHuBzzzXplABRXP6rfGbxFBp9tJPc+RbtNdWdodkg3ECJ2k3qFHyyALyW69FJrA0DxNc+IdN06xWeZlvNSvoftRHlySWltK67gRghiRGhIweWPBxQB39FZE3ifTLfULq0uJWja1tXu5HZPl8pDhzn2Jx74OM4OLtnqVtfQ20kL4N1ALiONxtfYQOSvUfeH50AWq5Z9N1Ow8barrUVn/aIvLKC3s/3qoLbYXLq245CszK2VDE46fKM9TWVrPiKw0J7db8y/wCkOsa+VGXO5jtUYHJJJwAAT17AmgDmLH4fmxh8OWjLBcJa3z6lqdxtA8+bEjqAv90Sy7h6CNaJvCepyaVe7oIWudS18aheIJAC8EUgMKBvdYYQR2DPjJ67UvjXTIPtvnxXUf8AZ06W96WjGLdn2FMkHDZEiH5dxAPOKuaj4js9MuooLiO4YyzLbo0ceVMrqWVM+pA69BkZIoA1I94iTzipk2jeVGAT3wPSnVTstUtr6xtLpfMgW8/1UdzGYpCcE7drYOcKTj0BNXKACiub+IGpXOl+B76bT5pYb6Ux21q8K7nWWWRY0IXB3YLA4wcgGoNa19I9B1DVrJ5ornw7JvvreVgDsVEkkRsEqcwsGUgnBK+hFAHSS31pDdR2011DHPJ9yJ5AGf6DqehqeuH8YeVPftpUWmak4vHgmurqCzllVvLcFI0bBRGJXl+NoOeTyvcUAFFFFABRRSM6ou52CjIGScdeKAFooooAKq6jp8GqWL2l2GKMVYMpwyMpDKynswYAg9iBVqorm5gs7WS5u5UhgiUvJI5wqgdSTQBQufD1le3AurnzDdm2+yyXEbmN5I85KkrggE88YqydJ0/+yl0z7FALFEVFthGAiquNoA6DGBj0xVmOQSxJIoYK6hgGUqcH1B5B9jTqAGxxpDEscKLHGg2qijAUegFOoooAKKKKACiiigAooooArWGnWel2i2um2sVrAgAWOJAqgAADgegAH0AHarNFFABRRRQAVSn0yK51a3vrhmkNqp8iI/cjcggyf7207QewLY6mnHVdPXVF01r+1F8y7hamZfNK4znZnOOPSpDe241BbFpNtw0RlVCCNyggEg9DgkZx03LnqMgE9FFFABVO702K6vbS83NFc2rHZInUo2N6H1U4HHqFPUCrlQXN7b2bwJcSbXuJBFCgBLO2CcADngAknsASeAaAJ6KKKACkdFkRkkUMrDDKwyCPSlJCgknAHJJ7VXvb630+xkvLyTy7eIBpJMEhFz9446AdSegGSeBQBXfRbRdGbS7FfsFs42kWvyEL3AI6ZHGRyO2Dg1cggitbeO3tokihiQJHGi4VFAwAAOgAqQHIyKKACiiigAooooA8t+O3/IK8G/8AY22P/oMlepV5b8dv+QV4N/7G2x/9Bkr1KgDnW8OXltrWsahpN/HbvrAiMzywmRoWRNgKfMARgDAIwDk85xVefQrfw2nh6bS4mFlo++2lXG5hBIuGcnqSHWNmPpuJq9ceDNBurmW4nsmaWVy7t58gyxOScBqj/wCEF8O/8+Df+BEv/wAVQBzfijSNQ1vW9bsrCG6j/tSO10y4ee1JiNou55XSUNgArM6bSNxYdMcjp9Pi1OPxhqRnE/8AZphiW3LupTcMlioHThguMD/VknO4Uz/hBfDv/Pg3/gRL/wDFUf8ACC+Hf+fBv/AiX/4qgC8fDuiMSTo+nknkk2qc/pUF/wCHYby80V4mS2tNJuWultY4gFkcxui9CMAeYWxg5OKg/wCEF8O/8+Df+BEv/wAVSHwN4dAJ/s9jj0uJf/iqAKs3gky6bNbnUf3k+tf2tK7QZWQrKHjjZd3IUJEM558sHAziprvwzqd5qljdza2k0en3RubWGazB2t9nMPzFWXdy7vnjlvYVz1vZeHfO0hb3SVhOqTfZvJF7I0tpP5TyiOQBsZ2xuD0wQBg5yLnhbQ/D/iPRft8mjrbMZ5oxHHfyyhlSVkV8/KcME3DjoaANu4ttWj8T6OYp7iayjt3F0+5QskgwF3KMddzMSB1RQMAmtCbQtIuZmmuNLspZXOWeS3RmY+5IrO/4QXw7/wA+Df8AgRL/APFUf8IL4d/58G/8CJf/AIqgCXUfC9ldW9pHYxQWJtL2O8QRwgIzpkfMqkZ4PrwQD2rJ1Tw6sPhfVNDjla6v/Essgu5du3cJFWOVwP4VSIADJ/hQZLHJ0f8AhBfDv/Pg3/gRL/8AFUf8IL4d/wCfBv8AwIl/+KoA6Ciuf/4QXw7/AM+Df+BEv/xVbNlZW+nWcdpZx+XDGCFXcWxk56nnqaAKOreJtJ0OaOLVLvyHkXco8p2yM46qDVD/AIWD4Y/6Cf8A5Ly//E1qaha6pPMradqcVpGFwyPa+bk+udwxVT+zvEP/AEH7f/wXD/4ugDUsryDULOK7tH8yCVdyMVK5H0PNYsmgT6h4qvbjXLfTb/SGto47OKaMySRPlvMyGG0KcryOTjB4ArbtI54rVEu51uJgPmkWPYG5/u5OPzrjvG+t3yX0ejp4b1/UdNkj3Xk2lwxt5oP/ACx3NIpUH+IjnHAxkkAEHwie4bw/q6qzvo0esXKaK7sTmzBAXaT1QNvC+3sBXRa54qsNFMtuXSfUEjSVbLzAskiNIE3LnrgnnHTjOMijwrqVzqmnTSzaLdaJbxSiG1s7uJY5FjVF5KqzKBuLAAHoBWZ488JT+KLB1aRrqGMRmHTsLGrSB/mdpPvfcJAAIHXqSMAHR6dq1hq8c0mmXcV1HBM0EjxNuUOuMrnocZ5x3yOoNYfiKY3vjHw5ofJhkabUrhQfvLb7AgPt5ssbfVBWvoely6Pp5s5L6S9ijc/ZzLGqtFFgYjJUANjBwcZxjOSMnF1eM2vxQ8N354jubO904kjje3lTKPY4gk/KgDQ17xTZ+Hyv2qKaVRJAkrRAHy/OlEUfBOWJY9BnhSfQGx/b1qfFZ8PqspvFshfMwUbFjL7ACc5ySGwMdFPNYnjTT7i71rwtO1vJPpllqZur0QxGRwywyeS21ckqJCvQHBwegJGDpOttFceOfG5hKwR3Is4TOuNsFpGdxxkEkytKAo53YBxg0AemUVR0SIQ6DYx/ZEsituga2jbcsJ2jKA98HI/CqepeEdD1e+a71Gy86dgAX8514AwOAwFAG1TZZUgheWZgkcalmZjgKByTXPJ4A8MxurppuGU5B+0S8H/vqujIDAgjIPBB70Ac3p3jGPVNRvtOtNMvTf2Jj8+Bwi+WsiB0JbdgZBxt65B4wM1VX4i6ZJ4Tj8SxWl4dIyglnZUUxFmCEY3fNtY4bbkcEAsRiszS7fWdL8E+L9bTT7g61qd3eXVrbBP3p2jyrdcf7saH23UmreGJ9P8AA/hHwxb28s2nWlzarqTQRlyY4EMn3Ryd8saAkf3qAO1vNR+z3CW1vbyXVy6GTyoyo2oONxLEAc8DuT7AkY+heN7TxE+mPp1hqBs9UtXube7eAiMBdoIf+6ctgZ64OOME1PEWqeIJdH1TTLDQpxqVxpRNrcIw8ozuHHllui7OCSSM5461e8NiTT/Ddlp+m6fKLfTtOjiRZ0MDSSKgAQBhkdOWIxlhgnBwAdFRWB4Pv01bSrnUY7aGH7TeTHzIsgXARvLWbB5G5YwR14wauav4d0vXTEdVtfPMOfL/AHjLjOM/dI9BQBp0Vzf/AAr7wx/0DP8AyYl/+Kres7SCws4rW0Ty4YV2ouScD6nmgDhJryW++NlzJb2E96ugaOIgI9oCzXDh2+ZiBny4kwM/xdhzVzxVrtpe/DeDxlpEheOxWLVraTBUmMYMikf7UTSIR/teoqqlpq+kDxjFp9lPNrOsX7SWU5QiLY0EccbtJjCrHtbK53fKcA5GV8R6BH4c+Bk/hfT5Gdjp6aVC+3mWSXEIOPUs+ce9AHfVzs/jbSIr9YUuoWgjeeO9uGlCLZNEMkSZ+7n3x2IyDXQqoRQqjAUYArhda8Az6t4qtNSub2WaUPKy3arGhsVAzCETBD4PUuHz7DigDtbS6hvrKC7tX8yC4jWWN8EblYZBweRwa53SpTqnxE12eU5TR0h0+Bf7jSRrPK3/AAIPCP8AgH1ro7WOaKzhjuphcTogWSYJs8xgOW29snnFcz4ZjNj438YWTjaLi6t9RiB7pJbpET/33bv+VAHV0Viaj4P0LVr57zULHzZ5Mbn851zgYHAYDoKrp4B8NRyK6abhlIIPnycH/vqgDN+LllFcfC3xDcSNMHg02coEndFzsPVQQG/EHFdXp6htItVYAgwICCOvyiuc+J6XF38Oda0yws7q8vb+ylggit4WfcxGOSOF69yO+M1vaLcC50e3IinhZI1R0nhaNlYKMjDAZ+oyPegDH8CTuul6hpDsW/sXUZbCMk5PlDbJCD9IpI1/DNdPXK+Bk3yeJdQT/U3+uTyRHPURpHbk/TdA1dVQAUUUUAFFFFAHD/Fvwxf+JfBSHREEuqaTew6nZQt0lkiJ+T8VZse+K6Dwv4o07xbocWpaXIcN8s0Eg2yW8g+9HIvVWB4x+PStiq8OnWVte3F5b2dvFdXW37RPHEqvNtzt3MBlsZOM9MmgCxRRRQAUUUUAFYPjW11O98HX9tobyJeShFzE22Ty96+aEORhzHvCnI5xW9RQBxGoeH5NY8Q6XeaVZfYrTQLWc2Xmx+UJbiSPZGAhAIVFL8kdWGOhqLwb4Xl0zUNGeCxbTrPStGNnKGUK91cSGIuWx94KYj8x6mQkEjk95RQAUUUUAFFFFABRRRQAUUUUAFFFFABRRRQAVR1fS4tXsPs8jNE6OssEyD5oZFOVcfQjp0IyDwSKvUUAYtz4aiu9WTV2uZbfUxZ/YmuLcKMRltxChw23LD68D0BEy+G9JTw9HoaWarp0YXbCrMOQwcEsDkncNxOck5JzmtSigCO3t47W3SGBdqIOASST6kk8knqSeSakoooAKKKKACiiigAooooAo6Ro1hoWnx2OlW/kW8SKiJvZsKqhVGWJOAAAPpV6iigAooooAKz7vSvt2r2d1dSboLImWG3C8GYgrvY98KSAOMEknJ240KKACiiigArPu9LE2rWupW7+TdW4MTNtyJYWILI34gEHsR6FgdCigAooooAKr38E9zYSw2lybWWQbROEDGMHqQDxnGcZyAcZB6VYooAr2Fjb6Zp8FjYx+Vb28YjjTJOABjqeSfc8mrFFFABRRRQAUUUUAFFFFABRRWfruuWHhrQbvWNYnFvZWcZklkIzgdAAO5JIAHckUAaFFc94Q1PX9bsZdT13T4NLtrra9jZAlriOPnmZs7dzcHaB8vQknpuz3MFrH5lzNHCmcbpHCjP1NAElFMaeJIfOaVFiwDvLDbg9OacrBlDKQQRkEHrQAtFMiminUtDIkgBwSjA4PpTI7y2mkZIriF3V9jKrgkNjO0++BnFAE1FQSX1pE5SW6hRx1VpACKljkSWMPE6uh6MpyDQA6iiigAooooAKKKKACiiigAoorK13xHp3huG3n1eR4YLidYFlEZZVZjgbiPuj3PAwc0AatFUZ9Wht9YttNaG4aa5jaRGSEsgVSA2W6DG5evrV6gAooooAKKKKACiiigAooooAKKKKACiiigAooooAKKKKACiiigAooooAKKKKACiiigAooooAKKKKACiiigAooooAK8u+PB3+HvC9q/zQXfieyhnjPSRDvJU+oyo/KvUa8t+O3/IK8G/9jbY/+gyUAepVy73p1fxxcW+meXHNoUHlz3M+90DThX8sRqygkKiMWPQMAOpx1FcdqtpcT6jfY8KX0sd0Qlw8GoxRJdqowpZd4PTjsSODkcUAZvhZpdW+Fm27gRINZvp1trf7wS1muW27c9hESw7AAYAAwKdlrbaP8Fp4IGJk0W1urWQAkkC3kkgjjH+07RhR7Z9q352v7i4sZW8HajGdPYNbJBqkcUaYUryiShWGCRggjBqneaab7T5rCfwNfC3nujeTRxapHF5kxcPvYrKCfmAODxwKALieGZNI+Ftt4W0i5t7K/axW0hkfIWWYR5bJXn5grEkc4yR0pnh6SXUfE0cHiDw/FpGq6LaAwC1uFmt3ilJQMhCqRjymG0gYBPWn376jqT2j3XhDUt9kxe3dNThRo2Kld2RJydpI5zwT6062n1O1S42eEdRaS5G2aZ9ShMjjBx8/mZGMnAGAMnGKAMHRYbnUfGPinWrPSLG7t7nV4NM3zHLLFBtSZguwg/M03JYcjvjnutBsdO0/SFj0VI1s5JJJ08pAqnzHZyQAAMZY49sVx8Ohm20mTTLbwfrcNnIZGeOPxCVyXYu5yJ88sxJ57muz0aWeTT1WfS30sRHy47dpEfCADBGwkAdse1AF+isfxDfpp9vC8mvWOihnI8y8ClZOOg3MvNYH/CSW/wD0UXw//wB8w/8Ax2gDt6Ky/D98l/p7yx61Z6yBKV+0WYXYvA+U7WYZ5z17ip9UvLyzhR7DTJNRdmw0ccqRlRjrlyBQBzgjEXxoTY0hEmhSuytIzDP2iMcAnj6Cuwrimgu28Qrrh8Hap/aCxmISf2wm0JuDbdnnbcZAOMV1GmXd5eW7vf6bJpzhsLHJKkhYY65Qkf8A6qAPP/iJqniHwz4q03U5vEV9YeELsra3bWdvbFrCYnCSs0kLkxseD6Hv0FdQvhnVmUMvjzXyCMgiDT+f/JWtvU9Ns9Y0u507U4EuLS6jMU0TjhlIwRXGfC5NW0qHV/DF/KdQ07Q7kW+namWyZoyM+U3q8XCkjjt2NABcaV440HxDYajF4rn13RFmEd9p1zYW6SrG3y+YskSKTsJDEYHCnr0rX1ZdI8T67c+G7u4guFj0+T7XaCQF1875FbHUEKJOe24eorpqaZY1lWJnUSOCVQnlgMZIHtkfnQBx/wAP5NTuIbiLXlka90YDSXmkGPPaMljMvtIjQsffI7V2VFNkkSJC8rqijqzHAFADqKKwbvXNagvJYrfwne3USMQkyXdsqyD1AaQEfiKAN6sfWtTmhvrDSdPIF9qDORIRkQQoAZJcdyNyKO251zkZqC113Wp7uKK48JX1tE7hXme7tmEY/vELIScewzVKNjJ8ZrlZOkGgQmLPfzLiTfj/AL9x5/CgDrKK4nxJcagPH3hzTrO+mjlu7t7h1jdgiWcMX7xXTOGLSOoyRwCMYIqTQtYu73xR4wvjO0tjY3EOnWVu8oRDLHFukxngFnlCZ/2B6UAdlRTYmd4UaVPLcqCyZztPcZ71iXut6zbXssNt4VvbyJDhZ47q3VXHqA0gI/EUAbtFc/ba7rc11FHN4RvreN3CvM13bERgnliBIScewzW1eRTT2M0VtN5EsiFUlxkoTxuHuOtAE1FeWWmoyn4b+LfEeoapqD2NvPftpYW8kRkiiLIuHDBm3OhI3E4yMYq9fnWNNsPBcNzqd5L4i1HULZboiVlRkVC9wDEDs2hFZc4zkg5zzQB6LRXI/EC6fTvBmt619tnRLXT2ayW1meM+cQdrEqRuyxQAHI475q9oei3tjdRX+p61d3FwbBI7u1eXMPnZ3PMF/hJOQAMKAOlAHQUVXsriS6tzLJEsYLsI9kgcOgYhXyP7wwcds4qjq2qanY3CR6f4futTRk3NLDcQxhTn7uHdT7+nNAGtRXN/8JFr/wD0JWof+Btr/wDHa6GF3kgjeWMxOygtGxBKHHIyODj2oA52z1/ULj4lahoOy1ewstPiunlRW8xJJHZURjnHSNz07j3q7e6nLpfiCxiumDWOpMYImK4MM4UsFJ7qyq3XowA53ADzveE8NfEPxzPe3ltJJcXKWTQTtGFFqnkRkBSNxMiNw2Rz05Oej8ZT3kvwv0+/vUEOpx3OmXBTGNs/2mHKj0ySV/GgDuaK5rxtL/Z/hvV9XvLueK0sNPkmjjtp3hYyBWOSykE9FCjOMk5B4wzwzpGpQLpepazrd5LfNpgS8s3ceU8x2s0mz+EqflGMcHnk8gHUUVWsrmS7ieR4ljTzGETLKHEidnyOmfSrNABRRRQAUUUUAFFFFABRRRQAV5f8a0N7J4G0yD5rq48U2sqIBn5EV97fQBgTXqFeceGhHqnxSvLnxgTD4nsIXXTtPxmCCzZsedA3/LRn6M52sPu7VHUA9HoopHdUXc7BV9ScUAQ317b6bp1zfX0gitrWJpppD0RFBLH8ADXm+rz3sWg6LqFnYCG81jW7aS1kklDXMQlnEjByFA2+QJFKgnavGWxmvSb2zt9RsLiyvYlmtrmJopo26OjDDA/UEis+08PW1vd2tzPPcXstkhjtTclT5AIwSuFHzEcbjlsZGeTkAwJ/H11DYatdnQyY9LvIbSVftQ3yvIIiEQbcFwZgpBIG7gMeSNzSddnv9d1HSrqyS3lsIoJWeOfzFPm7/lztGGAQEjnhl5pB4U0sW3kbJCh1L+1GzIfnn8zzAT7BsYHbavpViz0GysdZvtTh8z7RfSebLufKhvLjjyB/uxIPbBxjJyAaVFFFABRRRQAUjMFUsxAAGSSelLVPVdOTV9KuLCWeeCO4Qxu9uwV9p4IBwcZHcc+lAHnljN/wh+qSGaFW0rxRZS3kVo6/JFeqhdoQOgDxEDGOTEe559A0TSLXQtFtdOsYo44reML8iBdxA5Y47k8mm3+h2Oq2dnb6nH9qFnPDcxPJgMJYiCr8ADORzgY5IrRoA5Hxf4stLK/g8Ow6xaaZf3aeZNdTzpH9kt84LjccF2OVQc85YghSDPYeJ/BOiaVDZ2niPRbe0tk2qG1GLgdySW5JPJJ5JJJrbutI02+m8290+1uJMbd80CucemSKh/4RzQ/+gNp//gKn+FAHLXnxX8O3Wu2Hh7wrqltrGsahOsaC0PnRQx/ekkZ1+X5UDEAHJIHQZI0U1iaTxxf29xHYrDp1luWdl+eJ5CzBA3U5SLewA4Gz0yd220bS7OcTWem2cEq5AkigVWH4gVR1S90Dw3fJqepmOzmvpFtxcmNiGc4UBmAIUnCjJxkKOcLwAZv/AAmUP/QW0f8AOT/CqHxDNvqfwxkv5FtbmRZbcxTxruC5uYwdpPI6c/Suwm1S1t9Ug0+Qy/abhGkjVYHZSoIBJYDaMEjqR1HrSano+n61biDVbSO6hBBEcgyuQQQcfUA/hQBdopkMMdvCsUK7UQYUZzin0AFc1rVudM8W6b4jHFt5Emn3zdkjdleOU+yupUnoBKSeASOloIDAgjIPBB70Acdrz7vFhu2sNQgudNsylldWW13vfOOXhCMjKADHGdzEYPJwMk448D31p8LbfRriFr3Uby5MupyJLlh9olJuSpYgMfLd4wx5wc+tekgYGBRQAyBpGt42nRY5SoLorbgrY5APf60+iigApGG5SASuRjI6ilooA5seBdJHgS18Jb7n+zbcQgnePMlEciyYc4wdxX5sAZDHGKuax4atNZ1Kxv5priC5skmijeBwCUlCh15BxnYPmGGHOCMmtiigDmNS8BaZqj6gLm6vxBfmJntUnAijaJQIyi4+XaVDY+6WGSDV+80xodH1B41k1S9ki3Ktwyr57ICUjO0KoXPGOAdxznJrYooAw/Bmnz6V4SsbK7jdJYYxvaQjfK5+Z3YDhSzljjJwCOnQblFFABRRRQBgN4O010+zzPPJp/2tr0aexXyfOMhlLEBdxHmEvtJIz24GIvEcJ1zWNL0WL5oYLqLUL5h0VIm3xIfdpVQgeiN7V0lIFAJIABY5OB1oA5zWPA+na7PqTX93qDQ6nDHFcWy3H7ohM7Cox8pBO7ggEgZB6VoNpKx2d4ZWm1OeeHY32h1UyKAcR/KFUAkntznnNalFAHP+CLC803wla22pxNHdktNPuIJeWRjJK2BwAZHfAz0x9K6CiigAooooAKKKKACiiigAooooAK8v+MbnSdW8CeILT5L238Qw2QccFoZ1YSIT6ELj8a9Qry347f8AIK8G/wDY22P/AKDJQB6lXLXV0ut+NZbCxhSZ9FgH2l7hiYVeYBlQJj5n2pndkbQ/8W4gdTXG6pE39ragYPDviApebUu3sprVI7sKNobLSh1+XjI2nAHoKAM7wvK2tfCtxeW6/ZdTv54bSBwG8u2kumWPb2IVDuXsAo7CoNP16TR/g0yq7GfSLO5gmbLFlFs8kIX13O0e0c+pHStmS7mZ9P8AK8H+ILePTSDbQwPZpGmFKY2ifptJXHQA8Yqlc2cNzp1zY/8ACFeIYra6uzeXCRz2o82UyCTJPn5xuGcdPagC9F4cu9D+FsOgaFNBbat9iSFJXfZ59wEG8lhzuYK3zDkdR0qt4YNtf+JxHqHhhvDmraTb+YLdHjeKaOUlVkV4+GxskGGAI3H1NWNQvbrUpLKSfwr4kWaxkMsEkc1mpWQqU3EefgnazDBBHzHiltb+8tTcyr4W8RyXd0oWW7keyMhC52gfvtoC7iQAMZJOCSSQDE0uGPU/GHiTVk0CHUYpdXh0xHkjRliSEKJpMHnO95Og52rnpXdaDp9jpmkrb6UEFoZZZYxGuFG+RnwoHGBuwMcYAxxXE2mm3NjozaVZaP4zgtHkklYRXNirlpHZ3PmCXfkszHrx26Cu30SXzNLjQaVcaVHCBFHbXHl5VVAAx5bsMY469qANCisTxPqMunWkLQa9o+is7483VYTIkgx0UCaPnv1P0rmv+Envv+ij+B//AAAb/wCTqAPQKKyPDV/JqGmPLNrWl6yyylftGlxGOJeAdpHmyfNzn73Qjj1tanqE2nwJJb6ZeakzNtMdoYwyjHU+Y6jH4556UAc8N8PxkSJZpzFJockrRPO7IH8+MZCk4Xj0Arrq4ppp28RLrZ8K+Jftqwm3DedZ7fKLBim3z8YyBz1966jTL+bULd5LjTLvTWVtoiuzGWYY+8PLdhjt1zx0oA4fxz4h17wv4w0ya61IWnhPUMW0l1FbozWVyfumQsD+7bpnsevbPUnSNaK/L4nn5HB+yQn/ANlq9rOj2PiDRbvSdWt1uLK7jMUsbdwfT0I6g9QQDXI/DCbWbGLV/C2su19H4fuFtrTVdwIuYSu5Ub/poikBvqv1IA66Tx1oGvWF7cazZ6xoBmEd9D9hEE8Kt8okDAkMqsQzdMKD1rT16x03xXqs3h2+eOeBLCRrqAONyGX93G4HUHaJsHtkV09RrbwpM0qRRrI3DOFAJ/GgDj/AN3qepCc+IEb+0NHQaVPIykCSZWLPKvqsifZ3z747V2lAAGcDGeT70EgDJOB70AFFFZFxrN9DcSRx+GtUuERiBLHJahXHqN0wOPqAaANesnWtUltbiy02w2nUNQdliLDIijQZklI7hQQMd2dB0OaSDWr+a4jjk8M6rArsFaWSW1KoD3O2YnA9gT7VlRuZvjNOknS10CMxA/8ATW4ffj/vzHn8PxAOsHT1orjPEV9qkPjjw/p9nd+XJfXrSbFY7Fs4Yt0xZehZndFGcgAqRg5qbQdZ1DU/Fni6ZGkudO02SGxtLZNo3TJF5kuCcclpVXk4+WgDraKbEzPCjyRmNmUFkYglT6ccflWXc6xfQXUkUXhvU7lFOBNFJahX9xumB/MCgDWorHh1u/lnjjfwxqsKswUyPLaFUBPU4nJwPYE+1aN8lzLYTx2Miw3DoVjkYZCMf4sd8dcd6AJ6K8xsdUuz4B8V6/eatdnTbGa//svbMwYRwllDGTO5yXRtoJIwRweMXb681zTtK8HC6vpX1/VNQtIblEO2MpsL3C+X0wER+cZzg5HAAB6DRXJ+Pby40rwlresm8lgjstPd7RLdyrGfB2s2OvzbAF5U5OQcjF7Q9K1a3uoL7VNXlmeSxRLqz2/uxcE7mkU5+UfwhQOgySTzQBvUVDazSzxu09rJbFZXRVkZSWUMQHG0kYYAMAecHkA5FVdQ1K6splS20S+1BWXJktngCqc9D5kqnP0GOetAGhRWJ/b2o/8AQp6x/wB/bP8A+P1sxO0kKO8bRMygmNyNyn0OCRkexIoA5+18RXlx8Rb/AMOmzh+yWenxXbXSTEsGkdlVGXaACQjnqeAPWrd3qk2neIrO2u9psdRzFBIBgxTqpbYT3DKpIPYqRzuAHnsc7x6F8RPHLX1xbMZ7lLJon2gC0j8lG/2syI+FOV56c10HjC7up/hhpuq3UXkahHcaZdGPpslNxDuQfXcy496AO5ooooAKKKKACiiigAooooAKKKKACiiigAry747AjRvCMh4SPxXYs7HooxIMn0HIr1GsXxd4XsfGXha80PVNyw3KjbInDxODlXU+oIB/TvQBtUVz3hCTxJHYSaf4ut42urPaialBIpjv15+fZncjDA3AjGT8pI6dDQAVzWs3MWpeJrXRrdTdz2sRu7q1dwtuY3DInm5RiSSGKqP7hJ6DPS1kXHh6OTWLrU7O8uLG6vLeO2uHh2HesZcoRuU4YGR+ffkHAwAed2mqahq9zY6bawPsXxTcG2iM5VUt7VAZBvxzGLn5RgH5cADjFelaDrMGv6NFqNsrIkjOhVucMjsjYPcblOD3GDVP/hEdPhjsF0559PfT4JbeCW3KlhHIVLglw2SzIrFvvZGc8nOnpunWmkaXbadp0KwWttGI4o152qB6nkn3PJoAtUUUUAFFFFABQSFBJOAOST2oqpqlh/aml3Fkbme1WdDG0luVDgEYOCwIHXrigDz3TNRm8LajP/aDTXGl+ItPl1GzhlkJEM6KWe2XJ4DRFCB6xvXf6Lpi6Po1rYo7SGGNVeR3Zy7ADLEsSTk881Bqnhyw1qysLbU1acWFzDdQvwpEsRyp4AHPIIAxgkcVq0Acx4q8TJY3UGhWOoW1nql8hbz53ULZwjhpiG4J7Kp6t7K2LOlX/hrRtMhsLHVrBYYgcFrxGZ2JyzMScszEkknkkk1bvvDWhapdG51PRdPvJyApluLVJGIHQZIJqv8A8IV4V/6FnR//AAAi/wDiaAMnUviZ4fi1mw0PRdStdV1nUJ1iitrWUSiNc5eRypwoVQzYzk449RY/teSXxtewTWdh/wASuwaRbmVtrQmRjtjMmDgMsJdsD5QEzmtWy8M6Dpt0tzp2iadaXCghZYLSNHGRg4IGasRaRYw6pNqMVuq3c+PMkyfmIUKDjOM4AGcZwKAOU/4WB/0+eD//AApv/tFQfECSHVvhc2oyLZyyCW3aOS1n8+Jc3MYJR8DPTGcDuK76s/WdCsPEFn9k1WOSW33BjGk8kYYggjOxhnBAIz6UAaFFMhhWCFYkLlVGAZHZ2/FmJJ/Gn0AFczrEP9l+M9N8QEYtpYH028f/AJ5hnV4XPsHDJ/21B6AmumpskaSxtHKiujgqysMhgeoIoA4zX7i2HjP7ZJHdWl9pViyW06KkhvFnI3xxxfeZgY0wegJ5yM1jnwfqFt8KItL1CGS51LUrwzam8Z3mI3E26Z8LjcyxsygqODgjpkemgYGBRQAyB3kt43mj8qRlBaMsDsOORkcHFPoooAKRgSpCttJHBHalooA5c+A9PPw9tvCBuLj7FCIVkkyPMmCSLI27jHzlTn/eNX9Y8Nw6vq+n6i1xNBPYxzRRmM/wyhQxHo2FADdgW9a2aKAOW1TwJb6umoW1zqd+LC88lls1l/d27RABPLB4VcqHK45brkcVoXmmyQ6XqNwVfUb6WHPlgiMTbMskIHQKSSDnOd5ya2aKAMDwRYzaZ4N0+yuEkWWCPa5kXaXfq7bf4VLFsL2XH0rfoooAKKKKAOabwRYyW5sJppJNI+2vfHTtqiN5GkMpVjjLJ5hLhfXg5XApPE8X9t6ppWhRDzFW7i1C+weI4oX3x592lRAB3Cuf4TXTU1Y0R3dUVWfBZgOWxwM+tADqKKKACiiigAooooAKKKKACiiigAooooAKKKKACiiigAooooAKKKKACiiigAooooAKKKKACiiigAooooAKKKKACiiigAooooAKKKKACiiigAooooAKKKKACiiigAooooAKKKKACiiigAooooAKKKKACiiigAooooAKKKKACiiigAooooAKKKKACiiigArzzx1rOoap400fwBod5JYSajC97qV7AcSwWinGIz2Z2BXd2r0OvLbr/k6+y/7FI/8ApS9AHoukaRY6DpNvpmkW621nbrtjiXJxk5JJPJJJJJPJJJNUNT8Sf2Zb6pdyWUzWekgNdSkFW27BIzRgjEgVWBOD1DAcjB3K8rudGvfEngFtI1G3mPifWHaO/uWhYfYo2kxIA5AAQRZRVHD577mNAHb+I/FVv4ch06ee3lube+u4rXzISD5XmMFDkE8qM8kdKl8S+I4PDenwzy2813LcXEVtDbwY3u8kioOpAAywya5vxpaSazputadp1pdmbT9Fl+yZtZdksxIZVVyMMQYU+6Sfnp2qLdap4v8ADMV3Y3ip9pe/uCLaRo4AkTLDE0gGwNvl3nnqh5wBQB1F7q62T2Ns0Ja+viVhtww6qu5iW7Ko6n6YBzSadq019c39vLYSQSWLLG53hkkcrvwjcZADLyQOvQYrC8UWmka/qTWGuWuoW4sAktnqVmZopFmYNvWOSPnIUJxnnd0O3itLc654f+FF+8g1LVNVEdytgPIaW5cEv9n8wIv3tuzcSBjvzQBas/HU+oeET4is/D93NaBJZBGs8XmukbMCygtgg7cjnkEetdfXA+H9NsvDUei2Wkw6tcXMVmmnIs1tc/Z41+UySkyAKnCZxkZOAOtd9QAUVDLeW0L7JriKNv7ruAaZ/aVj/wA/lv8A9/V/xoAs0UisGUMpBBGQQetLQAUUUUAZtnrltfa5e6VFHcJPZQxTyGWIorLI0irtzyeYX7Y6YzmtKuV0+43fFLWW+y3qxS6ZZW6TvZSrE0kct2zgSFdpwJE5zg7hjNdVQBh33jfwppd9JZan4n0azuojiSC41CKN0OM8qWBHBFV/+Fj+CP8AocvD/wD4NIP/AIqud+IGj33h7WofiJ4Wgaa8so/K1exj4+32Y5PHeROoPoMc4ArudG1ix1/RbTVdJnW4s7yISwyL3B9fQjoR2IIoAq6X4u8N65dm10TxBpWo3AQuYbS9jlcKMAnarE45HPvWR448Ran4ca2vdPEctlao11qcTRln+zK6K7IQeGCuz88ERsPpcvPBWkS+IrHxBY2dvZavaSf8fUMYUyxsNrxvj7wKk4z0IBHvatbG+m1zVJtVtrP7HcQx28AjnaRnjUuTvUoACfMPALDAFACw3F3deJpFgvYm06K1jkMaxBi7uXxh89AFBxj+Ic1r1zvgnwzL4T0F9OnvDd4nbyXbqsK4SFCe5WNEB9810VABTI5o5lJhkWQKxQlWBwwOCPqDxWH4y1Kew0NIbGVob3UbqGwt5FGTG0rhWcZ7om9/+A1dmudM8MaRCkmbe0gTZGkcbSEKqknhQScBSSfzoA0qKz213TF/sz/TIz/apxZYyfP/AHZk4x22KTnpWhQAUUUUAFFFefeK5rSb4u+FbaRWL2Vvc6hP5aM7soAiiXaoJI3SO3T+DNAHoNNMiLIsbOod8lVJ5bHXAqtpmq2esWhudOm86NZHhb5SrI6MVZWUgFSCCCCKq+JdOl1LQbhLJvLv4VM1lL3jnUEofpngjupYdCaANWisfSvElnqPhHT/ABAzeVb31tFOqgFmzIAQgAGS2TjAGSahfxt4fiZFl1Dyme5S0KyQyKUmdtqo4K/ISem7GRyOKAN6iiigAooooAKKKKACiiigAooooAKKKKACiiigAooooAKKKKACvLbr/k6+y/7FI/8ApS9epV5l4Xj/AOEs+NuteMbXDaTplgNEs7gfduZBJ5krqe4ViVz0OeOlAHpU8Rmt5IhI8RdCokjIDJkdRnuKwv8AhFrj/oaNc/7+w/8AxqugooA5bUNEOmabcX154r11Le2iaWRhJESFUZPAi5qtBYPLqsenT+IfEVrdTQNcQpLLbnzEUqHIKoful0z/ALwxmr3ja7vraw06Kyka2t7rUYob+7RtptrchmZt38O4qse7t5mQQRkc3d2Eb+JtR8S2cl0dG0TR5I4PJlc+fMzCSYxtnJGyGNNynks2OQaAOo/4Ra4/6GjXP+/sP/xqj/hFrj/oaNc/7+w//Gq5zSNN1iHVPDGnajqOqzSQ6PJcaxM1xJiaX90qR8HAO7eeMNhOSdzZ3fh9d3V54MtJb955J3LSFp2LModjIsZY8sUV1Qk90IJJBoAm/wCEWuP+ho1z/v7D/wDGq3IIjBbxxGR5TGgUySEFnwMZOMcmpKKAOf1fTbm51BpIPDmh6gpUfv724KSH2wIH4/GqP9jX3/Qm+F//AANb/wCRa66igCK1Ro7OFHhjgZY1BihbKIcfdU4GQOg4H0FZep6BcajeGeLxBq1gu0DybRognHf5o2OfxrZooA5seErvP/I3+ID/ANtLf/4zWnq+mS6isZh1K/sjEGO2ydFMmccHep9OOnU1o1meItUj0jQbq5adIZdhSAuespB2j8/0BPQUAchpd3b6voOoanZ+IvE2NOZ1uLeR7dZV2qHzym0hkYMDnBBBzXX+H4pYtHja4fUGklJcrqTRmZM/wny/lHTOB681yeraHPpXijTn0G3abTNct49L1BY+QixjdHLn08rzkJ9467+gCrqeo2ukaZPfahJ5dvCuXOCSewUAckkkAAckkAda5z4e+Fz4a0q+bynsk1K8e9TTN4ZLEPj92voeMsAdoJIHAyaniCPxTP4yiuIfDkGp6Tp6q9mjaksO6cjmV1KnJXOFHbluTt22JPEHjkRkw+BrVn7BtcRR+flGgDrywUZYgDOOTUInka/aAQExLHuM29cBs/c25znHOelcHYQfEHxB4zsZPFGn6fo/h6yJuDa2t158lxMP9WHbA+VSd4wByoznitDStGvYvEXiec6asYvCkMBmlIR44xuUkjJJaSackjoAo+gB2dY+u+IU0GTT1ms55kvryK0WWMoFjeRto3ZOffgGsr+wtW/6Buj/APgZP/8AE1H4vtL6bTvD8Frp8txJaalZ3M4tvmSNI2y+CxBOO3c0ATeO1K/8I5csB5Vvr1qZGPRQ+6Jf/H5FH41H8UIpH8A6h9mVllmVLOSdBzDbzSxpO3sAmST2257V0Oqabb69ok9jeLIsVzHg4+V4z1DD0ZTgj0IqhNpusXtvpUs9/wCRd2MxedIGZYbv5WUbgOdvIfbyAeOcBqAOZW6sdR+KdlHpQFzp/hbRXkRLQbx5s7BEVexIjicdf4uvWus8M6jHq+jtqEJmKTXM4xLIHA2StGdhH8B2ZX1BB6mm6V4dTT11Kea5km1DVH8y7u0HlkkLtUIMnYqqAAMn1JJJJl8O6FD4c0O30y2mlmit0WNGkxkKqhAMAADhR9Tk9SaADVtGm1SSN4da1LTQgIK2bRgP7nejfpis/wD4RK8/6G/xB/38t/8A4zXSUUARW0LW9rFC80k7RoFMsuN74HU4AGfoBXF+H2F1468Z+JZYXlSzMWl2xCZcpBH5kgX6ySke5UV3NFAHnPgjWY9C+GbandxGWWVJdWv5YmBRJZjJPIjN0BRcAk/7I6nFdxp8sdt4ftppXuFijtld3u23SgBckue7evvTNf0aHxBos2m3MkkcUxQs0eMna4bBz1B24I7gkVW1bRZtQ0RNGW4Y21x+7vZ5XzLJEfvgYwNz8jIwFBOBwBQBzPg7UtO0D4f+CbfXVeCa7txJbs0ZKQMYmchm6L8rlRnqTgCj4e3EEljey3MG/VNW1u6u57SRR5loFkKIXU8riOKPBPcjHWu/VVRQqKFVRgADAApaAMPTNWj1LxTqVuq3cUljDErI7jyiHaTB29nwmef4XT1IG5WTpnh+DS9W1G/iuJ5H1CYzyJIw2qxVF44yeI1Az0A46nOtQAUUUUAFFFFABRRRQAUUUUAFFFFABRRRQAUUUUAFFFFAFDXNHt/EGhXmk3kk8cF5EYne3kMbgH0I/kcg9CCCRXJ+ANfuIdW1LwNraW8epaEkZt5LaIRR3dow+SQIOFI+6wHAOMeg7uvLbg7P2r7XZ8u/wkd+ON3+kt19eg/KgD1KsW/8T21guozPb3D2ul/8fs6gBYhsEhIBILBUYE4z6DJBFbVeVXNtfeJ/h3Np1xJKfFWuM8F0gYk6fG8hWRSD/q40i3L0+c4PzFgaAO81/wAT2fh2OwlvYp5Ib66jtUlgCssbyMApbLA7eeoBxipPEHiG08OWEdzepNKZp4reKGBQ0kkkjqigAkD7zDkkCuY8bwLquj6zp2mqz3Ol6PJJbx+Wzb5sh0CnuymFQcZI8wU3WA+s+MfC0VzDIgN09/MjKf8AR0iiPlRMeiu0kiOR1OzHO0GgDr7zV4rJbRJIZmurw4htE2mRiF3MPvbRtAOTux2ySRlmn60NQnv4FsbuCWxZUkWZUG5iocBSGIPylT1x8wGc5A5/xRFo2u60LHVbq80i40xUntNVt7g27B5AweNHI2sdoUlTnIcccVVl1nVfDXwl1HUNWnmu9SjS5FlJJCI57n5nFvvRQPnKhCeAcdQCCKANS38cxXnhmTX7XRNVlsI0lkLKINxWMsGIXzcn7pxjr2zkV1FefaBFpugQ6Lpenar/AGtcJYx6dHZRsJIkHymWQsgwBhCTu64x1bn0GgAooooAKKKKACiiigChaa1Z3urXemwGYXNnFHLKskLx4WRpFUgsBkExPyOOKv1y1hcRt8VNawTtk0qxhR9p2u6S3ZdQ3QsodSQORmupoAoz65pNrO0NzqdnDKnDRyXCKy/UE1H/AMJHof8A0GdP/wDApP8AGuD+IWiS+F/EUfxG0OyW78mMQ67YiMN9qtRj96o/56R9c91GM4HPdaeuh65pFvf2EFnd2V3EJIpFiUq6kfT9KALNrq+m30xistQtbmQDcUhmVyB64BrA8aeJ7/ww1pd21vDPp8WZtS3K2+K3DoryKQeqiTcQRyEbmmzfDzRLbxPY+I9AsLbTNUtpMSvbp5aXMLDbIjqvDHB3A4zuVecZrUjsp73VtU/tSyj+xXECWyAyB/NQF92Vxxnf09AKAJI7u9n8SPBDNanT47aOVgImMjM5YDD7sY+XP3e4rUrnfBPh678NaCbC/uhdukzLFJ1PkJhIQx7sI0TPuTXRUAFIrK2dpBwcHB71h+MNTudN0DZpz+XfX1xFY2r4z5byuE8zHfYCz4/2auGTTvDekRxu3kWsK7V+87NgEk92Y4BYnk9Se5oA0aKpvq2nx/Yd95CP7QbZafOP352F/l9flUn6CrlABRRRQAUUVwfiq8j/AOFreFLT7VcRCCC6vbiOKWTEqhRHGnlqfnJdy3Qn936A0Ad5TS6CRULKHYEhc8kDr/MfnUNjqFrqdr9osZlmi3tGWX+FlYqykHkEMCCDyCCKo+JrCe+0OZtPOzUbUfaLKTH3ZlBKj6NyrDurMO9AGtRVDQtWh17w9p+r2gxDf20dzGCeQHUMAfcZq/QAUUUUAFFFFABRRRQAUUUUAFFFFABRRRQAUUUUAFFFFABRRRQAV5bdf8nX2X/YpH/0pevUq8v8Qr/Yn7R3hzW787LHVdIk0iKU/dW4WQyBSe24NgepBoA9NlRpIXSORomZSFkUAlDjqMgjj3rC/wCEe1f/AKHLV/8AwHs//jFdBRQBz/8Awj2r/wDQ5av/AOA9n/8AGKyr0XlnPdx/8Jfrk5sYhNdmC2sWNuhBILL5O48KThQT7V2tea3ep6hq/hLXJ/tUyeILi6urHTdNinKGBldo4g0YPIIAlZmB+Vs8KBQBrQrc3GuR6Vb+NdZkmls/tqSJa2ZjaLcFBDCDHJPHrg1qf8I9q/8A0OWr/wDgPZ//ABiuEFhdaHe6pBp1zO+tWUGm6NpMIkIMsccasZiv8Ue6aTcTkfu27ivW6AOf/wCEe1f/AKHLV/8AwHs//jFbsKNHBGkkjSuqgNIwALnHU4AGT7DFPooA5TxF4XttX1Y3M/gzwzrDbAoutTYebgfw8278Dt81ZX/CB2P/AETTwP8A99L/APIlegUUAQ2UX2ewt4Rbw2wjiVfIgOY48DG1eB8o6DgcdhVK+0q8u7oywa/qNihAHk28duVHv88TN+tadFAGJ/YOo/8AQ2ax/wB+rP8A+MVa1ewu72NDZaveab5e4t9lihcyex8xG6Y7Y61o1meItWi0TQbq9knhhdY2EJmYKGkIOxefU0Acvpt42r6Pe6lYeNtckhsZHjuFNlaK8bKAxG0wf3WDA9CCCK6rQhN/ZET3F5eXbSZcSXsKRSgHoCqKoH5Z9a43VdHm0LxNZLpEMk+l+IraLSrwR87HjX5JifeASqT6rHXodAFbUb2007Tbi81KVIrSGMvM78gKBzx3+neuX+G3hp/Deh3gVJ7OzvryS7s9LmIP2CJ+RH7EnLFeilsc4LGt4jbxLc+LotnheXUtGsNstuqX0MQnuOvmOGbOE42j+9luy4u/8JL4t/6EK4/8Glt/8VQB1tQ+fJ9u8j7NL5fl7/tGV2ZzjZjO7Pfpj37VwlnN4+8ReMLBNd0C30Dw9aE3EqrfJcS3Mq/6tSVxtUMQ2MdUHPar2m6ffnxB4oZ7S5C3ASC28y4eBWRAWDeagJDO80vzLkqqIDjgUAdnWVrXiCDQ5LFbm3uJBe3cVojxKu1XkbaN2SOPpmud/wCEc1j/AKB//l46j/8AG6XxnHOml+G7dLO8mlttUsp5lt45rvy0jb5yZNpLY9W+Y9cZNAFrx2NreGp2A8uHX7beTnA3h41/8edR9TUXxSDJ4C1CS3ylxOiaf9oBx5EVxNHHI/thTnPbHbmuh1jTIPEGgz2M7SRpcICkija8TghkcA9GVgrDI6gVTurPWr230yQ3CQT20xa7t43CxXa7WXBJViFJIbb17E8ZoA5iWWxuPinp1nYBXsfCOkSTNFb/AD7JpsRRx4H8QjjkwP8AaHrXW+G9Rj1fS5L+CW6kjlup1C3QQNHskaMquzgplDg5JIIOTmq2heGF0lNSuHlUahqjAzTW8YRYlVdsccY7Kg6Z6ksT1xVvw3oaeHdBtdLimaZLeNI1JXaAFQLwMnGduTyckse9AEuo6ddXsiNbazfacFGCtskDBvc+ZG5/LFU/7B1H/obNY/79Wf8A8YrbooAjt42ht445JpLh0UBpZAoZz6naAM/QAVxGhSRXnxD8Y+JZozLHpiRaTbuq5YLEnnTBR7vKB9UFd3SKipnYoXJycDGT60Aed+CNZh0L4cvqd/FNLPdLJrN41uFIVrgyXBXJIUFI8ZyQPu+oFdxp0yJoNrPLczyxi2V2nu1CyMNudzgAAN3OAOe1Vte8Pwa34duNHDC1huCpfy0GGAcMyle4bBB9Qx571FrWlXeoaGujRTOYrvMV7dM+HWE/f2/7TD5RjhQc/wAIBAKHwxhkg+Fvh1ZVKFrCOQIf4FYblX2wCBj2rqqbHGkMSRRIqRooVVUYCgdAKdQAUUUUAFFFFABRRRQAUUUUAFFFFABRRRQAUUUUAFFFFABRRRQAVn67oOmeJdHm0vW7RLu0mxujbIwRyGBHIIPII5FaFFAFPSNObSdJgsWvbq/8hSouLxw8rjJxuYAZwOM4ycc5OSblFFABSbV3bto3YxnHOKWigAooooAKKKKACiiigAooooAKKKKACiiigAooooAKKKKACiiigAooooAKKKKACiiigAooooAKKKKACiiigAooooAKKKKACiiigAooooAKKKKAP//Z)"
   ]
  },
  {
   "cell_type": "markdown",
   "metadata": {
    "id": "o7BuVlbIIKS1"
   },
   "source": [
    "### Linear_Regression class that have some useful functions and algorithems:"
   ]
  },
  {
   "cell_type": "code",
   "execution_count": 108,
   "metadata": {
    "id": "R6NLnaMLtqLy"
   },
   "outputs": [],
   "source": [
    "class Linear_Regression:\n",
    "\n",
    "     \"\"\"this class is related to the Linear Regression algorithem.\n",
    "        X: is the feature vector of the problem.\n",
    "        y: is the set of lables of the problem.\n",
    "        alpha: is the learning rate.\n",
    "        iters: is the number of itrations that algorithem must go.\n",
    "     \"\"\"\n",
    "     def __init__(self, X, y ,alpha=0.01, iters=10, log=False):\n",
    "\n",
    "        self.alpha = alpha\n",
    "        self.iters = iters\n",
    "        self.X = X\n",
    "        self.y = y\n",
    "        self.log = log\n",
    "        self.bias = 0\n",
    "        self.W_values = []\n",
    "        self.MSE_values = []\n",
    "\n",
    "        # number of weight is equal to number of features.(vector of weights)\n",
    "        # self.weight = np.zeros(self.X.shape[1]) \n",
    "        self.weight = np.random.random(self.X.shape[1])\n",
    "        # self.weight = np.zeros((1, self.X.shape[0])  \n",
    "\n",
    "     def train_model(self):\n",
    "\n",
    "        \"\"\"this function updates the parameters of the model (bias and weight vector)\n",
    "            in other words it trains the model.\n",
    "        \"\"\"\n",
    "        for itr in range(self.iters):\n",
    "\n",
    "            der_w, der_bias = self.gradientDescent_vector()\n",
    "            self.W_values.append(self.weight)\n",
    "\n",
    "            # -----updating parammeters...\n",
    "            self.weight = self.weight - self.alpha * der_w\n",
    "            self.bias = self.bias - self.alpha * der_bias\n",
    "            \n",
    "            MSE = self.get_MSE_error(self.X, self.y)\n",
    "            self.MSE_values.append(MSE)\n",
    "            if self.log:\n",
    "                print('[itration = {},  weight = {},  bias = {},  MSE error = {}]'.format(itr + 1, self.weight, self.bias, MSE))\n",
    "\n",
    "     def predict(self, X):\n",
    "        \"\"\"the other name of this function is h function. \"\"\"\n",
    "        return np.dot(X, self.weight) + self.bias\n",
    "\n",
    "     def get_MSE_error(self, x, y):\n",
    "        y_pred = self.predict(x)\n",
    "        return np.mean((y - y_pred) ** 2) / 2\n",
    "\n",
    "     def gradientDescent_vector(self):\n",
    "         \"\"\"y_pred is vector of predicions per each record. shape=(num_records, )\n",
    "            y is the real labels per each record. shape=(num_records, )\n",
    "            this function returns gradient vector.\n",
    "         \"\"\"  \n",
    "         y_pred = self.predict( self.X )\n",
    "        #  dw = - ( 2 * ( self.X.T ).dot( self.y - y_pred )  ) / self.X.shape[0]\n",
    "        #  db = - 2 * np.sum( self.y - y_pred ) / self.X.shape[0]\n",
    "        #  return ((-np.dot( self.X.T , (self.y - y_pred) ) / self.X.shape[0]), -np.sum(self.y - y_pred) / self.X.shape[0])\n",
    "         return -( 2 * ( self.X.T ).dot( self.y - y_pred )  ) / self.X.shape[0], - 2 * np.sum( self.y - y_pred ) / self.X.shape[0]\n",
    "\n",
    "     def normal_equation(self):\n",
    "         \"\"\"\n",
    "         this code calculates model's weight using normal_equation\n",
    "         \"\"\"\n",
    "         return np.dot((np.linalg.pinv(np.dot(self.X.T , self.X))), np.dot(self.X.T ,self.y))\n"
   ]
  },
  {
   "cell_type": "markdown",
   "metadata": {
    "id": "gf6f3zbrGng3"
   },
   "source": [
    "### Some of model's configurations and training:"
   ]
  },
  {
   "cell_type": "code",
   "execution_count": 109,
   "metadata": {
    "id": "p97JV4dyUZ98"
   },
   "outputs": [],
   "source": [
    "# learning_rate = 0.0000000000001\n",
    "learning_rate = 1e-13\n",
    "model_1 = Linear_Regression(X=train_X, y=train_y, alpha = learning_rate, iters = 95 ,log = True)"
   ]
  },
  {
   "cell_type": "code",
   "execution_count": 110,
   "metadata": {
    "colab": {
     "base_uri": "https://localhost:8080/"
    },
    "id": "Ph-XpUtYbjjF",
    "outputId": "93749bda-88f2-41ab-b8cf-d1cb7b75ac7b"
   },
   "outputs": [
    {
     "name": "stdout",
     "output_type": "stream",
     "text": [
      "[itration = 1,  weight = [0.87712835],  bias = -1.3692039592206587e-07,  MSE error = 186213620104.0605]\n",
      "[itration = 2,  weight = [0.78710328],  bias = -2.5893285076178736e-07,  MSE error = 147897114141.98874]\n",
      "[itration = 3,  weight = [0.70688019],  bias = -3.676605492129677e-07,  MSE error = 117470210879.68605]\n",
      "[itration = 4,  weight = [0.63539183],  bias = -4.645499427414183e-07,  MSE error = 93308392914.08292]\n",
      "[itration = 5,  weight = [0.57168716],  bias = -5.508899923944769e-07,  MSE error = 74121640901.55623]\n",
      "[itration = 6,  weight = [0.5149187],  bias = -6.278293164430117e-07,  MSE error = 58885558363.633316]\n",
      "[itration = 7,  weight = [0.46433121],  bias = -6.963914709788815e-07,  MSE error = 46786678316.04418]\n",
      "[itration = 8,  weight = [0.41925172],  bias = -7.574885667526753e-07,  MSE error = 37179031597.04013]\n",
      "[itration = 9,  weight = [0.3790805],  bias = -8.11933403402788e-07,  MSE error = 29549658042.288452]\n",
      "[itration = 10,  weight = [0.34328315],  bias = -8.604502825030676e-07,  MSE error = 23491219119.590607]\n",
      "[itration = 11,  weight = [0.31138344],  bias = -9.036846432799811e-07,  MSE error = 18680249789.454712]\n",
      "[itration = 12,  weight = [0.28295698],  bias = -9.42211649187681e-07,  MSE error = 14859888440.461943]\n",
      "[itration = 13,  weight = [0.25762561],  bias = -9.765438395721307e-07,  MSE error = 11826162836.464882]\n",
      "[itration = 14,  weight = [0.23505233],  bias = -1.0071379482178993e-06,  MSE error = 9417099871.05356]\n",
      "[itration = 15,  weight = [0.21493685],  bias = -1.0344009794878896e-06,  MSE error = 7504077690.118692]\n",
      "[itration = 16,  weight = [0.19701155],  bias = -1.0586956228896848e-06,  MSE error = 5984958465.219585]\n",
      "[itration = 17,  weight = [0.18103796],  bias = -1.080345078100981e-06,  MSE error = 4778635170.8758135]\n",
      "[itration = 18,  weight = [0.16680359],  bias = -1.0996373546436387e-06,  MSE error = 3820701213.734912]\n",
      "[itration = 19,  weight = [0.15411907],  bias = -1.1168291034068958e-06,  MSE error = 3060011711.5539856]\n",
      "[itration = 20,  weight = [0.14281564],  bias = -1.1321490309922609e-06,  MSE error = 2455952825.850285]\n",
      "[itration = 21,  weight = [0.13274294],  bias = -1.1458009423026852e-06,  MSE error = 1976273355.6440458]\n",
      "[itration = 22,  weight = [0.12376695],  bias = -1.1579664518529797e-06,  MSE error = 1595362819.299079]\n",
      "[itration = 23,  weight = [0.11576828],  bias = -1.1688073998712858e-06,  MSE error = 1292884089.8337]\n",
      "[itration = 24,  weight = [0.10864051],  bias = -1.1784680053341106e-06,  MSE error = 1052687578.976015]\n",
      "[itration = 25,  weight = [0.10228881],  bias = -1.187076784577742e-06,  MSE error = 861948997.3568097]\n",
      "[itration = 26,  weight = [0.09662869],  bias = -1.1947482610102152e-06,  MSE error = 710484655.1471841]\n",
      "[itration = 27,  weight = [0.09158484],  bias = -1.201584488668914e-06,  MSE error = 590207746.4785681]\n",
      "[itration = 28,  weight = [0.08709018],  bias = -1.2076764098923958e-06,  MSE error = 494696588.22287095]\n",
      "[itration = 29,  weight = [0.08308489],  bias = -1.2131050651681747e-06,  MSE error = 418851761.04595584]\n",
      "[itration = 30,  weight = [0.0795157],  bias = -1.217942671251622e-06,  MSE error = 358623847.2131447]\n",
      "[itration = 31,  weight = [0.07633513],  bias = -1.2222535818986977e-06,  MSE error = 310797228.8441519]\n",
      "[itration = 32,  weight = [0.07350086],  bias = -1.2260951439935818e-06,  MSE error = 272818403.42836666]\n",
      "[itration = 33,  weight = [0.07097519],  bias = -1.2295184604606666e-06,  MSE error = 242659650.22456852]\n",
      "[itration = 34,  weight = [0.06872451],  bias = -1.2325690701102779e-06,  MSE error = 218710768.5819688]\n",
      "[itration = 35,  weight = [0.06671889],  bias = -1.2352875534624255e-06,  MSE error = 199693108.00245187]\n",
      "[itration = 36,  weight = [0.06493164],  bias = -1.2377100726081368e-06,  MSE error = 184591299.93829674]\n",
      "[itration = 37,  weight = [0.06333899],  bias = -1.239868852290396e-06,  MSE error = 172599046.4298804]\n",
      "[itration = 38,  weight = [0.06191974],  bias = -1.24179260860473e-06,  MSE error = 163076071.19412202]\n",
      "[itration = 39,  weight = [0.06065503],  bias = -1.2435069310226421e-06,  MSE error = 155513934.7468546]\n",
      "[itration = 40,  weight = [0.05952802],  bias = -1.2450346228201286e-06,  MSE error = 149508888.40037668]\n",
      "[itration = 41,  weight = [0.05852371],  bias = -1.2463960044401532e-06,  MSE error = 144740317.7887768]\n",
      "[itration = 42,  weight = [0.05762876],  bias = -1.2476091838248514e-06,  MSE error = 140953625.00310808]\n",
      "[itration = 43,  weight = [0.05683125],  bias = -1.2486902973138184e-06,  MSE error = 137946635.3995244]\n",
      "[itration = 44,  weight = [0.05612057],  bias = -1.2496537243132605e-06,  MSE error = 135558803.32867855]\n",
      "[itration = 45,  weight = [0.05548727],  bias = -1.2505122785918539e-06,  MSE error = 133662640.47139277]\n",
      "[itration = 46,  weight = [0.05492293],  bias = -1.2512773787482057e-06,  MSE error = 132156909.13238926]\n",
      "[itration = 47,  weight = [0.05442003],  bias = -1.2519592001177264e-06,  MSE error = 130961217.07643227]\n",
      "[itration = 48,  weight = [0.05397189],  bias = -1.2525668101398002e-06,  MSE error = 130011725.32073519]\n",
      "[itration = 49,  weight = [0.05357254],  bias = -1.253108288986103e-06,  MSE error = 129257739.71913707]\n",
      "[itration = 50,  weight = [0.05321667],  bias = -1.2535908370548454e-06,  MSE error = 128659004.3599239]\n",
      "[itration = 51,  weight = [0.05289955],  bias = -1.254020870760984e-06,  MSE error = 128183552.26957591]\n",
      "[itration = 52,  weight = [0.05261696],  bias = -1.254404107896742e-06,  MSE error = 127805998.66974613]\n",
      "[itration = 53,  weight = [0.05236514],  bias = -1.2547456436980302e-06,  MSE error = 127506185.66305587]\n",
      "[itration = 54,  weight = [0.05214073],  bias = -1.2550500186287164e-06,  MSE error = 127268105.98636577]\n",
      "[itration = 55,  weight = [0.05194076],  bias = -1.2553212787845045e-06,  MSE error = 127079048.36982471]\n",
      "[itration = 56,  weight = [0.05176256],  bias = -1.2555630297200084e-06,  MSE error = 126928918.87171258]\n",
      "[itration = 57,  weight = [0.05160377],  bias = -1.2557784844151044e-06,  MSE error = 126809701.95458561]\n",
      "[itration = 58,  weight = [0.05146226],  bias = -1.2559705060186803e-06,  MSE error = 126715032.52913634]\n",
      "[itration = 59,  weight = [0.05133616],  bias = -1.2561416459384239e-06,  MSE error = 126639856.11683786]\n",
      "[itration = 60,  weight = [0.05122379],  bias = -1.2562941777833728e-06,  MSE error = 126580158.98717582]\n",
      "[itration = 61,  weight = [0.05112366],  bias = -1.2564301276107822e-06,  MSE error = 126532753.86127366]\n",
      "[itration = 62,  weight = [0.05103443],  bias = -1.2565513008796966e-06,  MSE error = 126495109.74045037]\n",
      "[itration = 63,  weight = [0.05095491],  bias = -1.2566593064698023e-06,  MSE error = 126465216.77411833]\n",
      "[itration = 64,  weight = [0.05088405],  bias = -1.2567555780850952e-06,  MSE error = 126441478.95220661]\n",
      "[itration = 65,  weight = [0.05082091],  bias = -1.2568413933271037e-06,  MSE error = 126422628.89286977]\n",
      "[itration = 66,  weight = [0.05076464],  bias = -1.2569178906914102e-06,  MSE error = 126407660.17592832]\n",
      "[itration = 67,  weight = [0.0507145],  bias = -1.2569860847135824e-06,  MSE error = 126395773.60926723]\n",
      "[itration = 68,  weight = [0.05066982],  bias = -1.2570468794660059e-06,  MSE error = 126386334.55931118]\n",
      "[itration = 69,  weight = [0.05063],  bias = -1.2571010805851756e-06,  MSE error = 126378839.06741571]\n",
      "[itration = 70,  weight = [0.05059452],  bias = -1.2571494059894488e-06,  MSE error = 126372886.94310062]\n",
      "[itration = 71,  weight = [0.0505629],  bias = -1.2571924954298438e-06,  MSE error = 126368160.39755076]\n",
      "[itration = 72,  weight = [0.05053472],  bias = -1.2572309190009415e-06,  MSE error = 126364407.07660985]\n",
      "[itration = 73,  weight = [0.05050962],  bias = -1.2572651847251165e-06,  MSE error = 126361426.58738427]\n",
      "[itration = 74,  weight = [0.05048724],  bias = -1.2572957453109919e-06,  MSE error = 126359059.79910165]\n",
      "[itration = 75,  weight = [0.0504673],  bias = -1.2573230041760313e-06,  MSE error = 126357180.34698805]\n",
      "[itration = 76,  weight = [0.05044954],  bias = -1.2573473208133862e-06,  MSE error = 126355687.8855485]\n",
      "[itration = 77,  weight = [0.0504337],  bias = -1.2573690155743993e-06,  MSE error = 126354502.7310386]\n",
      "[itration = 78,  weight = [0.05041959],  bias = -1.257388373930386e-06,  MSE error = 126353561.60708386]\n",
      "[itration = 79,  weight = [0.05040702],  bias = -1.2574056502703898e-06,  MSE error = 126352814.26630184]\n",
      "[itration = 80,  weight = [0.05039582],  bias = -1.2574210712854382e-06,  MSE error = 126352220.80755329]\n",
      "[itration = 81,  weight = [0.05038583],  bias = -1.257434838984316e-06,  MSE error = 126351749.54558721]\n",
      "[itration = 82,  weight = [0.05037694],  bias = -1.2574471333809831e-06,  MSE error = 126351375.31933948]\n",
      "[itration = 83,  weight = [0.05036901],  bias = -1.2574581148893815e-06,  MSE error = 126351078.14856271]\n",
      "[itration = 84,  weight = [0.05036194],  bias = -1.2574679264574964e-06,  MSE error = 126350842.1670647]\n",
      "[itration = 85,  weight = [0.05035565],  bias = -1.2574766954690592e-06,  MSE error = 126350654.77559903]\n",
      "[itration = 86,  weight = [0.05035004],  bias = -1.2574845354381915e-06,  MSE error = 126350505.96918112]\n",
      "[itration = 87,  weight = [0.05034504],  bias = -1.2574915475195359e-06,  MSE error = 126350387.80291392]\n",
      "[itration = 88,  weight = [0.05034058],  bias = -1.257497821853963e-06,  MSE error = 126350293.96780314]\n",
      "[itration = 89,  weight = [0.05033661],  bias = -1.2575034387677564e-06,  MSE error = 126350219.45391503]\n",
      "[itration = 90,  weight = [0.05033308],  bias = -1.2575084698412305e-06,  MSE error = 126350160.28289177]\n",
      "[itration = 91,  weight = [0.05032992],  bias = -1.2575129788609962e-06,  MSE error = 126350113.29554376]\n",
      "[itration = 92,  weight = [0.05032711],  bias = -1.257517022668544e-06,  MSE error = 126350075.98317781]\n",
      "[itration = 93,  weight = [0.05032461],  bias = -1.257520651916432e-06,  MSE error = 126350046.35365598]\n",
      "[itration = 94,  weight = [0.05032238],  bias = -1.25752391174214e-06,  MSE error = 126350022.82503374]\n",
      "[itration = 95,  weight = [0.05032039],  bias = -1.2575268423685555e-06,  MSE error = 126350004.14109859]\n"
     ]
    }
   ],
   "source": [
    "model_1.train_model()"
   ]
  },
  {
   "cell_type": "code",
   "execution_count": 111,
   "metadata": {
    "colab": {
     "base_uri": "https://localhost:8080/"
    },
    "id": "4U8Z6NKkm-bn",
    "outputId": "d5fb699c-eda9-4ead-bfe5-fd659c1e4f27"
   },
   "outputs": [
    {
     "name": "stdout",
     "output_type": "stream",
     "text": [
      "y = wx + b is: [0.05032039]x + -1.2575268423685555e-06\n"
     ]
    }
   ],
   "source": [
    "print('y = wx + b is: {}x + {}'.format(model_1.weight, model_1.bias))"
   ]
  },
  {
   "cell_type": "code",
   "execution_count": 112,
   "metadata": {
    "colab": {
     "base_uri": "https://localhost:8080/"
    },
    "id": "vkIApVCMfP1V",
    "outputId": "d96e8f26-db09-4d98-947d-b7fd0e153b5b"
   },
   "outputs": [
    {
     "name": "stdout",
     "output_type": "stream",
     "text": [
      "trained weight of model:  [0.05032039]\n",
      "normal_equation weight value:  [0.05030412]\n"
     ]
    }
   ],
   "source": [
    "print('trained weight of model: ', model_1.weight)\n",
    "print('normal_equation weight value: ', model_1.normal_equation())"
   ]
  },
  {
   "cell_type": "code",
   "execution_count": 113,
   "metadata": {
    "colab": {
     "base_uri": "https://localhost:8080/",
     "height": 295
    },
    "id": "MR7w-g8FKr9T",
    "outputId": "6cceb9c3-4e4d-479f-de01-cf58035a2b0b"
   },
   "outputs": [
    {
     "data": {
      "image/png": "[encoded data removed]",
      "text/plain": [
       "<Figure size 432x288 with 1 Axes>"
      ]
     },
     "metadata": {
      "needs_background": "light"
     },
     "output_type": "display_data"
    }
   ],
   "source": [
    "plt.title('gradient descents plot')\n",
    "plt.xlabel('W')\n",
    "plt.ylabel('cost_function (MSE)')\n",
    "plt.plot(model_1.W_values, model_1.MSE_values, 'o-', color='green')\n",
    "plt.show()"
   ]
  },
  {
   "cell_type": "markdown",
   "metadata": {
    "id": "V-zXDRPkKT8J"
   },
   "source": [
    "As we can see in this fig we have decreaseing MSE values over iterations:\n"
   ]
  },
  {
   "cell_type": "code",
   "execution_count": 114,
   "metadata": {
    "colab": {
     "base_uri": "https://localhost:8080/",
     "height": 295
    },
    "id": "1BQbjCVV82wu",
    "outputId": "a8b1cef4-75c7-4b78-e1f3-5bd715e16879"
   },
   "outputs": [
    {
     "data": {
      "image/png": "[encoded data removed]",
      "text/plain": [
       "<Figure size 432x288 with 1 Axes>"
      ]
     },
     "metadata": {
      "needs_background": "light"
     },
     "output_type": "display_data"
    }
   ],
   "source": [
    "plt.title('MSE error vs iters')\n",
    "plt.xlabel('iters')\n",
    "plt.ylabel('MSE error')\n",
    "plt.plot(range(model_1.iters), model_1.MSE_values)\n",
    "plt.show()"
   ]
  },
  {
   "cell_type": "code",
   "execution_count": 115,
   "metadata": {
    "colab": {
     "base_uri": "https://localhost:8080/"
    },
    "id": "LQZJmYHA0r3k",
    "outputId": "2e07fece-b3be-4121-bce4-1c1533490c31"
   },
   "outputs": [
    {
     "name": "stdout",
     "output_type": "stream",
     "text": [
      "actual labels: [11350 11564 11437 11396 11544]\n",
      "predicted labels:  [37122. 37122. 37122. 37122. 37122.]\n"
     ]
    }
   ],
   "source": [
    "y_pred = model_1.predict(train_X)\n",
    "print('actual labels:', train_y[:5])\n",
    "print('predicted labels: ', np.round(y_pred[:5]))"
   ]
  },
  {
   "cell_type": "code",
   "execution_count": 116,
   "metadata": {
    "colab": {
     "base_uri": "https://localhost:8080/",
     "height": 281
    },
    "id": "fDk-pWEn0ttl",
    "outputId": "526de6a0-c6ed-4a06-d2c4-d679b819b26e"
   },
   "outputs": [
    {
     "data": {
      "image/png": "[encoded data removed]",
      "text/plain": [
       "<Figure size 432x288 with 1 Axes>"
      ]
     },
     "metadata": {
      "needs_background": "light"
     },
     "output_type": "display_data"
    }
   ],
   "source": [
    "plt.title('plot for train data')\n",
    "plt.plot(range(len(train_X)), y_pred)\n",
    "plt.scatter(range(len(train_X)), train_y, color='red')\n",
    "plt.show()"
   ]
  },
  {
   "cell_type": "markdown",
   "metadata": {
    "id": "GEjb-PegGNLg"
   },
   "source": [
    "predicting some values using validation set:"
   ]
  },
  {
   "cell_type": "code",
   "execution_count": 117,
   "metadata": {
    "colab": {
     "base_uri": "https://localhost:8080/"
    },
    "id": "dZKxSEzwnidm",
    "outputId": "110c7d11-20b0-460a-e751-c0dc6e557f0b"
   },
   "outputs": [
    {
     "name": "stdout",
     "output_type": "stream",
     "text": [
      "actual labels: [34857 32212 31329 32648 34721]\n",
      "predicted labels:  [37135. 37135. 37135. 37135. 37135.]\n"
     ]
    }
   ],
   "source": [
    "y_pred = model_1.predict(val_X)\n",
    "print('actual labels:', val_y[:5])\n",
    "print('predicted labels: ', np.round(y_pred[:5]))"
   ]
  },
  {
   "cell_type": "code",
   "execution_count": 118,
   "metadata": {
    "colab": {
     "base_uri": "https://localhost:8080/",
     "height": 281
    },
    "id": "61lfrPlpEe4j",
    "outputId": "ddde171a-4bd9-4f26-85a8-d7d1ec545244"
   },
   "outputs": [
    {
     "data": {
      "image/png": "[encoded data removed]",
      "text/plain": [
       "<Figure size 432x288 with 1 Axes>"
      ]
     },
     "metadata": {
      "needs_background": "light"
     },
     "output_type": "display_data"
    }
   ],
   "source": [
    "plt.title('plot for validation data')\n",
    "plt.plot(range(len(val_X)), y_pred)\n",
    "plt.scatter(range(len(val_X)), val_y, color='red')\n",
    "plt.show()"
   ]
  },
  {
   "cell_type": "markdown",
   "metadata": {
    "id": "bc1TFPN0NOmO"
   },
   "source": [
    "Evaluation on test data:"
   ]
  },
  {
   "cell_type": "code",
   "execution_count": 119,
   "metadata": {
    "colab": {
     "base_uri": "https://localhost:8080/"
    },
    "id": "KayYqDNYNH4l",
    "outputId": "b8e1b825-9d03-4b09-ba22-f6deb09f4fb0"
   },
   "outputs": [
    {
     "name": "stdout",
     "output_type": "stream",
     "text": [
      "actual labels: [45017 44593 46568 48653 48988]\n",
      "predicted labels:  [37137. 37137. 37138. 37138. 37138.]\n"
     ]
    }
   ],
   "source": [
    "y_pred_test = model_1.predict(test_X)\n",
    "print('actual labels:', test_y[:5])\n",
    "print('predicted labels: ', np.round(y_pred_test[:5]))"
   ]
  },
  {
   "cell_type": "code",
   "execution_count": 120,
   "metadata": {
    "colab": {
     "base_uri": "https://localhost:8080/",
     "height": 281
    },
    "id": "Z-e1Dct9NZpH",
    "outputId": "c61cf772-6cc1-4a8f-b0fb-be4ec84da023"
   },
   "outputs": [
    {
     "data": {
      "image/png": "[encoded data removed]",
      "text/plain": [
       "<Figure size 432x288 with 1 Axes>"
      ]
     },
     "metadata": {
      "needs_background": "light"
     },
     "output_type": "display_data"
    }
   ],
   "source": [
    "plt.title('plot for test data')\n",
    "plt.plot(range(len(test_X)), y_pred_test)\n",
    "plt.scatter(range(len(test_X)), test_y, color='red')\n",
    "plt.show()"
   ]
  },
  {
   "cell_type": "markdown",
   "metadata": {
    "id": "xi2J_rLpYmCx"
   },
   "source": [
    "## Polynomial regression:"
   ]
  },
  {
   "cell_type": "markdown",
   "metadata": {
    "id": "-AjV2w4pQY4f"
   },
   "source": [
    "![Screenshot from 2021-10-25 19-55-53.png](data:image/png;base64,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)\n"
   ]
  },
  {
   "cell_type": "code",
   "execution_count": 121,
   "metadata": {
    "id": "w2uvNrKPAcqR"
   },
   "outputs": [],
   "source": [
    "train_y = train_y.reshape(-1, train_X.shape[1])"
   ]
  },
  {
   "cell_type": "code",
   "execution_count": 122,
   "metadata": {
    "id": "5avH0aehq7zB"
   },
   "outputs": [],
   "source": [
    "class Polynomial_Regression:\n",
    "\n",
    "    def __init__(self, X, y ,alpha=0.01, iters=10, degree=2, log=False):\n",
    "\n",
    "        self.alpha = alpha\n",
    "        self.iters = iters\n",
    "        self.X = X\n",
    "        self.y = y\n",
    "        self.log = log\n",
    "        self.bias = 0\n",
    "        self.degree = degree\n",
    "        # self.weight = np.array(np.random.random(self.degree))\n",
    "        self.weight = (np.array([0.0] * self.degree)).reshape(-1, X.shape[1])\n",
    "\n",
    "        self.MSE_values = []\n",
    "\n",
    "    def make_polynomial(self, X, degree):\n",
    "        \"\"\" this function creates polynomial from feature vector\n",
    "        \"\"\"\n",
    "        if degree < 1:\n",
    "            return 1;\n",
    "\n",
    "        X_poly = np.copy(X) # degree 1\n",
    "\n",
    "        for i in range(2, degree + 1):  # degree N to 1\n",
    "            X_poly = np.hstack((X_poly, X ** i))\n",
    "\n",
    "        return X_poly\n",
    "\n",
    "    def predict(self, X):\n",
    "\n",
    "        return np.dot(X, self.weight) + self.bias\n",
    "\n",
    "    def train_model(self):\n",
    "\n",
    "        X_poly = self.make_polynomial(self.X, self.degree)\n",
    "        for itr in range(self.iters):\n",
    "     \n",
    "            der_w, der_bias = self.gradientDescent_vector(X_poly)\n",
    "            \n",
    "            # -----updating parammeters...\n",
    "            self.weight = self.weight - self.alpha * der_w\n",
    "            self.bias = self.bias - self.alpha * der_bias\n",
    "\n",
    "            MSE = self.get_MSE_error(X_poly, self.y)\n",
    "            self.MSE_values.append(MSE)\n",
    "\n",
    "            if self.log:\n",
    "                print('[itration = {},  weight = {},  bias = {},  MSE error = {}]'.format(itr + 1, self.weight, self.bias, MSE))\n",
    "\n",
    "    def get_MSE_error(self, x, y):\n",
    "        y_pred = self.predict(x)\n",
    "        return np.mean((y - y_pred) ** 2) / 2\n",
    "\n",
    "    def gradientDescent_vector(self, X):\n",
    "        y_pred = self.predict( X )\n",
    "        return -( 2 * ( X.T ).dot( self.y - y_pred )  ) / self.X.shape[0], - 2 * np.sum( self.y - y_pred ) / self.X.shape[0]"
   ]
  },
  {
   "cell_type": "code",
   "execution_count": 123,
   "metadata": {
    "id": "0LNkc_itwskB"
   },
   "outputs": [],
   "source": [
    "degree = 2\n",
    "itrs = 500\n",
    "polynomial_model = Polynomial_Regression(X=train_X, y=train_y, alpha=1e-25, log=True, iters=itrs, degree=degree)"
   ]
  },
  {
   "cell_type": "code",
   "execution_count": 124,
   "metadata": {
    "colab": {
     "base_uri": "https://localhost:8080/"
    },
    "id": "oikGhQ1D_xzH",
    "outputId": "c372ac2f-0384-48d8-bb9c-2c3343b2dcd4"
   },
   "outputs": [
    {
     "name": "stdout",
     "output_type": "stream",
     "text": [
      "[itration = 1,  weight = [[5.47713996e-15]\n",
      " [4.04136251e-09]],  bias = 7.42300703125e-21,  MSE error = 735913943.4023563]\n",
      "[itration = 2,  weight = [[1.06296129e-14]\n",
      " [7.84317381e-09]],  bias = 1.4405988324858327e-20,  MSE error = 665786960.5916617]\n",
      "[itration = 3,  weight = [[1.54766633e-14]\n",
      " [1.14196333e-08]],  bias = 2.0975026346439717e-20,  MSE error = 603727120.6560483]\n",
      "[itration = 4,  weight = [[2.00363952e-14]\n",
      " [1.47840986e-08]],  bias = 2.715465752701514e-20,  MSE error = 548806409.989931]\n",
      "[itration = 5,  weight = [[2.43258392e-14]\n",
      " [1.79491357e-08]],  bias = 3.296796390400158e-20,  MSE error = 500203570.16306794]\n",
      "[itration = 6,  weight = [[2.83610167e-14]\n",
      " [2.09265656e-08]],  bias = 3.843665933019466e-20,  MSE error = 457191817.20894843]\n",
      "[itration = 7,  weight = [[3.21569993e-14]\n",
      " [2.37275088e-08]],  bias = 4.358117057272555e-20,  MSE error = 419127973.6397979]\n",
      "[itration = 8,  weight = [[3.57279651e-14]\n",
      " [2.63624265e-08]],  bias = 4.842071360488829e-20,  MSE error = 385442850.67347145]\n",
      "[itration = 9,  weight = [[3.90872522e-14]\n",
      " [2.88411597e-08]],  bias = 5.297336537577942e-20,  MSE error = 355632736.8525918]\n",
      "[itration = 10,  weight = [[4.22474076e-14]\n",
      " [3.11729664e-08]],  bias = 5.725613132580202e-20,  MSE error = 329251865.7807499]\n",
      "[itration = 11,  weight = [[4.52202349e-14]\n",
      " [3.33665556e-08]],  bias = 6.128500890019744e-20,  MSE error = 305905750.34184533]\n",
      "[itration = 12,  weight = [[4.80168380e-14]\n",
      " [3.54301201e-08]],  bias = 6.507504729782111e-20,  MSE error = 285245283.7256227]\n",
      "[itration = 13,  weight = [[5.06476624e-14]\n",
      " [3.73713671e-08]],  bias = 6.864040367831781e-20,  MSE error = 266961519.04892093]\n",
      "[itration = 14,  weight = [[5.31225348e-14]\n",
      " [3.91975469e-08]],  bias = 7.199439603762425e-20,  MSE error = 250781049.50954852]\n",
      "[itration = 15,  weight = [[5.54506991e-14]\n",
      " [4.09154801e-08]],  bias = 7.51495529492835e-20,  MSE error = 236461919.98978567]\n",
      "[itration = 16,  weight = [[5.76408514e-14]\n",
      " [4.25315831e-08]],  bias = 7.811766035734977e-20,  MSE error = 223790008.9735559]\n",
      "[itration = 17,  weight = [[5.97011724e-14]\n",
      " [4.40518919e-08]],  bias = 8.090980559565007e-20,  MSE error = 212575826.67416254]\n",
      "[itration = 18,  weight = [[6.16393579e-14]\n",
      " [4.54820845e-08]],  bias = 8.353641879781026e-20,  MSE error = 202651681.49330062]\n",
      "[itration = 19,  weight = [[6.34626473e-14]\n",
      " [4.68275026e-08]],  bias = 8.600731185270734e-20,  MSE error = 193869172.4399073]\n",
      "[itration = 20,  weight = [[6.51778512e-14]\n",
      " [4.80931713e-08]],  bias = 8.833171505084267e-20,  MSE error = 186096970.011664]\n",
      "[itration = 21,  weight = [[6.67913763e-14]\n",
      " [4.92838177e-08]],  bias = 9.051831155850642e-20,  MSE error = 179218852.35549685]\n",
      "[itration = 22,  weight = [[6.83092495e-14]\n",
      " [5.04038886e-08]],  bias = 9.257526984849061e-20,  MSE error = 173131967.34074685]\n",
      "[itration = 23,  weight = [[6.97371407e-14]\n",
      " [5.14575675e-08]],  bias = 9.4510274208476e-20,  MSE error = 167745294.5568686]\n",
      "[itration = 24,  weight = [[7.10803835e-14]\n",
      " [5.24487897e-08]],  bias = 9.63305534410386e-20,  MSE error = 162978284.2370972]\n",
      "[itration = 25,  weight = [[7.23439955e-14]\n",
      " [5.33812574e-08]],  bias = 9.804290786246716e-20,  MSE error = 158759652.75518906]\n",
      "[itration = 26,  weight = [[7.35326967e-14]\n",
      " [5.42584531e-08]],  bias = 9.965373470122943e-20,  MSE error = 155026316.68366152]\n",
      "[itration = 27,  weight = [[7.46509274e-14]\n",
      " [5.50836532e-08]],  bias = 1.0116905199094777e-19,  MSE error = 151722449.47394156]\n",
      "[itration = 28,  weight = [[7.57028649e-14]\n",
      " [5.58599397e-08]],  bias = 1.0259452104712199e-19,  MSE error = 148798646.65246218]\n",
      "[itration = 29,  weight = [[7.66924385e-14]\n",
      " [5.65902119e-08]],  bias = 1.0393546761154736e-19,  MSE error = 146211187.04944283]\n",
      "[itration = 30,  weight = [[7.76233450e-14]\n",
      " [5.72771973e-08]],  bias = 1.0519690174340026e-19,  MSE error = 143921379.0131165]\n",
      "[itration = 31,  weight = [[7.84990618e-14]\n",
      " [5.79234618e-08]],  bias = 1.0638353653128235e-19,  MSE error = 141894981.8329997]\n",
      "[itration = 32,  weight = [[7.93228603e-14]\n",
      " [5.85314190e-08]],  bias = 1.0749980569611091e-19,  MSE error = 140101693.720441]\n",
      "[itration = 33,  weight = [[8.00978179e-14]\n",
      " [5.91033396e-08]],  bias = 1.0854988015060026e-19,  MSE error = 138514698.68995097]\n",
      "[itration = 34,  weight = [[8.08268296e-14]\n",
      " [5.96413597e-08]],  bias = 1.0953768357718213e-19,  MSE error = 137110265.5655901]\n",
      "[itration = 35,  weight = [[8.15126190e-14]\n",
      " [6.01474888e-08]],  bias = 1.10466907082547e-19,  MSE error = 135867393.11614522]\n",
      "[itration = 36,  weight = [[8.21577479e-14]\n",
      " [6.06236171e-08]],  bias = 1.1134102298353944e-19,  MSE error = 134767496.01261303]\n",
      "[itration = 37,  weight = [[8.27646266e-14]\n",
      " [6.10715229e-08]],  bias = 1.121632977758964e-19,  MSE error = 133794126.91194724]\n",
      "[itration = 38,  weight = [[8.33355223e-14]\n",
      " [6.14928793e-08]],  bias = 1.1293680433426528e-19,  MSE error = 132932730.51123995]\n",
      "[itration = 39,  weight = [[8.38725679e-14]\n",
      " [6.18892597e-08]],  bias = 1.1366443338906772e-19,  MSE error = 132170425.8945803]\n",
      "[itration = 40,  weight = [[8.43777699e-14]\n",
      " [6.22621448e-08]],  bias = 1.1434890432307362e-19,  MSE error = 131495813.9179067]\n",
      "[itration = 41,  weight = [[8.48530158e-14]\n",
      " [6.26129272e-08]],  bias = 1.1499277532800992e-19,  MSE error = 130898806.75157773]\n",
      "[itration = 42,  weight = [[8.53000812e-14]\n",
      " [6.29429170e-08]],  bias = 1.1559845295913763e-19,  MSE error = 130370477.03172079]\n",
      "[itration = 43,  weight = [[8.57206365e-14]\n",
      " [6.32533467e-08]],  bias = 1.161682011234828e-19,  MSE error = 129902924.36463888]\n",
      "[itration = 44,  weight = [[8.61162531e-14]\n",
      " [6.35453757e-08]],  bias = 1.1670414953529108e-19,  MSE error = 129489157.18804574]\n",
      "[itration = 45,  weight = [[8.64884093e-14]\n",
      " [6.38200947e-08]],  bias = 1.1720830167028653e-19,  MSE error = 129122988.22253789]\n",
      "[itration = 46,  weight = [[8.68384956e-14]\n",
      " [6.40785298e-08]],  bias = 1.176825422484428e-19,  MSE error = 128798941.94993335]\n",
      "[itration = 47,  weight = [[8.71678203e-14]\n",
      " [6.43216462e-08]],  bias = 1.1812864427321398e-19,  MSE error = 128512172.73495296]\n",
      "[itration = 48,  weight = [[8.74776140e-14]\n",
      " [6.45503519e-08]],  bias = 1.1854827565351618e-19,  MSE error = 128258392.36587319]\n",
      "[itration = 49,  weight = [[8.77690344e-14]\n",
      " [6.47655011e-08]],  bias = 1.1894300543319183e-19,  MSE error = 128033805.93062894]\n",
      "[itration = 50,  weight = [[8.80431705e-14]\n",
      " [6.49678974e-08]],  bias = 1.193143096512235e-19,  MSE error = 127835055.06948619]\n",
      "[itration = 51,  weight = [[8.83010469e-14]\n",
      " [6.51582966e-08]],  bias = 1.196635768545843e-19,  MSE error = 127659167.75571309]\n",
      "[itration = 52,  weight = [[8.85436274e-14]\n",
      " [6.53374100e-08]],  bias = 1.1999211328431475e-19,  MSE error = 127503513.85329255]\n",
      "[itration = 53,  weight = [[8.87718186e-14]\n",
      " [6.55059064e-08]],  bias = 1.203011477541958e-19,  MSE error = 127365765.78710741]\n",
      "[itration = 54,  weight = [[8.89864735e-14]\n",
      " [6.56644153e-08]],  bias = 1.2059183624023903e-19,  MSE error = 127243863.73747885]\n",
      "[itration = 55,  weight = [[8.91883945e-14]\n",
      " [6.58135285e-08]],  bias = 1.2086526619813552e-19,  MSE error = 127135984.83859347]\n",
      "[itration = 56,  weight = [[8.93783362e-14]\n",
      " [6.59538031e-08]],  bias = 1.211224606247885e-19,  MSE error = 127040515.92022677]\n",
      "[itration = 57,  weight = [[8.95570089e-14]\n",
      " [6.60857629e-08]],  bias = 1.213643818790992e-19,  MSE error = 126956029.38515571]\n",
      "[itration = 58,  weight = [[8.97250804e-14]\n",
      " [6.62099008e-08]],  bias = 1.2159193527627618e-19,  MSE error = 126881261.86154246]\n",
      "[itration = 59,  weight = [[8.98831792e-14]\n",
      " [6.63266805e-08]],  bias = 1.2180597246909244e-19,  MSE error = 126815095.3110672]\n",
      "[itration = 60,  weight = [[9.00318964e-14]\n",
      " [6.64365381e-08]],  bias = 1.2200729462871894e-19,  MSE error = 126756540.31030995]\n",
      "[itration = 61,  weight = [[9.01717880e-14]\n",
      " [6.65398838e-08]],  bias = 1.2219665543701469e-19,  MSE error = 126704721.25537875]\n",
      "[itration = 62,  weight = [[9.03033772e-14]\n",
      " [6.66371038e-08]],  bias = 1.2237476390144927e-19,  MSE error = 126658863.26854186]\n",
      "[itration = 63,  weight = [[9.04271562e-14]\n",
      " [6.67285611e-08]],  bias = 1.2254228700317112e-19,  MSE error = 126618280.61107105]\n",
      "[itration = 64,  weight = [[9.05435879e-14]\n",
      " [6.68145972e-08]],  bias = 1.2269985218811207e-19,  MSE error = 126582366.42902792]\n",
      "[itration = 65,  weight = [[9.06531078e-14]\n",
      " [6.68955336e-08]],  bias = 1.2284804971043185e-19,  MSE error = 126550583.67865586]\n",
      "[itration = 66,  weight = [[9.07561255e-14]\n",
      " [6.69716725e-08]],  bias = 1.2298743483705531e-19,  MSE error = 126522457.095681]\n",
      "[itration = 67,  weight = [[9.08530266e-14]\n",
      " [6.70432982e-08]],  bias = 1.2311852992153609e-19,  MSE error = 126497566.08843394]\n",
      "[itration = 68,  weight = [[9.09441735e-14]\n",
      " [6.71106784e-08]],  bias = 1.2324182635499208e-19,  MSE error = 126475538.44852021]\n",
      "[itration = 69,  weight = [[9.10299074e-14]\n",
      " [6.71740646e-08]],  bias = 1.2335778640139969e-19,  MSE error = 126456044.78499137]\n",
      "[itration = 70,  weight = [[9.11105491e-14]\n",
      " [6.72336936e-08]],  bias = 1.234668449241011e-19,  MSE error = 126438793.59878786]\n",
      "[itration = 71,  weight = [[9.11864004e-14]\n",
      " [6.72897881e-08]],  bias = 1.235694110099732e-19,  MSE error = 126423526.92379943]\n",
      "[itration = 72,  weight = [[9.12577453e-14]\n",
      " [6.73425576e-08]],  bias = 1.2366586949732398e-19,  MSE error = 126410016.46936154]\n",
      "[itration = 73,  weight = [[9.13248509e-14]\n",
      " [6.73921992e-08]],  bias = 1.2375658241322323e-19,  MSE error = 126398060.20650426]\n",
      "[itration = 74,  weight = [[9.13879686e-14]\n",
      " [6.74388982e-08]],  bias = 1.238418903256355e-19,  MSE error = 126387479.34690624]\n",
      "[itration = 75,  weight = [[9.14473345e-14]\n",
      " [6.74828293e-08]],  bias = 1.2392211361540567e-19,  MSE error = 126378115.66937849]\n",
      "[itration = 76,  weight = [[9.15031713e-14]\n",
      " [6.75241563e-08]],  bias = 1.2399755367284774e-19,  MSE error = 126369829.15389915]\n",
      "[itration = 77,  weight = [[9.15556880e-14]\n",
      " [6.75630336e-08]],  bias = 1.2406849402340588e-19,  MSE error = 126362495.8878201]\n",
      "[itration = 78,  weight = [[9.16050815e-14]\n",
      " [6.75996065e-08]],  bias = 1.2413520138659225e-19,  MSE error = 126356006.2129356]\n",
      "[itration = 79,  weight = [[9.16515368e-14]\n",
      " [6.76340116e-08]],  bias = 1.241979266721563e-19,  MSE error = 126350263.08570522]\n",
      "[itration = 80,  weight = [[9.16952281e-14]\n",
      " [6.76663773e-08]],  bias = 1.2425690591720622e-19,  MSE error = 126345180.62611032]\n",
      "[itration = 81,  weight = [[9.17363194e-14]\n",
      " [6.76968245e-08]],  bias = 1.2431236116778287e-19,  MSE error = 126340682.83344483]\n",
      "[itration = 82,  weight = [[9.17749646e-14]\n",
      " [6.77254670e-08]],  bias = 1.2436450130817822e-19,  MSE error = 126336702.44983643]\n",
      "[itration = 83,  weight = [[9.18113088e-14]\n",
      " [6.77524117e-08]],  bias = 1.2441352284109638e-19,  MSE error = 126333179.95450416]\n",
      "[itration = 84,  weight = [[9.18454884e-14]\n",
      " [6.77777592e-08]],  bias = 1.2445961062157043e-19,  MSE error = 126330062.67371246]\n",
      "[itration = 85,  weight = [[9.18776316e-14]\n",
      " [6.78016043e-08]],  bias = 1.2450293854737656e-19,  MSE error = 126327303.99311316]\n",
      "[itration = 86,  weight = [[9.19078592e-14]\n",
      " [6.78240359e-08]],  bias = 1.24543670208524e-19,  MSE error = 126324862.66069639]\n",
      "[itration = 87,  weight = [[9.19362848e-14]\n",
      " [6.78451380e-08]],  bias = 1.2458195949824646e-19,  MSE error = 126322702.1699275]\n",
      "[itration = 88,  weight = [[9.19630151e-14]\n",
      " [6.78649892e-08]],  bias = 1.2461795118777724e-19,  MSE error = 126320790.21384543]\n",
      "[itration = 89,  weight = [[9.19881506e-14]\n",
      " [6.78836637e-08]],  bias = 1.2465178146705447e-19,  MSE error = 126319098.20195983]\n",
      "[itration = 90,  weight = [[9.20117859e-14]\n",
      " [6.79012313e-08]],  bias = 1.2468357845337628e-19,  MSE error = 126317600.83272222]\n",
      "[itration = 91,  weight = [[9.20340099e-14]\n",
      " [6.79177576e-08]],  bias = 1.2471346266990546e-19,  MSE error = 126316275.71517844]\n",
      "[itration = 92,  weight = [[9.20549063e-14]\n",
      " [6.79333043e-08]],  bias = 1.247415474958107e-19,  MSE error = 126315103.03414522]\n",
      "[itration = 93,  weight = [[9.20745536e-14]\n",
      " [6.79479294e-08]],  bias = 1.2476793958972594e-19,  MSE error = 126314065.25390285]\n",
      "[itration = 94,  weight = [[9.20930261e-14]\n",
      " [6.79616877e-08]],  bias = 1.2479273928810912e-19,  MSE error = 126313146.85597458]\n",
      "[itration = 95,  weight = [[9.21103932e-14]\n",
      " [6.79746304e-08]],  bias = 1.2481604097998836e-19,  MSE error = 126312334.10707048]\n",
      "[itration = 96,  weight = [[9.21267206e-14]\n",
      " [6.79868060e-08]],  bias = 1.2483793345949495e-19,  MSE error = 126311614.8537264]\n",
      "[itration = 97,  weight = [[9.21420699e-14]\n",
      " [6.79982598e-08]],  bias = 1.248585002575002e-19,  MSE error = 126310978.34056675]\n",
      "[itration = 98,  weight = [[9.21564990e-14]\n",
      " [6.80090348e-08]],  bias = 1.2487781995359437e-19,  MSE error = 126310415.04947363]\n",
      "[itration = 99,  weight = [[9.21700625e-14]\n",
      " [6.80191710e-08]],  bias = 1.2489596646957323e-19,  MSE error = 126309916.55725743]\n",
      "[itration = 100,  weight = [[9.21828116e-14]\n",
      " [6.80287064e-08]],  bias = 1.249130093455282e-19,  MSE error = 126309475.40970044]\n",
      "[itration = 101,  weight = [[9.21947948e-14]\n",
      " [6.80376767e-08]],  bias = 1.2492901399957124e-19,  MSE error = 126309085.01008993]\n",
      "[itration = 102,  weight = [[9.22060573e-14]\n",
      " [6.80461152e-08]],  bias = 1.2494404197216467e-19,  MSE error = 126308739.5205741]\n",
      "[itration = 103,  weight = [[9.22166419e-14]\n",
      " [6.80540535e-08]],  bias = 1.2495815115596826e-19,  MSE error = 126308433.77486548]\n",
      "[itration = 104,  weight = [[9.22265887e-14]\n",
      " [6.80615212e-08]],  bias = 1.2497139601206228e-19,  MSE error = 126308163.20098682]\n",
      "[itration = 105,  weight = [[9.22359357e-14]\n",
      " [6.80685464e-08]],  bias = 1.249838277733539e-19,  MSE error = 126307923.75290382]\n",
      "[itration = 106,  weight = [[9.22447182e-14]\n",
      " [6.80751551e-08]],  bias = 1.2499549463592666e-19,  MSE error = 126307711.85002267]\n",
      "[itration = 107,  weight = [[9.22529699e-14]\n",
      " [6.80813720e-08]],  bias = 1.2500644193904788e-19,  MSE error = 126307524.32364753]\n",
      "[itration = 108,  weight = [[9.22607221e-14]\n",
      " [6.80872205e-08]],  bias = 1.2501671233450595e-19,  MSE error = 126307358.36959735]\n",
      "[itration = 109,  weight = [[9.22680044e-14]\n",
      " [6.80927223e-08]],  bias = 1.2502634594591035e-19,  MSE error = 126307211.50627345]\n",
      "[itration = 110,  weight = [[9.22748448e-14]\n",
      " [6.80978980e-08]],  bias = 1.2503538051854902e-19,  MSE error = 126307081.53755087]\n",
      "[itration = 111,  weight = [[9.22812693e-14]\n",
      " [6.81027669e-08]],  bias = 1.2504385156036315e-19,  MSE error = 126306966.51993859]\n",
      "[itration = 112,  weight = [[9.22873028e-14]\n",
      " [6.81073472e-08]],  bias = 1.2505179247456554e-19,  MSE error = 126306864.73351741]\n",
      "[itration = 113,  weight = [[9.22929682e-14]\n",
      " [6.81116560e-08]],  bias = 1.2505923468439812e-19,  MSE error = 126306774.65622115]\n",
      "[itration = 114,  weight = [[9.22982875e-14]\n",
      " [6.81157093e-08]],  bias = 1.2506620775049444e-19,  MSE error = 126306694.94107637]\n",
      "[itration = 115,  weight = [[9.23032812e-14]\n",
      " [6.81195225e-08]],  bias = 1.2507273948128548e-19,  MSE error = 126306624.39606036]\n",
      "[itration = 116,  weight = [[9.23079685e-14]\n",
      " [6.81231096e-08]],  bias = 1.2507885603686132e-19,  MSE error = 126306561.96627618]\n",
      "[itration = 117,  weight = [[9.23123677e-14]\n",
      " [6.81264841e-08]],  bias = 1.2508458202667624e-19,  MSE error = 126306506.71817827]\n",
      "[itration = 118,  weight = [[9.23164958e-14]\n",
      " [6.81296585e-08]],  bias = 1.250899406014625e-19,  MSE error = 126306457.82561257]\n",
      "[itration = 119,  weight = [[9.23203688e-14]\n",
      " [6.81326448e-08]],  bias = 1.2509495353969578e-19,  MSE error = 126306414.55746272]\n",
      "[itration = 120,  weight = [[9.23240020e-14]\n",
      " [6.81354541e-08]],  bias = 1.250996413289357e-19,  MSE error = 126306376.2667172]\n",
      "[itration = 121,  weight = [[9.23274094e-14]\n",
      " [6.81380968e-08]],  bias = 1.2510402324234447e-19,  MSE error = 126306342.38079421]\n",
      "[itration = 122,  weight = [[9.23306046e-14]\n",
      " [6.81405830e-08]],  bias = 1.2510811741067032e-19,  MSE error = 126306312.39297965]\n",
      "[itration = 123,  weight = [[9.23336000e-14]\n",
      " [6.81429217e-08]],  bias = 1.251119408899638e-19,  MSE error = 126306285.85484985]\n",
      "[itration = 124,  weight = [[9.23364075e-14]\n",
      " [6.81451218e-08]],  bias = 1.2511550972528043e-19,  MSE error = 126306262.36956613]\n",
      "[itration = 125,  weight = [[9.23390383e-14]\n",
      " [6.81471915e-08]],  bias = 1.2511883901060718e-19,  MSE error = 126306241.58594063]\n",
      "[itration = 126,  weight = [[9.23415028e-14]\n",
      " [6.81491385e-08]],  bias = 1.2512194294523707e-19,  MSE error = 126306223.1931848]\n",
      "[itration = 127,  weight = [[9.23438109e-14]\n",
      " [6.81509702e-08]],  bias = 1.2512483488680195e-19,  MSE error = 126306206.91626205]\n",
      "[itration = 128,  weight = [[9.23459719e-14]\n",
      " [6.81526932e-08]],  bias = 1.2512752740116183e-19,  MSE error = 126306192.5117749]\n",
      "[itration = 129,  weight = [[9.23479944e-14]\n",
      " [6.81543141e-08]],  bias = 1.251300323093371e-19,  MSE error = 126306179.76432548]\n",
      "[itration = 130,  weight = [[9.23498868e-14]\n",
      " [6.81558390e-08]],  bias = 1.251323607316588e-19,  MSE error = 126306168.48329446]\n",
      "[itration = 131,  weight = [[9.23516566e-14]\n",
      " [6.81572734e-08]],  bias = 1.2513452312930178e-19,  MSE error = 126306158.49999057]\n",
      "[itration = 132,  weight = [[9.23533112e-14]\n",
      " [6.81586228e-08]],  bias = 1.251365293433563e-19,  MSE error = 126306149.6651282]\n",
      "[itration = 133,  weight = [[9.23548573e-14]\n",
      " [6.81598923e-08]],  bias = 1.2513838863158328e-19,  MSE error = 126306141.84659497]\n",
      "[itration = 134,  weight = [[9.23563015e-14]\n",
      " [6.81610864e-08]],  bias = 1.2514010970299107e-19,  MSE error = 126306134.92747623]\n",
      "[itration = 135,  weight = [[9.23576498e-14]\n",
      " [6.81622099e-08]],  bias = 1.2514170075036282e-19,  MSE error = 126306128.80430676]\n",
      "[itration = 136,  weight = [[9.23589078e-14]\n",
      " [6.81632667e-08]],  bias = 1.2514316948085554e-19,  MSE error = 126306123.38552356]\n",
      "[itration = 137,  weight = [[9.23600809e-14]\n",
      " [6.81642608e-08]],  bias = 1.2514452314478554e-19,  MSE error = 126306118.59009665]\n",
      "[itration = 138,  weight = [[9.23611741e-14]\n",
      " [6.81651961e-08]],  bias = 1.2514576856270767e-19,  MSE error = 126306114.34631753]\n",
      "[itration = 139,  weight = [[9.23621922e-14]\n",
      " [6.81660759e-08]],  bias = 1.2514691215088926e-19,  MSE error = 126306110.5907267]\n",
      "[itration = 140,  weight = [[9.23631396e-14]\n",
      " [6.81669035e-08]],  bias = 1.2514795994527434e-19,  MSE error = 126306107.26716486]\n",
      "[itration = 141,  weight = [[9.23640206e-14]\n",
      " [6.81676821e-08]],  bias = 1.2514891762402708e-19,  MSE error = 126306104.32593298]\n",
      "[itration = 142,  weight = [[9.23648390e-14]\n",
      " [6.81684146e-08]],  bias = 1.2514979052873936e-19,  MSE error = 126306101.72304931]\n",
      "[itration = 143,  weight = [[9.23655985e-14]\n",
      " [6.81691036e-08]],  bias = 1.2515058368438085e-19,  MSE error = 126306099.41959152]\n",
      "[itration = 144,  weight = [[9.23663027e-14]\n",
      " [6.81697518e-08]],  bias = 1.2515130181806684e-19,  MSE error = 126306097.3811148]\n",
      "[itration = 145,  weight = [[9.23669548e-14]\n",
      " [6.81703616e-08]],  bias = 1.2515194937671352e-19,  MSE error = 126306095.57713674]\n",
      "[itration = 146,  weight = [[9.23675579e-14]\n",
      " [6.81709352e-08]],  bias = 1.2515253054364673e-19,  MSE error = 126306093.9806815]\n",
      "[itration = 147,  weight = [[9.23681150e-14]\n",
      " [6.81714748e-08]],  bias = 1.2515304925422622e-19,  MSE error = 126306092.56787641]\n",
      "[itration = 148,  weight = [[9.23686287e-14]\n",
      " [6.81719825e-08]],  bias = 1.2515350921054386e-19,  MSE error = 126306091.3175951]\n",
      "[itration = 149,  weight = [[9.23691016e-14]\n",
      " [6.81724600e-08]],  bias = 1.251539138952505e-19,  MSE error = 126306090.21114141]\n",
      "[itration = 150,  weight = [[9.23695361e-14]\n",
      " [6.81729092e-08]],  bias = 1.2515426658456337e-19,  MSE error = 126306089.23196995]\n",
      "[itration = 151,  weight = [[9.23699346e-14]\n",
      " [6.81733318e-08]],  bias = 1.2515457036050232e-19,  MSE error = 126306088.3654387]\n",
      "[itration = 152,  weight = [[9.23702991e-14]\n",
      " [6.81737294e-08]],  bias = 1.2515482812240095e-19,  MSE error = 126306087.59858991]\n",
      "[itration = 153,  weight = [[9.23706317e-14]\n",
      " [6.81741034e-08]],  bias = 1.251550425977352e-19,  MSE error = 126306086.9199565]\n",
      "[itration = 154,  weight = [[9.23709342e-14]\n",
      " [6.81744552e-08]],  bias = 1.2515521635231028e-19,  MSE error = 126306086.31939054]\n",
      "[itration = 155,  weight = [[9.23712084e-14]\n",
      " [6.81747862e-08]],  bias = 1.2515535179984365e-19,  MSE error = 126306085.7879114]\n",
      "[itration = 156,  weight = [[9.23714561e-14]\n",
      " [6.81750976e-08]],  bias = 1.2515545121097998e-19,  MSE error = 126306085.31757161]\n",
      "[itration = 157,  weight = [[9.23716788e-14]\n",
      " [6.81753904e-08]],  bias = 1.251555167217718e-19,  MSE error = 126306084.90133795]\n",
      "[itration = 158,  weight = [[9.23718779e-14]\n",
      " [6.81756660e-08]],  bias = 1.2515555034165739e-19,  MSE error = 126306084.5329862]\n",
      "[itration = 159,  weight = [[9.23720549e-14]\n",
      " [6.81759252e-08]],  bias = 1.2515555396096588e-19,  MSE error = 126306084.20700827]\n",
      "[itration = 160,  weight = [[9.23722111e-14]\n",
      " [6.81761690e-08]],  bias = 1.2515552935797739e-19,  MSE error = 126306083.91852959]\n",
      "[itration = 161,  weight = [[9.23723476e-14]\n",
      " [6.81763984e-08]],  bias = 1.2515547820556471e-19,  MSE error = 126306083.66323641]\n",
      "[itration = 162,  weight = [[9.23724658e-14]\n",
      " [6.81766142e-08]],  bias = 1.2515540207744136e-19,  MSE error = 126306083.4373112]\n",
      "[itration = 163,  weight = [[9.23725666e-14]\n",
      " [6.81768172e-08]],  bias = 1.2515530245403919e-19,  MSE error = 126306083.23737556]\n",
      "[itration = 164,  weight = [[9.23726511e-14]\n",
      " [6.81770082e-08]],  bias = 1.2515518072803763e-19,  MSE error = 126306083.06043978]\n",
      "[itration = 165,  weight = [[9.23727203e-14]\n",
      " [6.81771878e-08]],  bias = 1.2515503820956526e-19,  MSE error = 126306082.90385799]\n",
      "[itration = 166,  weight = [[9.23727750e-14]\n",
      " [6.81773568e-08]],  bias = 1.2515487613109294e-19,  MSE error = 126306082.7652888]\n",
      "[itration = 167,  weight = [[9.23728162e-14]\n",
      " [6.81775158e-08]],  bias = 1.2515469565203702e-19,  MSE error = 126306082.64266008]\n",
      "[itration = 168,  weight = [[9.23728446e-14]\n",
      " [6.81776654e-08]],  bias = 1.2515449786308954e-19,  MSE error = 126306082.53413811]\n",
      "[itration = 169,  weight = [[9.23728609e-14]\n",
      " [6.81778060e-08]],  bias = 1.25154283790292e-19,  MSE error = 126306082.4381001]\n",
      "[itration = 170,  weight = [[9.23728660e-14]\n",
      " [6.81779384e-08]],  bias = 1.251540543988674e-19,  MSE error = 126306082.35310993]\n",
      "[itration = 171,  weight = [[9.23728604e-14]\n",
      " [6.81780629e-08]],  bias = 1.2515381059682526e-19,  MSE error = 126306082.2778967]\n",
      "[itration = 172,  weight = [[9.23728449e-14]\n",
      " [6.81781800e-08]],  bias = 1.2515355323835296e-19,  MSE error = 126306082.21133573]\n",
      "[itration = 173,  weight = [[9.23728199e-14]\n",
      " [6.81782902e-08]],  bias = 1.2515328312700605e-19,  MSE error = 126306082.15243168]\n",
      "[itration = 174,  weight = [[9.23727861e-14]\n",
      " [6.81783939e-08]],  bias = 1.2515300101870944e-19,  MSE error = 126306082.10030372]\n",
      "[itration = 175,  weight = [[9.23727439e-14]\n",
      " [6.81784914e-08]],  bias = 1.251527076245807e-19,  MSE error = 126306082.05417237]\n",
      "[itration = 176,  weight = [[9.23726939e-14]\n",
      " [6.81785831e-08]],  bias = 1.2515240361358597e-19,  MSE error = 126306082.0133478]\n",
      "[itration = 177,  weight = [[9.23726366e-14]\n",
      " [6.81786694e-08]],  bias = 1.2515208961503855e-19,  MSE error = 126306081.97721952]\n",
      "[itration = 178,  weight = [[9.23725723e-14]\n",
      " [6.81787506e-08]],  bias = 1.2515176622094926e-19,  MSE error = 126306081.94524732]\n",
      "[itration = 179,  weight = [[9.23725015e-14]\n",
      " [6.81788269e-08]],  bias = 1.2515143398823756e-19,  MSE error = 126306081.91695309]\n",
      "[itration = 180,  weight = [[9.23724245e-14]\n",
      " [6.81788988e-08]],  bias = 1.251510934408116e-19,  MSE error = 126306081.89191368]\n",
      "[itration = 181,  weight = [[9.23723418e-14]\n",
      " [6.81789664e-08]],  bias = 1.2515074507152491e-19,  MSE error = 126306081.86975475]\n",
      "[itration = 182,  weight = [[9.23722537e-14]\n",
      " [6.81790299e-08]],  bias = 1.2515038934401723e-19,  MSE error = 126306081.85014488]\n",
      "[itration = 183,  weight = [[9.23721604e-14]\n",
      " [6.81790897e-08]],  bias = 1.2515002669444611e-19,  MSE error = 126306081.83279087]\n",
      "[itration = 184,  weight = [[9.23720623e-14]\n",
      " [6.81791460e-08]],  bias = 1.2514965753311593e-19,  MSE error = 126306081.81743318]\n",
      "[itration = 185,  weight = [[9.23719598e-14]\n",
      " [6.81791989e-08]],  bias = 1.251492822460103e-19,  MSE error = 126306081.80384219]\n",
      "[itration = 186,  weight = [[9.23718529e-14]\n",
      " [6.81792487e-08]],  bias = 1.2514890119623374e-19,  MSE error = 126306081.79181466]\n",
      "[itration = 187,  weight = [[9.23717421e-14]\n",
      " [6.81792956e-08]],  bias = 1.2514851472536778e-19,  MSE error = 126306081.78117071]\n",
      "[itration = 188,  weight = [[9.23716275e-14]\n",
      " [6.81793396e-08]],  bias = 1.2514812315474675e-19,  MSE error = 126306081.77175122]\n",
      "[itration = 189,  weight = [[9.23715094e-14]\n",
      " [6.81793811e-08]],  bias = 1.2514772678665793e-19,  MSE error = 126306081.76341529]\n",
      "[itration = 190,  weight = [[9.23713879e-14]\n",
      " [6.81794201e-08]],  bias = 1.2514732590547058e-19,  MSE error = 126306081.75603834]\n",
      "[itration = 191,  weight = [[9.23712633e-14]\n",
      " [6.81794567e-08]],  bias = 1.2514692077869799e-19,  MSE error = 126306081.74950998]\n",
      "[itration = 192,  weight = [[9.23711358e-14]\n",
      " [6.81794913e-08]],  bias = 1.2514651165799666e-19,  MSE error = 126306081.7437326]\n",
      "[itration = 193,  weight = [[9.23710055e-14]\n",
      " [6.81795237e-08]],  bias = 1.2514609878010617e-19,  MSE error = 126306081.73861985]\n",
      "[itration = 194,  weight = [[9.23708725e-14]\n",
      " [6.81795543e-08]],  bias = 1.2514568236773338e-19,  MSE error = 126306081.73409523]\n",
      "[itration = 195,  weight = [[9.23707372e-14]\n",
      " [6.81795830e-08]],  bias = 1.2514526263038425e-19,  MSE error = 126306081.73009112]\n",
      "[itration = 196,  weight = [[9.23705995e-14]\n",
      " [6.81796100e-08]],  bias = 1.2514483976514632e-19,  MSE error = 126306081.72654764]\n",
      "[itration = 197,  weight = [[9.23704596e-14]\n",
      " [6.81796354e-08]],  bias = 1.2514441395742476e-19,  MSE error = 126306081.72341178]\n",
      "[itration = 198,  weight = [[9.23703177e-14]\n",
      " [6.81796593e-08]],  bias = 1.2514398538163487e-19,  MSE error = 126306081.72063664]\n",
      "[itration = 199,  weight = [[9.23701739e-14]\n",
      " [6.81796818e-08]],  bias = 1.2514355420185355e-19,  MSE error = 126306081.71818078]\n",
      "[itration = 200,  weight = [[9.23700283e-14]\n",
      " [6.81797030e-08]],  bias = 1.25143120572432e-19,  MSE error = 126306081.71600738]\n",
      "[itration = 201,  weight = [[9.23698810e-14]\n",
      " [6.81797229e-08]],  bias = 1.2514268463857236e-19,  MSE error = 126306081.71408403]\n",
      "[itration = 202,  weight = [[9.23697320e-14]\n",
      " [6.81797416e-08]],  bias = 1.2514224653686985e-19,  MSE error = 126306081.71238194]\n",
      "[itration = 203,  weight = [[9.23695816e-14]\n",
      " [6.81797593e-08]],  bias = 1.2514180639582307e-19,  MSE error = 126306081.71087563]\n",
      "[itration = 204,  weight = [[9.23694298e-14]\n",
      " [6.81797758e-08]],  bias = 1.2514136433631388e-19,  MSE error = 126306081.70954263]\n",
      "[itration = 205,  weight = [[9.23692766e-14]\n",
      " [6.81797914e-08]],  bias = 1.2514092047205885e-19,  MSE error = 126306081.70836295]\n",
      "[itration = 206,  weight = [[9.23691221e-14]\n",
      " [6.81798061e-08]],  bias = 1.2514047491003408e-19,  MSE error = 126306081.70731899]\n",
      "[itration = 207,  weight = [[9.23689665e-14]\n",
      " [6.81798199e-08]],  bias = 1.2514002775087463e-19,  MSE error = 126306081.7063951]\n",
      "[itration = 208,  weight = [[9.23688098e-14]\n",
      " [6.81798329e-08]],  bias = 1.2513957908925043e-19,  MSE error = 126306081.70557752]\n",
      "[itration = 209,  weight = [[9.23686521e-14]\n",
      " [6.81798451e-08]],  bias = 1.2513912901421988e-19,  MSE error = 126306081.70485398]\n",
      "[itration = 210,  weight = [[9.23684933e-14]\n",
      " [6.81798566e-08]],  bias = 1.2513867760956244e-19,  MSE error = 126306081.70421366]\n",
      "[itration = 211,  weight = [[9.23683337e-14]\n",
      " [6.81798674e-08]],  bias = 1.2513822495409157e-19,  MSE error = 126306081.70364702]\n",
      "[itration = 212,  weight = [[9.23681731e-14]\n",
      " [6.81798776e-08]],  bias = 1.2513777112194906e-19,  MSE error = 126306081.70314556]\n",
      "[itration = 213,  weight = [[9.23680118e-14]\n",
      " [6.81798871e-08]],  bias = 1.2513731618288197e-19,  MSE error = 126306081.70270179]\n",
      "[itration = 214,  weight = [[9.23678497e-14]\n",
      " [6.81798961e-08]],  bias = 1.251368602025031e-19,  MSE error = 126306081.70230907]\n",
      "[itration = 215,  weight = [[9.23676868e-14]\n",
      " [6.81799046e-08]],  bias = 1.2513640324253605e-19,  MSE error = 126306081.7019615]\n",
      "[itration = 216,  weight = [[9.23675233e-14]\n",
      " [6.81799125e-08]],  bias = 1.251359453610458e-19,  MSE error = 126306081.70165394]\n",
      "[itration = 217,  weight = [[9.23673591e-14]\n",
      " [6.81799200e-08]],  bias = 1.2513548661265552e-19,  MSE error = 126306081.70138174]\n",
      "[itration = 218,  weight = [[9.23671944e-14]\n",
      " [6.81799271e-08]],  bias = 1.2513502704875057e-19,  MSE error = 126306081.70114087]\n",
      "[itration = 219,  weight = [[9.23670290e-14]\n",
      " [6.81799337e-08]],  bias = 1.2513456671767046e-19,  MSE error = 126306081.70092772]\n",
      "[itration = 220,  weight = [[9.23668632e-14]\n",
      " [6.81799399e-08]],  bias = 1.251341056648894e-19,  MSE error = 126306081.70073906]\n",
      "[itration = 221,  weight = [[9.23666968e-14]\n",
      " [6.81799458e-08]],  bias = 1.2513364393318612e-19,  MSE error = 126306081.70057213]\n",
      "[itration = 222,  weight = [[9.23665300e-14]\n",
      " [6.81799513e-08]],  bias = 1.2513318156280365e-19,  MSE error = 126306081.70042437]\n",
      "[itration = 223,  weight = [[9.23663627e-14]\n",
      " [6.81799565e-08]],  bias = 1.251327185915996e-19,  MSE error = 126306081.70029365]\n",
      "[itration = 224,  weight = [[9.23661950e-14]\n",
      " [6.81799614e-08]],  bias = 1.251322550551876e-19,  MSE error = 126306081.70017794]\n",
      "[itration = 225,  weight = [[9.23660269e-14]\n",
      " [6.81799660e-08]],  bias = 1.2513179098707027e-19,  MSE error = 126306081.70007554]\n",
      "[itration = 226,  weight = [[9.23658585e-14]\n",
      " [6.81799703e-08]],  bias = 1.2513132641876436e-19,  MSE error = 126306081.69998494]\n",
      "[itration = 227,  weight = [[9.23656897e-14]\n",
      " [6.81799744e-08]],  bias = 1.2513086137991849e-19,  MSE error = 126306081.69990474]\n",
      "[itration = 228,  weight = [[9.23655206e-14]\n",
      " [6.81799782e-08]],  bias = 1.2513039589842384e-19,  MSE error = 126306081.69983378]\n",
      "[itration = 229,  weight = [[9.23653511e-14]\n",
      " [6.81799818e-08]],  bias = 1.2512993000051836e-19,  MSE error = 126306081.69977097]\n",
      "[itration = 230,  weight = [[9.23651814e-14]\n",
      " [6.81799852e-08]],  bias = 1.2512946371088475e-19,  MSE error = 126306081.69971539]\n",
      "[itration = 231,  weight = [[9.23650114e-14]\n",
      " [6.81799884e-08]],  bias = 1.2512899705274265e-19,  MSE error = 126306081.6996662]\n",
      "[itration = 232,  weight = [[9.23648412e-14]\n",
      " [6.81799914e-08]],  bias = 1.2512853004793535e-19,  MSE error = 126306081.69962268]\n",
      "[itration = 233,  weight = [[9.23646707e-14]\n",
      " [6.81799942e-08]],  bias = 1.2512806271701137e-19,  MSE error = 126306081.69958416]\n",
      "[itration = 234,  weight = [[9.23644999e-14]\n",
      " [6.81799968e-08]],  bias = 1.2512759507930123e-19,  MSE error = 126306081.69955008]\n",
      "[itration = 235,  weight = [[9.23643290e-14]\n",
      " [6.81799993e-08]],  bias = 1.2512712715298966e-19,  MSE error = 126306081.69951992]\n",
      "[itration = 236,  weight = [[9.23641579e-14]\n",
      " [6.81800017e-08]],  bias = 1.2512665895518344e-19,  MSE error = 126306081.69949321]\n",
      "[itration = 237,  weight = [[9.23639866e-14]\n",
      " [6.81800039e-08]],  bias = 1.251261905019754e-19,  MSE error = 126306081.69946958]\n",
      "[itration = 238,  weight = [[9.23638151e-14]\n",
      " [6.81800060e-08]],  bias = 1.2512572180850444e-19,  MSE error = 126306081.69944867]\n",
      "[itration = 239,  weight = [[9.23636434e-14]\n",
      " [6.81800079e-08]],  bias = 1.2512525288901212e-19,  MSE error = 126306081.6994302]\n",
      "[itration = 240,  weight = [[9.23634716e-14]\n",
      " [6.81800098e-08]],  bias = 1.251247837568958e-19,  MSE error = 126306081.6994138]\n",
      "[itration = 241,  weight = [[9.23632996e-14]\n",
      " [6.81800115e-08]],  bias = 1.2512431442475877e-19,  MSE error = 126306081.6993993]\n",
      "[itration = 242,  weight = [[9.23631275e-14]\n",
      " [6.81800131e-08]],  bias = 1.2512384490445723e-19,  MSE error = 126306081.6993865]\n",
      "[itration = 243,  weight = [[9.23629553e-14]\n",
      " [6.81800146e-08]],  bias = 1.2512337520714459e-19,  MSE error = 126306081.69937514]\n",
      "[itration = 244,  weight = [[9.23627829e-14]\n",
      " [6.81800161e-08]],  bias = 1.2512290534331316e-19,  MSE error = 126306081.6993651]\n",
      "[itration = 245,  weight = [[9.23626104e-14]\n",
      " [6.81800174e-08]],  bias = 1.2512243532283333e-19,  MSE error = 126306081.69935623]\n",
      "[itration = 246,  weight = [[9.23624378e-14]\n",
      " [6.81800187e-08]],  bias = 1.2512196515499039e-19,  MSE error = 126306081.69934836]\n",
      "[itration = 247,  weight = [[9.23622652e-14]\n",
      " [6.81800199e-08]],  bias = 1.2512149484851928e-19,  MSE error = 126306081.69934139]\n",
      "[itration = 248,  weight = [[9.23620924e-14]\n",
      " [6.81800210e-08]],  bias = 1.2512102441163716e-19,  MSE error = 126306081.69933522]\n",
      "[itration = 249,  weight = [[9.23619195e-14]\n",
      " [6.81800221e-08]],  bias = 1.2512055385207416e-19,  MSE error = 126306081.6993298]\n",
      "[itration = 250,  weight = [[9.23617465e-14]\n",
      " [6.81800231e-08]],  bias = 1.2512008317710213e-19,  MSE error = 126306081.69932497]\n",
      "[itration = 251,  weight = [[9.23615735e-14]\n",
      " [6.81800240e-08]],  bias = 1.2511961239356195e-19,  MSE error = 126306081.6993207]\n",
      "[itration = 252,  weight = [[9.23614004e-14]\n",
      " [6.81800249e-08]],  bias = 1.2511914150788895e-19,  MSE error = 126306081.69931692]\n",
      "[itration = 253,  weight = [[9.23612272e-14]\n",
      " [6.81800257e-08]],  bias = 1.2511867052613707e-19,  MSE error = 126306081.69931355]\n",
      "[itration = 254,  weight = [[9.23610539e-14]\n",
      " [6.81800265e-08]],  bias = 1.2511819945400136e-19,  MSE error = 126306081.69931062]\n",
      "[itration = 255,  weight = [[9.23608806e-14]\n",
      " [6.81800272e-08]],  bias = 1.2511772829683931e-19,  MSE error = 126306081.69930798]\n",
      "[itration = 256,  weight = [[9.23607073e-14]\n",
      " [6.81800279e-08]],  bias = 1.2511725705969087e-19,  MSE error = 126306081.69930568]\n",
      "[itration = 257,  weight = [[9.23605338e-14]\n",
      " [6.81800286e-08]],  bias = 1.2511678574729718e-19,  MSE error = 126306081.69930363]\n",
      "[itration = 258,  weight = [[9.23603603e-14]\n",
      " [6.81800292e-08]],  bias = 1.2511631436411842e-19,  MSE error = 126306081.69930181]\n",
      "[itration = 259,  weight = [[9.23601868e-14]\n",
      " [6.81800298e-08]],  bias = 1.2511584291435034e-19,  MSE error = 126306081.6993002]\n",
      "[itration = 260,  weight = [[9.23600132e-14]\n",
      " [6.81800303e-08]],  bias = 1.2511537140194004e-19,  MSE error = 126306081.69929878]\n",
      "[itration = 261,  weight = [[9.23598396e-14]\n",
      " [6.81800308e-08]],  bias = 1.2511489983060062e-19,  MSE error = 126306081.69929752]\n",
      "[itration = 262,  weight = [[9.23596660e-14]\n",
      " [6.81800313e-08]],  bias = 1.251144282038251e-19,  MSE error = 126306081.69929641]\n",
      "[itration = 263,  weight = [[9.23594923e-14]\n",
      " [6.81800318e-08]],  bias = 1.2511395652489942e-19,  MSE error = 126306081.69929543]\n",
      "[itration = 264,  weight = [[9.23593185e-14]\n",
      " [6.81800322e-08]],  bias = 1.251134847969148e-19,  MSE error = 126306081.69929454]\n",
      "[itration = 265,  weight = [[9.23591447e-14]\n",
      " [6.81800326e-08]],  bias = 1.251130130227792e-19,  MSE error = 126306081.69929376]\n",
      "[itration = 266,  weight = [[9.23589709e-14]\n",
      " [6.81800330e-08]],  bias = 1.2511254120522821e-19,  MSE error = 126306081.69929308]\n",
      "[itration = 267,  weight = [[9.23587971e-14]\n",
      " [6.81800333e-08]],  bias = 1.251120693468353e-19,  MSE error = 126306081.69929248]\n",
      "[itration = 268,  weight = [[9.23586232e-14]\n",
      " [6.81800336e-08]],  bias = 1.2511159745002132e-19,  MSE error = 126306081.69929196]\n",
      "[itration = 269,  weight = [[9.23584494e-14]\n",
      " [6.81800340e-08]],  bias = 1.2511112551706368e-19,  MSE error = 126306081.69929148]\n",
      "[itration = 270,  weight = [[9.23582754e-14]\n",
      " [6.81800342e-08]],  bias = 1.251106535501048e-19,  MSE error = 126306081.69929107]\n",
      "[itration = 271,  weight = [[9.23581015e-14]\n",
      " [6.81800345e-08]],  bias = 1.2511018155116012e-19,  MSE error = 126306081.6992907]\n",
      "[itration = 272,  weight = [[9.23579276e-14]\n",
      " [6.81800348e-08]],  bias = 1.2510970952212556e-19,  MSE error = 126306081.69929036]\n",
      "[itration = 273,  weight = [[9.23577536e-14]\n",
      " [6.81800350e-08]],  bias = 1.2510923746478473e-19,  MSE error = 126306081.69929007]\n",
      "[itration = 274,  weight = [[9.23575796e-14]\n",
      " [6.81800353e-08]],  bias = 1.2510876538081545e-19,  MSE error = 126306081.69928981]\n",
      "[itration = 275,  weight = [[9.23574056e-14]\n",
      " [6.81800355e-08]],  bias = 1.2510829327179614e-19,  MSE error = 126306081.69928959]\n",
      "[itration = 276,  weight = [[9.23572315e-14]\n",
      " [6.81800357e-08]],  bias = 1.2510782113921163e-19,  MSE error = 126306081.6992894]\n",
      "[itration = 277,  weight = [[9.23570575e-14]\n",
      " [6.81800359e-08]],  bias = 1.2510734898445872e-19,  MSE error = 126306081.69928922]\n",
      "[itration = 278,  weight = [[9.23568834e-14]\n",
      " [6.81800360e-08]],  bias = 1.2510687680885146e-19,  MSE error = 126306081.69928905]\n",
      "[itration = 279,  weight = [[9.23567093e-14]\n",
      " [6.81800362e-08]],  bias = 1.25106404613626e-19,  MSE error = 126306081.6992889]\n",
      "[itration = 280,  weight = [[9.23565352e-14]\n",
      " [6.81800364e-08]],  bias = 1.251059323999452e-19,  MSE error = 126306081.69928879]\n",
      "[itration = 281,  weight = [[9.23563611e-14]\n",
      " [6.81800365e-08]],  bias = 1.25105460168903e-19,  MSE error = 126306081.69928868]\n",
      "[itration = 282,  weight = [[9.23561870e-14]\n",
      " [6.81800367e-08]],  bias = 1.2510498792152845e-19,  MSE error = 126306081.69928858]\n",
      "[itration = 283,  weight = [[9.23560129e-14]\n",
      " [6.81800368e-08]],  bias = 1.2510451565878972e-19,  MSE error = 126306081.69928849]\n",
      "[itration = 284,  weight = [[9.23558387e-14]\n",
      " [6.81800369e-08]],  bias = 1.2510404338159748e-19,  MSE error = 126306081.69928841]\n",
      "[itration = 285,  weight = [[9.23556646e-14]\n",
      " [6.81800370e-08]],  bias = 1.2510357109080846e-19,  MSE error = 126306081.69928837]\n",
      "[itration = 286,  weight = [[9.23554904e-14]\n",
      " [6.81800372e-08]],  bias = 1.251030987872286e-19,  MSE error = 126306081.69928831]\n",
      "[itration = 287,  weight = [[9.23553162e-14]\n",
      " [6.81800373e-08]],  bias = 1.251026264716161e-19,  MSE error = 126306081.69928825]\n",
      "[itration = 288,  weight = [[9.23551421e-14]\n",
      " [6.81800374e-08]],  bias = 1.2510215414468417e-19,  MSE error = 126306081.69928819]\n",
      "[itration = 289,  weight = [[9.23549679e-14]\n",
      " [6.81800374e-08]],  bias = 1.2510168180710377e-19,  MSE error = 126306081.69928816]\n",
      "[itration = 290,  weight = [[9.23547937e-14]\n",
      " [6.81800375e-08]],  bias = 1.251012094595061e-19,  MSE error = 126306081.69928813]\n",
      "[itration = 291,  weight = [[9.23546195e-14]\n",
      " [6.81800376e-08]],  bias = 1.2510073710248493e-19,  MSE error = 126306081.69928809]\n",
      "[itration = 292,  weight = [[9.23544453e-14]\n",
      " [6.81800377e-08]],  bias = 1.2510026473659883e-19,  MSE error = 126306081.69928806]\n",
      "[itration = 293,  weight = [[9.23542711e-14]\n",
      " [6.81800378e-08]],  bias = 1.2509979236237328e-19,  MSE error = 126306081.69928804]\n",
      "[itration = 294,  weight = [[9.23540968e-14]\n",
      " [6.81800378e-08]],  bias = 1.2509931998030257e-19,  MSE error = 126306081.69928801]\n",
      "[itration = 295,  weight = [[9.23539226e-14]\n",
      " [6.81800379e-08]],  bias = 1.2509884759085175e-19,  MSE error = 126306081.69928801]\n",
      "[itration = 296,  weight = [[9.23537484e-14]\n",
      " [6.81800380e-08]],  bias = 1.2509837519445827e-19,  MSE error = 126306081.699288]\n",
      "[itration = 297,  weight = [[9.23535742e-14]\n",
      " [6.81800380e-08]],  bias = 1.2509790279153364e-19,  MSE error = 126306081.69928797]\n",
      "[itration = 298,  weight = [[9.23533999e-14]\n",
      " [6.81800381e-08]],  bias = 1.25097430382465e-19,  MSE error = 126306081.69928795]\n",
      "[itration = 299,  weight = [[9.23532257e-14]\n",
      " [6.81800381e-08]],  bias = 1.2509695796761657e-19,  MSE error = 126306081.69928795]\n",
      "[itration = 300,  weight = [[9.23530514e-14]\n",
      " [6.81800382e-08]],  bias = 1.2509648554733089e-19,  MSE error = 126306081.69928792]\n",
      "[itration = 301,  weight = [[9.23528772e-14]\n",
      " [6.81800382e-08]],  bias = 1.2509601312193027e-19,  MSE error = 126306081.69928792]\n",
      "[itration = 302,  weight = [[9.23527029e-14]\n",
      " [6.81800382e-08]],  bias = 1.2509554069171791e-19,  MSE error = 126306081.69928789]\n",
      "[itration = 303,  weight = [[9.23525287e-14]\n",
      " [6.81800383e-08]],  bias = 1.2509506825697904e-19,  MSE error = 126306081.69928789]\n",
      "[itration = 304,  weight = [[9.23523544e-14]\n",
      " [6.81800383e-08]],  bias = 1.2509459581798194e-19,  MSE error = 126306081.6992879]\n",
      "[itration = 305,  weight = [[9.23521801e-14]\n",
      " [6.81800384e-08]],  bias = 1.2509412337497903e-19,  MSE error = 126306081.6992879]\n",
      "[itration = 306,  weight = [[9.23520059e-14]\n",
      " [6.81800384e-08]],  bias = 1.2509365092820774e-19,  MSE error = 126306081.69928788]\n",
      "[itration = 307,  weight = [[9.23518316e-14]\n",
      " [6.81800384e-08]],  bias = 1.2509317847789144e-19,  MSE error = 126306081.69928788]\n",
      "[itration = 308,  weight = [[9.23516573e-14]\n",
      " [6.81800384e-08]],  bias = 1.2509270602424028e-19,  MSE error = 126306081.69928789]\n",
      "[itration = 309,  weight = [[9.23514831e-14]\n",
      " [6.81800385e-08]],  bias = 1.2509223356745192e-19,  MSE error = 126306081.69928788]\n",
      "[itration = 310,  weight = [[9.23513088e-14]\n",
      " [6.81800385e-08]],  bias = 1.250917611077123e-19,  MSE error = 126306081.69928788]\n",
      "[itration = 311,  weight = [[9.23511345e-14]\n",
      " [6.81800385e-08]],  bias = 1.250912886451964e-19,  MSE error = 126306081.69928786]\n",
      "[itration = 312,  weight = [[9.23509602e-14]\n",
      " [6.81800385e-08]],  bias = 1.2509081618006876e-19,  MSE error = 126306081.69928786]\n",
      "[itration = 313,  weight = [[9.23507859e-14]\n",
      " [6.81800386e-08]],  bias = 1.250903437124842e-19,  MSE error = 126306081.69928786]\n",
      "[itration = 314,  weight = [[9.23506117e-14]\n",
      " [6.81800386e-08]],  bias = 1.2508987124258831e-19,  MSE error = 126306081.69928785]\n",
      "[itration = 315,  weight = [[9.23504374e-14]\n",
      " [6.81800386e-08]],  bias = 1.2508939877051816e-19,  MSE error = 126306081.69928786]\n",
      "[itration = 316,  weight = [[9.23502631e-14]\n",
      " [6.81800386e-08]],  bias = 1.2508892629640256e-19,  MSE error = 126306081.69928786]\n",
      "[itration = 317,  weight = [[9.23500888e-14]\n",
      " [6.81800386e-08]],  bias = 1.250884538203628e-19,  MSE error = 126306081.69928785]\n",
      "[itration = 318,  weight = [[9.23499145e-14]\n",
      " [6.81800387e-08]],  bias = 1.2508798134251293e-19,  MSE error = 126306081.69928786]\n",
      "[itration = 319,  weight = [[9.23497402e-14]\n",
      " [6.81800387e-08]],  bias = 1.2508750886296024e-19,  MSE error = 126306081.69928785]\n",
      "[itration = 320,  weight = [[9.23495659e-14]\n",
      " [6.81800387e-08]],  bias = 1.2508703638180567e-19,  MSE error = 126306081.69928785]\n",
      "[itration = 321,  weight = [[9.23493916e-14]\n",
      " [6.81800387e-08]],  bias = 1.2508656389914415e-19,  MSE error = 126306081.69928786]\n",
      "[itration = 322,  weight = [[9.23492173e-14]\n",
      " [6.81800387e-08]],  bias = 1.2508609141506502e-19,  MSE error = 126306081.69928785]\n",
      "[itration = 323,  weight = [[9.23490430e-14]\n",
      " [6.81800387e-08]],  bias = 1.250856189296523e-19,  MSE error = 126306081.69928785]\n",
      "[itration = 324,  weight = [[9.23488687e-14]\n",
      " [6.81800387e-08]],  bias = 1.2508514644298507e-19,  MSE error = 126306081.69928783]\n",
      "[itration = 325,  weight = [[9.23486944e-14]\n",
      " [6.81800387e-08]],  bias = 1.2508467395513765e-19,  MSE error = 126306081.69928786]\n",
      "[itration = 326,  weight = [[9.23485202e-14]\n",
      " [6.81800388e-08]],  bias = 1.2508420146618e-19,  MSE error = 126306081.69928785]\n",
      "[itration = 327,  weight = [[9.23483459e-14]\n",
      " [6.81800388e-08]],  bias = 1.2508372897617794e-19,  MSE error = 126306081.69928783]\n",
      "[itration = 328,  weight = [[9.23481716e-14]\n",
      " [6.81800388e-08]],  bias = 1.250832564851934e-19,  MSE error = 126306081.69928783]\n",
      "[itration = 329,  weight = [[9.23479973e-14]\n",
      " [6.81800388e-08]],  bias = 1.2508278399328457e-19,  MSE error = 126306081.69928785]\n",
      "[itration = 330,  weight = [[9.23478230e-14]\n",
      " [6.81800388e-08]],  bias = 1.2508231150050626e-19,  MSE error = 126306081.69928783]\n",
      "[itration = 331,  weight = [[9.23476487e-14]\n",
      " [6.81800388e-08]],  bias = 1.2508183900691e-19,  MSE error = 126306081.69928783]\n",
      "[itration = 332,  weight = [[9.23474743e-14]\n",
      " [6.81800388e-08]],  bias = 1.250813665125443e-19,  MSE error = 126306081.69928785]\n",
      "[itration = 333,  weight = [[9.23473000e-14]\n",
      " [6.81800388e-08]],  bias = 1.2508089401745475e-19,  MSE error = 126306081.69928783]\n",
      "[itration = 334,  weight = [[9.23471257e-14]\n",
      " [6.81800388e-08]],  bias = 1.2508042152168426e-19,  MSE error = 126306081.69928785]\n",
      "[itration = 335,  weight = [[9.23469514e-14]\n",
      " [6.81800388e-08]],  bias = 1.250799490252732e-19,  MSE error = 126306081.69928783]\n",
      "[itration = 336,  weight = [[9.23467771e-14]\n",
      " [6.81800388e-08]],  bias = 1.2507947652825952e-19,  MSE error = 126306081.69928786]\n",
      "[itration = 337,  weight = [[9.23466028e-14]\n",
      " [6.81800388e-08]],  bias = 1.2507900403067895e-19,  MSE error = 126306081.69928785]\n",
      "[itration = 338,  weight = [[9.23464285e-14]\n",
      " [6.81800388e-08]],  bias = 1.250785315325651e-19,  MSE error = 126306081.69928785]\n",
      "[itration = 339,  weight = [[9.23462542e-14]\n",
      " [6.81800388e-08]],  bias = 1.2507805903394956e-19,  MSE error = 126306081.69928783]\n",
      "[itration = 340,  weight = [[9.23460799e-14]\n",
      " [6.81800388e-08]],  bias = 1.2507758653486207e-19,  MSE error = 126306081.69928785]\n",
      "[itration = 341,  weight = [[9.23459056e-14]\n",
      " [6.81800388e-08]],  bias = 1.2507711403533063e-19,  MSE error = 126306081.69928786]\n",
      "[itration = 342,  weight = [[9.23457313e-14]\n",
      " [6.81800388e-08]],  bias = 1.2507664153538153e-19,  MSE error = 126306081.69928785]\n",
      "[itration = 343,  weight = [[9.23455570e-14]\n",
      " [6.81800389e-08]],  bias = 1.2507616903503954e-19,  MSE error = 126306081.69928783]\n",
      "[itration = 344,  weight = [[9.23453827e-14]\n",
      " [6.81800389e-08]],  bias = 1.2507569653432794e-19,  MSE error = 126306081.69928783]\n",
      "[itration = 345,  weight = [[9.23452084e-14]\n",
      " [6.81800389e-08]],  bias = 1.2507522403326866e-19,  MSE error = 126306081.69928783]\n",
      "[itration = 346,  weight = [[9.23450341e-14]\n",
      " [6.81800389e-08]],  bias = 1.2507475153188228e-19,  MSE error = 126306081.69928783]\n",
      "[itration = 347,  weight = [[9.23448598e-14]\n",
      " [6.81800389e-08]],  bias = 1.2507427903018822e-19,  MSE error = 126306081.69928783]\n",
      "[itration = 348,  weight = [[9.23446855e-14]\n",
      " [6.81800389e-08]],  bias = 1.2507380652820468e-19,  MSE error = 126306081.69928786]\n",
      "[itration = 349,  weight = [[9.23445112e-14]\n",
      " [6.81800389e-08]],  bias = 1.2507333402594885e-19,  MSE error = 126306081.69928786]\n",
      "[itration = 350,  weight = [[9.23443368e-14]\n",
      " [6.81800389e-08]],  bias = 1.2507286152343684e-19,  MSE error = 126306081.69928783]\n",
      "[itration = 351,  weight = [[9.23441625e-14]\n",
      " [6.81800389e-08]],  bias = 1.2507238902068385e-19,  MSE error = 126306081.69928786]\n",
      "[itration = 352,  weight = [[9.23439882e-14]\n",
      " [6.81800389e-08]],  bias = 1.2507191651770418e-19,  MSE error = 126306081.69928786]\n",
      "[itration = 353,  weight = [[9.23438139e-14]\n",
      " [6.81800389e-08]],  bias = 1.2507144401451126e-19,  MSE error = 126306081.69928786]\n",
      "[itration = 354,  weight = [[9.23436396e-14]\n",
      " [6.81800389e-08]],  bias = 1.250709715111177e-19,  MSE error = 126306081.69928785]\n",
      "[itration = 355,  weight = [[9.23434653e-14]\n",
      " [6.81800389e-08]],  bias = 1.2507049900753543e-19,  MSE error = 126306081.69928785]\n",
      "[itration = 356,  weight = [[9.23432910e-14]\n",
      " [6.81800389e-08]],  bias = 1.2507002650377561e-19,  MSE error = 126306081.69928785]\n",
      "[itration = 357,  weight = [[9.23431167e-14]\n",
      " [6.81800389e-08]],  bias = 1.250695539998488e-19,  MSE error = 126306081.69928783]\n",
      "[itration = 358,  weight = [[9.23429424e-14]\n",
      " [6.81800389e-08]],  bias = 1.2506908149576487e-19,  MSE error = 126306081.69928785]\n",
      "[itration = 359,  weight = [[9.23427681e-14]\n",
      " [6.81800389e-08]],  bias = 1.2506860899153312e-19,  MSE error = 126306081.69928785]\n",
      "[itration = 360,  weight = [[9.23425938e-14]\n",
      " [6.81800389e-08]],  bias = 1.2506813648716235e-19,  MSE error = 126306081.69928785]\n",
      "[itration = 361,  weight = [[9.23424195e-14]\n",
      " [6.81800389e-08]],  bias = 1.2506766398266076e-19,  MSE error = 126306081.69928783]\n",
      "[itration = 362,  weight = [[9.23422451e-14]\n",
      " [6.81800389e-08]],  bias = 1.2506719147803613e-19,  MSE error = 126306081.69928786]\n",
      "[itration = 363,  weight = [[9.23420708e-14]\n",
      " [6.81800389e-08]],  bias = 1.2506671897329575e-19,  MSE error = 126306081.69928786]\n",
      "[itration = 364,  weight = [[9.23418965e-14]\n",
      " [6.81800389e-08]],  bias = 1.2506624646844648e-19,  MSE error = 126306081.69928783]\n",
      "[itration = 365,  weight = [[9.23417222e-14]\n",
      " [6.81800389e-08]],  bias = 1.2506577396349477e-19,  MSE error = 126306081.69928786]\n",
      "[itration = 366,  weight = [[9.23415479e-14]\n",
      " [6.81800389e-08]],  bias = 1.250653014584467e-19,  MSE error = 126306081.69928786]\n",
      "[itration = 367,  weight = [[9.23413736e-14]\n",
      " [6.81800389e-08]],  bias = 1.25064828953308e-19,  MSE error = 126306081.69928785]\n",
      "[itration = 368,  weight = [[9.23411993e-14]\n",
      " [6.81800389e-08]],  bias = 1.2506435644808398e-19,  MSE error = 126306081.69928785]\n",
      "[itration = 369,  weight = [[9.23410250e-14]\n",
      " [6.81800389e-08]],  bias = 1.2506388394277976e-19,  MSE error = 126306081.69928785]\n",
      "[itration = 370,  weight = [[9.23408507e-14]\n",
      " [6.81800389e-08]],  bias = 1.2506341143740007e-19,  MSE error = 126306081.69928786]\n",
      "[itration = 371,  weight = [[9.23406764e-14]\n",
      " [6.81800389e-08]],  bias = 1.2506293893194938e-19,  MSE error = 126306081.69928783]\n",
      "[itration = 372,  weight = [[9.23405020e-14]\n",
      " [6.81800389e-08]],  bias = 1.250624664264319e-19,  MSE error = 126306081.69928783]\n",
      "[itration = 373,  weight = [[9.23403277e-14]\n",
      " [6.81800389e-08]],  bias = 1.250619939208516e-19,  MSE error = 126306081.69928785]\n",
      "[itration = 374,  weight = [[9.23401534e-14]\n",
      " [6.81800389e-08]],  bias = 1.250615214152122e-19,  MSE error = 126306081.69928783]\n",
      "[itration = 375,  weight = [[9.23399791e-14]\n",
      " [6.81800389e-08]],  bias = 1.2506104890951718e-19,  MSE error = 126306081.69928783]\n",
      "[itration = 376,  weight = [[9.23398048e-14]\n",
      " [6.81800389e-08]],  bias = 1.2506057640376985e-19,  MSE error = 126306081.69928785]\n",
      "[itration = 377,  weight = [[9.23396305e-14]\n",
      " [6.81800389e-08]],  bias = 1.2506010389797334e-19,  MSE error = 126306081.69928785]\n",
      "[itration = 378,  weight = [[9.23394562e-14]\n",
      " [6.81800389e-08]],  bias = 1.2505963139213053e-19,  MSE error = 126306081.69928786]\n",
      "[itration = 379,  weight = [[9.23392819e-14]\n",
      " [6.81800389e-08]],  bias = 1.2505915888624417e-19,  MSE error = 126306081.69928785]\n",
      "[itration = 380,  weight = [[9.23391076e-14]\n",
      " [6.81800389e-08]],  bias = 1.2505868638031684e-19,  MSE error = 126306081.69928783]\n",
      "[itration = 381,  weight = [[9.23389333e-14]\n",
      " [6.81800389e-08]],  bias = 1.25058213874351e-19,  MSE error = 126306081.69928785]\n",
      "[itration = 382,  weight = [[9.23387589e-14]\n",
      " [6.81800389e-08]],  bias = 1.2505774136834889e-19,  MSE error = 126306081.69928785]\n",
      "[itration = 383,  weight = [[9.23385846e-14]\n",
      " [6.81800389e-08]],  bias = 1.2505726886231267e-19,  MSE error = 126306081.69928786]\n",
      "[itration = 384,  weight = [[9.23384103e-14]\n",
      " [6.81800389e-08]],  bias = 1.2505679635624438e-19,  MSE error = 126306081.69928785]\n",
      "[itration = 385,  weight = [[9.23382360e-14]\n",
      " [6.81800389e-08]],  bias = 1.250563238501459e-19,  MSE error = 126306081.69928785]\n",
      "[itration = 386,  weight = [[9.23380617e-14]\n",
      " [6.81800389e-08]],  bias = 1.2505585134401905e-19,  MSE error = 126306081.69928783]\n",
      "[itration = 387,  weight = [[9.23378874e-14]\n",
      " [6.81800389e-08]],  bias = 1.2505537883786547e-19,  MSE error = 126306081.69928783]\n",
      "[itration = 388,  weight = [[9.23377131e-14]\n",
      " [6.81800389e-08]],  bias = 1.2505490633168678e-19,  MSE error = 126306081.69928785]\n",
      "[itration = 389,  weight = [[9.23375388e-14]\n",
      " [6.81800389e-08]],  bias = 1.2505443382548445e-19,  MSE error = 126306081.69928785]\n",
      "[itration = 390,  weight = [[9.23373645e-14]\n",
      " [6.81800389e-08]],  bias = 1.2505396131925987e-19,  MSE error = 126306081.69928785]\n",
      "[itration = 391,  weight = [[9.23371901e-14]\n",
      " [6.81800389e-08]],  bias = 1.250534888130144e-19,  MSE error = 126306081.69928785]\n",
      "[itration = 392,  weight = [[9.23370158e-14]\n",
      " [6.81800389e-08]],  bias = 1.2505301630674923e-19,  MSE error = 126306081.69928785]\n",
      "[itration = 393,  weight = [[9.23368415e-14]\n",
      " [6.81800389e-08]],  bias = 1.2505254380046556e-19,  MSE error = 126306081.69928785]\n",
      "[itration = 394,  weight = [[9.23366672e-14]\n",
      " [6.81800389e-08]],  bias = 1.2505207129416447e-19,  MSE error = 126306081.69928785]\n",
      "[itration = 395,  weight = [[9.23364929e-14]\n",
      " [6.81800389e-08]],  bias = 1.2505159878784702e-19,  MSE error = 126306081.69928785]\n",
      "[itration = 396,  weight = [[9.23363186e-14]\n",
      " [6.81800389e-08]],  bias = 1.2505112628151416e-19,  MSE error = 126306081.69928783]\n",
      "[itration = 397,  weight = [[9.23361443e-14]\n",
      " [6.81800389e-08]],  bias = 1.2505065377516678e-19,  MSE error = 126306081.69928785]\n",
      "[itration = 398,  weight = [[9.23359700e-14]\n",
      " [6.81800389e-08]],  bias = 1.2505018126880578e-19,  MSE error = 126306081.69928785]\n",
      "[itration = 399,  weight = [[9.23357957e-14]\n",
      " [6.81800389e-08]],  bias = 1.2504970876243195e-19,  MSE error = 126306081.69928783]\n",
      "[itration = 400,  weight = [[9.23356213e-14]\n",
      " [6.81800389e-08]],  bias = 1.2504923625604605e-19,  MSE error = 126306081.69928785]\n",
      "[itration = 401,  weight = [[9.23354470e-14]\n",
      " [6.81800389e-08]],  bias = 1.250487637496488e-19,  MSE error = 126306081.69928785]\n",
      "[itration = 402,  weight = [[9.23352727e-14]\n",
      " [6.81800389e-08]],  bias = 1.2504829124324084e-19,  MSE error = 126306081.69928785]\n",
      "[itration = 403,  weight = [[9.23350984e-14]\n",
      " [6.81800389e-08]],  bias = 1.2504781873682286e-19,  MSE error = 126306081.69928785]\n",
      "[itration = 404,  weight = [[9.23349241e-14]\n",
      " [6.81800389e-08]],  bias = 1.2504734623039543e-19,  MSE error = 126306081.69928785]\n",
      "[itration = 405,  weight = [[9.23347498e-14]\n",
      " [6.81800389e-08]],  bias = 1.250468737239591e-19,  MSE error = 126306081.69928783]\n",
      "[itration = 406,  weight = [[9.23345755e-14]\n",
      " [6.81800389e-08]],  bias = 1.2504640121751442e-19,  MSE error = 126306081.69928785]\n",
      "[itration = 407,  weight = [[9.23344012e-14]\n",
      " [6.81800389e-08]],  bias = 1.2504592871106186e-19,  MSE error = 126306081.69928783]\n",
      "[itration = 408,  weight = [[9.23342269e-14]\n",
      " [6.81800389e-08]],  bias = 1.2504545620460189e-19,  MSE error = 126306081.69928785]\n",
      "[itration = 409,  weight = [[9.23340526e-14]\n",
      " [6.81800389e-08]],  bias = 1.2504498369813496e-19,  MSE error = 126306081.69928785]\n",
      "[itration = 410,  weight = [[9.23338782e-14]\n",
      " [6.81800389e-08]],  bias = 1.2504451119166148e-19,  MSE error = 126306081.69928785]\n",
      "[itration = 411,  weight = [[9.23337039e-14]\n",
      " [6.81800389e-08]],  bias = 1.2504403868518184e-19,  MSE error = 126306081.69928785]\n",
      "[itration = 412,  weight = [[9.23335296e-14]\n",
      " [6.81800389e-08]],  bias = 1.250435661786964e-19,  MSE error = 126306081.69928786]\n",
      "[itration = 413,  weight = [[9.23333553e-14]\n",
      " [6.81800389e-08]],  bias = 1.2504309367220551e-19,  MSE error = 126306081.69928783]\n",
      "[itration = 414,  weight = [[9.23331810e-14]\n",
      " [6.81800389e-08]],  bias = 1.250426211657095e-19,  MSE error = 126306081.69928783]\n",
      "[itration = 415,  weight = [[9.23330067e-14]\n",
      " [6.81800389e-08]],  bias = 1.2504214865920865e-19,  MSE error = 126306081.69928783]\n",
      "[itration = 416,  weight = [[9.23328324e-14]\n",
      " [6.81800389e-08]],  bias = 1.2504167615270328e-19,  MSE error = 126306081.69928785]\n",
      "[itration = 417,  weight = [[9.23326581e-14]\n",
      " [6.81800389e-08]],  bias = 1.2504120364619362e-19,  MSE error = 126306081.69928786]\n",
      "[itration = 418,  weight = [[9.23324838e-14]\n",
      " [6.81800389e-08]],  bias = 1.2504073113967994e-19,  MSE error = 126306081.69928786]\n",
      "[itration = 419,  weight = [[9.23323094e-14]\n",
      " [6.81800389e-08]],  bias = 1.2504025863316247e-19,  MSE error = 126306081.69928785]\n",
      "[itration = 420,  weight = [[9.23321351e-14]\n",
      " [6.81800389e-08]],  bias = 1.2503978612664147e-19,  MSE error = 126306081.69928785]\n",
      "[itration = 421,  weight = [[9.23319608e-14]\n",
      " [6.81800389e-08]],  bias = 1.2503931362011713e-19,  MSE error = 126306081.69928785]\n",
      "[itration = 422,  weight = [[9.23317865e-14]\n",
      " [6.81800389e-08]],  bias = 1.2503884111358963e-19,  MSE error = 126306081.69928786]\n",
      "[itration = 423,  weight = [[9.23316122e-14]\n",
      " [6.81800389e-08]],  bias = 1.2503836860705917e-19,  MSE error = 126306081.69928785]\n",
      "[itration = 424,  weight = [[9.23314379e-14]\n",
      " [6.81800389e-08]],  bias = 1.2503789610052594e-19,  MSE error = 126306081.69928785]\n",
      "[itration = 425,  weight = [[9.23312636e-14]\n",
      " [6.81800389e-08]],  bias = 1.2503742359399008e-19,  MSE error = 126306081.69928785]\n",
      "[itration = 426,  weight = [[9.23310893e-14]\n",
      " [6.81800389e-08]],  bias = 1.2503695108745175e-19,  MSE error = 126306081.69928785]\n",
      "[itration = 427,  weight = [[9.23309150e-14]\n",
      " [6.81800389e-08]],  bias = 1.250364785809111e-19,  MSE error = 126306081.69928783]\n",
      "[itration = 428,  weight = [[9.23307406e-14]\n",
      " [6.81800389e-08]],  bias = 1.2503600607436827e-19,  MSE error = 126306081.69928783]\n",
      "[itration = 429,  weight = [[9.23305663e-14]\n",
      " [6.81800389e-08]],  bias = 1.250355335678234e-19,  MSE error = 126306081.69928785]\n",
      "[itration = 430,  weight = [[9.23303920e-14]\n",
      " [6.81800389e-08]],  bias = 1.2503506106127658e-19,  MSE error = 126306081.69928783]\n",
      "[itration = 431,  weight = [[9.23302177e-14]\n",
      " [6.81800389e-08]],  bias = 1.2503458855472797e-19,  MSE error = 126306081.69928785]\n",
      "[itration = 432,  weight = [[9.23300434e-14]\n",
      " [6.81800389e-08]],  bias = 1.2503411604817765e-19,  MSE error = 126306081.69928785]\n",
      "[itration = 433,  weight = [[9.23298691e-14]\n",
      " [6.81800389e-08]],  bias = 1.2503364354162571e-19,  MSE error = 126306081.69928785]\n",
      "[itration = 434,  weight = [[9.23296948e-14]\n",
      " [6.81800389e-08]],  bias = 1.2503317103507226e-19,  MSE error = 126306081.69928785]\n",
      "[itration = 435,  weight = [[9.23295205e-14]\n",
      " [6.81800389e-08]],  bias = 1.250326985285174e-19,  MSE error = 126306081.69928783]\n",
      "[itration = 436,  weight = [[9.23293462e-14]\n",
      " [6.81800389e-08]],  bias = 1.250322260219612e-19,  MSE error = 126306081.69928785]\n",
      "[itration = 437,  weight = [[9.23291718e-14]\n",
      " [6.81800389e-08]],  bias = 1.2503175351540372e-19,  MSE error = 126306081.69928785]\n",
      "[itration = 438,  weight = [[9.23289975e-14]\n",
      " [6.81800389e-08]],  bias = 1.2503128100884507e-19,  MSE error = 126306081.69928783]\n",
      "[itration = 439,  weight = [[9.23288232e-14]\n",
      " [6.81800389e-08]],  bias = 1.250308085022853e-19,  MSE error = 126306081.69928785]\n",
      "[itration = 440,  weight = [[9.23286489e-14]\n",
      " [6.81800389e-08]],  bias = 1.250303359957245e-19,  MSE error = 126306081.69928785]\n",
      "[itration = 441,  weight = [[9.23284746e-14]\n",
      " [6.81800389e-08]],  bias = 1.2502986348916268e-19,  MSE error = 126306081.69928785]\n",
      "[itration = 442,  weight = [[9.23283003e-14]\n",
      " [6.81800389e-08]],  bias = 1.2502939098259996e-19,  MSE error = 126306081.69928785]\n",
      "[itration = 443,  weight = [[9.23281260e-14]\n",
      " [6.81800389e-08]],  bias = 1.2502891847603638e-19,  MSE error = 126306081.69928783]\n",
      "[itration = 444,  weight = [[9.23279517e-14]\n",
      " [6.81800389e-08]],  bias = 1.2502844596947197e-19,  MSE error = 126306081.69928783]\n",
      "[itration = 445,  weight = [[9.23277774e-14]\n",
      " [6.81800389e-08]],  bias = 1.250279734629068e-19,  MSE error = 126306081.69928783]\n",
      "[itration = 446,  weight = [[9.23276031e-14]\n",
      " [6.81800389e-08]],  bias = 1.2502750095634087e-19,  MSE error = 126306081.69928785]\n",
      "[itration = 447,  weight = [[9.23274287e-14]\n",
      " [6.81800389e-08]],  bias = 1.2502702844977428e-19,  MSE error = 126306081.69928785]\n",
      "[itration = 448,  weight = [[9.23272544e-14]\n",
      " [6.81800389e-08]],  bias = 1.2502655594320703e-19,  MSE error = 126306081.69928783]\n",
      "[itration = 449,  weight = [[9.23270801e-14]\n",
      " [6.81800389e-08]],  bias = 1.2502608343663918e-19,  MSE error = 126306081.69928783]\n",
      "[itration = 450,  weight = [[9.23269058e-14]\n",
      " [6.81800389e-08]],  bias = 1.2502561093007078e-19,  MSE error = 126306081.69928783]\n",
      "[itration = 451,  weight = [[9.23267315e-14]\n",
      " [6.81800389e-08]],  bias = 1.2502513842350183e-19,  MSE error = 126306081.69928786]\n",
      "[itration = 452,  weight = [[9.23265572e-14]\n",
      " [6.81800389e-08]],  bias = 1.250246659169324e-19,  MSE error = 126306081.69928785]\n",
      "[itration = 453,  weight = [[9.23263829e-14]\n",
      " [6.81800389e-08]],  bias = 1.2502419341036247e-19,  MSE error = 126306081.69928783]\n",
      "[itration = 454,  weight = [[9.23262086e-14]\n",
      " [6.81800389e-08]],  bias = 1.250237209037921e-19,  MSE error = 126306081.69928783]\n",
      "[itration = 455,  weight = [[9.23260343e-14]\n",
      " [6.81800389e-08]],  bias = 1.250232483972213e-19,  MSE error = 126306081.69928786]\n",
      "[itration = 456,  weight = [[9.23258599e-14]\n",
      " [6.81800389e-08]],  bias = 1.2502277589065014e-19,  MSE error = 126306081.69928783]\n",
      "[itration = 457,  weight = [[9.23256856e-14]\n",
      " [6.81800389e-08]],  bias = 1.2502230338407858e-19,  MSE error = 126306081.69928783]\n",
      "[itration = 458,  weight = [[9.23255113e-14]\n",
      " [6.81800389e-08]],  bias = 1.250218308775067e-19,  MSE error = 126306081.69928785]\n",
      "[itration = 459,  weight = [[9.23253370e-14]\n",
      " [6.81800389e-08]],  bias = 1.2502135837093446e-19,  MSE error = 126306081.69928785]\n",
      "[itration = 460,  weight = [[9.23251627e-14]\n",
      " [6.81800389e-08]],  bias = 1.2502088586436192e-19,  MSE error = 126306081.69928785]\n",
      "[itration = 461,  weight = [[9.23249884e-14]\n",
      " [6.81800389e-08]],  bias = 1.2502041335778909e-19,  MSE error = 126306081.69928785]\n",
      "[itration = 462,  weight = [[9.23248141e-14]\n",
      " [6.81800389e-08]],  bias = 1.25019940851216e-19,  MSE error = 126306081.69928786]\n",
      "[itration = 463,  weight = [[9.23246398e-14]\n",
      " [6.81800389e-08]],  bias = 1.2501946834464263e-19,  MSE error = 126306081.69928786]\n",
      "[itration = 464,  weight = [[9.23244655e-14]\n",
      " [6.81800389e-08]],  bias = 1.2501899583806903e-19,  MSE error = 126306081.69928785]\n",
      "[itration = 465,  weight = [[9.23242911e-14]\n",
      " [6.81800389e-08]],  bias = 1.250185233314952e-19,  MSE error = 126306081.69928786]\n",
      "[itration = 466,  weight = [[9.23241168e-14]\n",
      " [6.81800389e-08]],  bias = 1.2501805082492117e-19,  MSE error = 126306081.69928785]\n",
      "[itration = 467,  weight = [[9.23239425e-14]\n",
      " [6.81800389e-08]],  bias = 1.2501757831834692e-19,  MSE error = 126306081.69928785]\n",
      "[itration = 468,  weight = [[9.23237682e-14]\n",
      " [6.81800389e-08]],  bias = 1.250171058117725e-19,  MSE error = 126306081.69928783]\n",
      "[itration = 469,  weight = [[9.23235939e-14]\n",
      " [6.81800389e-08]],  bias = 1.250166333051979e-19,  MSE error = 126306081.69928786]\n",
      "[itration = 470,  weight = [[9.23234196e-14]\n",
      " [6.81800389e-08]],  bias = 1.250161607986231e-19,  MSE error = 126306081.69928785]\n",
      "[itration = 471,  weight = [[9.23232453e-14]\n",
      " [6.81800389e-08]],  bias = 1.2501568829204818e-19,  MSE error = 126306081.69928783]\n",
      "[itration = 472,  weight = [[9.23230710e-14]\n",
      " [6.81800389e-08]],  bias = 1.250152157854731e-19,  MSE error = 126306081.69928785]\n",
      "[itration = 473,  weight = [[9.23228967e-14]\n",
      " [6.81800389e-08]],  bias = 1.250147432788979e-19,  MSE error = 126306081.69928785]\n",
      "[itration = 474,  weight = [[9.23227223e-14]\n",
      " [6.81800389e-08]],  bias = 1.2501427077232254e-19,  MSE error = 126306081.69928785]\n",
      "[itration = 475,  weight = [[9.23225480e-14]\n",
      " [6.81800389e-08]],  bias = 1.2501379826574706e-19,  MSE error = 126306081.69928785]\n",
      "[itration = 476,  weight = [[9.23223737e-14]\n",
      " [6.81800389e-08]],  bias = 1.2501332575917146e-19,  MSE error = 126306081.69928785]\n",
      "[itration = 477,  weight = [[9.23221994e-14]\n",
      " [6.81800389e-08]],  bias = 1.2501285325259576e-19,  MSE error = 126306081.69928783]\n",
      "[itration = 478,  weight = [[9.23220251e-14]\n",
      " [6.81800389e-08]],  bias = 1.2501238074601994e-19,  MSE error = 126306081.69928783]\n",
      "[itration = 479,  weight = [[9.23218508e-14]\n",
      " [6.81800389e-08]],  bias = 1.2501190823944403e-19,  MSE error = 126306081.69928785]\n",
      "[itration = 480,  weight = [[9.23216765e-14]\n",
      " [6.81800389e-08]],  bias = 1.2501143573286805e-19,  MSE error = 126306081.69928785]\n",
      "[itration = 481,  weight = [[9.23215022e-14]\n",
      " [6.81800389e-08]],  bias = 1.2501096322629196e-19,  MSE error = 126306081.69928785]\n",
      "[itration = 482,  weight = [[9.23213279e-14]\n",
      " [6.81800389e-08]],  bias = 1.250104907197158e-19,  MSE error = 126306081.69928785]\n",
      "[itration = 483,  weight = [[9.23211535e-14]\n",
      " [6.81800389e-08]],  bias = 1.2501001821313958e-19,  MSE error = 126306081.69928783]\n",
      "[itration = 484,  weight = [[9.23209792e-14]\n",
      " [6.81800389e-08]],  bias = 1.2500954570656329e-19,  MSE error = 126306081.69928785]\n",
      "[itration = 485,  weight = [[9.23208049e-14]\n",
      " [6.81800389e-08]],  bias = 1.2500907319998692e-19,  MSE error = 126306081.69928783]\n",
      "[itration = 486,  weight = [[9.23206306e-14]\n",
      " [6.81800389e-08]],  bias = 1.2500860069341047e-19,  MSE error = 126306081.69928783]\n",
      "[itration = 487,  weight = [[9.23204563e-14]\n",
      " [6.81800389e-08]],  bias = 1.2500812818683398e-19,  MSE error = 126306081.69928783]\n",
      "[itration = 488,  weight = [[9.23202820e-14]\n",
      " [6.81800389e-08]],  bias = 1.2500765568025744e-19,  MSE error = 126306081.69928783]\n",
      "[itration = 489,  weight = [[9.23201077e-14]\n",
      " [6.81800389e-08]],  bias = 1.2500718317368083e-19,  MSE error = 126306081.69928783]\n",
      "[itration = 490,  weight = [[9.23199334e-14]\n",
      " [6.81800389e-08]],  bias = 1.2500671066710417e-19,  MSE error = 126306081.69928785]\n",
      "[itration = 491,  weight = [[9.23197591e-14]\n",
      " [6.81800389e-08]],  bias = 1.2500623816052747e-19,  MSE error = 126306081.69928785]\n",
      "[itration = 492,  weight = [[9.23195848e-14]\n",
      " [6.81800389e-08]],  bias = 1.2500576565395073e-19,  MSE error = 126306081.69928783]\n",
      "[itration = 493,  weight = [[9.23194104e-14]\n",
      " [6.81800389e-08]],  bias = 1.2500529314737395e-19,  MSE error = 126306081.69928783]\n",
      "[itration = 494,  weight = [[9.23192361e-14]\n",
      " [6.81800389e-08]],  bias = 1.2500482064079713e-19,  MSE error = 126306081.69928786]\n",
      "[itration = 495,  weight = [[9.23190618e-14]\n",
      " [6.81800389e-08]],  bias = 1.2500434813422027e-19,  MSE error = 126306081.69928786]\n",
      "[itration = 496,  weight = [[9.23188875e-14]\n",
      " [6.81800389e-08]],  bias = 1.2500387562764337e-19,  MSE error = 126306081.69928783]\n",
      "[itration = 497,  weight = [[9.23187132e-14]\n",
      " [6.81800389e-08]],  bias = 1.2500340312106645e-19,  MSE error = 126306081.69928785]\n",
      "[itration = 498,  weight = [[9.23185389e-14]\n",
      " [6.81800389e-08]],  bias = 1.250029306144895e-19,  MSE error = 126306081.69928783]\n",
      "[itration = 499,  weight = [[9.23183646e-14]\n",
      " [6.81800389e-08]],  bias = 1.2500245810791253e-19,  MSE error = 126306081.69928786]\n",
      "[itration = 500,  weight = [[9.23181903e-14]\n",
      " [6.81800389e-08]],  bias = 1.250019856013355e-19,  MSE error = 126306081.69928783]\n"
     ]
    }
   ],
   "source": [
    "polynomial_model.train_model()"
   ]
  },
  {
   "cell_type": "code",
   "execution_count": 125,
   "metadata": {
    "colab": {
     "base_uri": "https://localhost:8080/"
    },
    "id": "Gzq1suWW6VVa",
    "outputId": "ba4ef544-2242-4e30-d52c-98e53c8d9fd3"
   },
   "outputs": [
    {
     "name": "stdout",
     "output_type": "stream",
     "text": [
      "2 degree weight is: \n",
      " [[9.23181903e-14]\n",
      " [6.81800389e-08]]\n"
     ]
    }
   ],
   "source": [
    "print(str(polynomial_model.degree)+' degree weight is: \\n', polynomial_model.weight)"
   ]
  },
  {
   "cell_type": "markdown",
   "metadata": {
    "id": "YRvMrqVuJ4f_"
   },
   "source": [
    "As we can see in this fig we have decreaseing MSE values over iterations.\n",
    "\n"
   ]
  },
  {
   "cell_type": "code",
   "execution_count": 126,
   "metadata": {
    "colab": {
     "base_uri": "https://localhost:8080/",
     "height": 295
    },
    "id": "4Sd1e4Rk5ia6",
    "outputId": "6773b8a7-9421-4dd3-9e72-758276ef822c"
   },
   "outputs": [
    {
     "data": {
      "image/png": "[encoded data removed]",
      "text/plain": [
       "<Figure size 432x288 with 1 Axes>"
      ]
     },
     "metadata": {
      "needs_background": "light"
     },
     "output_type": "display_data"
    }
   ],
   "source": [
    "plt.title('MSE error vs iters with degree=' + str(polynomial_model.degree))\n",
    "plt.xlabel('iters')\n",
    "plt.ylabel('MSE error')\n",
    "plt.plot(range(itrs), polynomial_model.MSE_values)\n",
    "plt.show()"
   ]
  },
  {
   "cell_type": "code",
   "execution_count": 127,
   "metadata": {
    "id": "JgX-kZxdU0Ga"
   },
   "outputs": [],
   "source": [
    "y_pred = polynomial_model.predict(polynomial_model.make_polynomial(train_X, degree))"
   ]
  },
  {
   "cell_type": "code",
   "execution_count": 128,
   "metadata": {
    "colab": {
     "base_uri": "https://localhost:8080/",
     "height": 281
    },
    "id": "OrSQOXvMUUXX",
    "outputId": "258cd6f9-427d-4bb7-f160-48914d2cedf8"
   },
   "outputs": [
    {
     "data": {
      "image/png": "[encoded data removed]",
      "text/plain": [
       "<Figure size 432x288 with 1 Axes>"
      ]
     },
     "metadata": {
      "needs_background": "light"
     },
     "output_type": "display_data"
    }
   ],
   "source": [
    "plt.title('plot for train data')\n",
    "plt.plot(range(len(train_X)), y_pred, 'red')\n",
    "plt.scatter(range(len(train_X)), train_y)\n",
    "plt.show()"
   ]
  },
  {
   "cell_type": "markdown",
   "metadata": {
    "id": "YxTZeRnFO9Wf"
   },
   "source": [
    "Evaluation on validation data:"
   ]
  },
  {
   "cell_type": "code",
   "execution_count": 129,
   "metadata": {
    "colab": {
     "base_uri": "https://localhost:8080/"
    },
    "id": "lbIac2dXr_2F",
    "outputId": "3f61c631-9c07-4e4f-c2d6-5f8c33d575ac"
   },
   "outputs": [
    {
     "name": "stdout",
     "output_type": "stream",
     "text": [
      "actual labels: [34857 32212 31329 32648 34721]\n",
      "predicted labels:  [[37130.]\n",
      " [37130.]\n",
      " [37131.]\n",
      " [37131.]\n",
      " [37131.]]\n"
     ]
    }
   ],
   "source": [
    "y_pred = polynomial_model.predict(polynomial_model.make_polynomial(val_X, degree))\n",
    "print('actual labels:', val_y[:5])\n",
    "print('predicted labels: ', np.round(y_pred[:5]))"
   ]
  },
  {
   "cell_type": "code",
   "execution_count": 130,
   "metadata": {
    "colab": {
     "base_uri": "https://localhost:8080/",
     "height": 281
    },
    "id": "ryk4bBoOsEf2",
    "outputId": "fedfa1ed-5494-4e58-ec6d-704b99b16490"
   },
   "outputs": [
    {
     "data": {
      "image/png": "[encoded data removed]",
      "text/plain": [
       "<Figure size 432x288 with 1 Axes>"
      ]
     },
     "metadata": {
      "needs_background": "light"
     },
     "output_type": "display_data"
    }
   ],
   "source": [
    "plt.title('plot for validation data')\n",
    "plt.plot(range(len(val_X)), y_pred, 'red')\n",
    "plt.scatter(range(len(val_X)), val_y)\n",
    "plt.show()"
   ]
  },
  {
   "cell_type": "markdown",
   "metadata": {
    "id": "RRwMVyu_PFNE"
   },
   "source": [
    "Evaluation on test data:"
   ]
  },
  {
   "cell_type": "code",
   "execution_count": 131,
   "metadata": {
    "colab": {
     "base_uri": "https://localhost:8080/"
    },
    "id": "sFNFkyDmsQaL",
    "outputId": "e709caa3-4b92-4192-c17b-d3efdfedc6da"
   },
   "outputs": [
    {
     "name": "stdout",
     "output_type": "stream",
     "text": [
      "actual labels: [45017 44593 46568 48653 48988]\n",
      "predicted labels:  [[37136.]\n",
      " [37136.]\n",
      " [37136.]\n",
      " [37136.]\n",
      " [37136.]]\n"
     ]
    }
   ],
   "source": [
    "y_pred = polynomial_model.predict(polynomial_model.make_polynomial(test_X, degree))\n",
    "print('actual labels:', test_y[:5])\n",
    "print('predicted labels: ', np.round(y_pred[:5]))"
   ]
  },
  {
   "cell_type": "code",
   "execution_count": 132,
   "metadata": {
    "colab": {
     "base_uri": "https://localhost:8080/",
     "height": 281
    },
    "id": "qotMO1jbuXYW",
    "outputId": "9ada2788-aa65-4699-8ef9-21b01e984803"
   },
   "outputs": [
    {
     "data": {
      "image/png": "[encoded data removed]",
      "text/plain": [
       "<Figure size 432x288 with 1 Axes>"
      ]
     },
     "metadata": {
      "needs_background": "light"
     },
     "output_type": "display_data"
    }
   ],
   "source": [
    "plt.title('plot for test data')\n",
    "plt.plot(range(len(test_X)), y_pred, 'red')\n",
    "plt.scatter(range(len(test_X)), test_y)\n",
    "plt.show()"
   ]
  },
  {
   "cell_type": "markdown",
   "metadata": {
    "id": "8LlnEw665n3v"
   },
   "source": [
    "## Predicting on 10 Days after 10/11/2021"
   ]
  },
  {
   "cell_type": "code",
   "execution_count": 133,
   "metadata": {
    "colab": {
     "base_uri": "https://localhost:8080/"
    },
    "id": "wPfu7ftL5n3v",
    "outputId": "a1f21853-74d9-4eb1-b94f-d28f76151b8d"
   },
   "outputs": [
    {
     "name": "stdout",
     "output_type": "stream",
     "text": [
      "ten days after 10/11/2021 :\n",
      " [738074 738075 738076 738077 738078 738079 738080 738081 738082 738083]\n"
     ]
    }
   ],
   "source": [
    "ten_data_after_X = np.arange(start=test_X[-1][0], stop=test_X[-1][0] + 10)\n",
    "print('ten days after 10/11/2021 :\\n', ten_data_after_X)"
   ]
  },
  {
   "cell_type": "code",
   "execution_count": 134,
   "metadata": {
    "colab": {
     "base_uri": "https://localhost:8080/"
    },
    "id": "VwV6Bylg5n3v",
    "outputId": "55833984-4a41-4a2f-a06b-0a18cce909c2"
   },
   "outputs": [
    {
     "name": "stdout",
     "output_type": "stream",
     "text": [
      "\n",
      "linear model prediction: \n",
      " [37140.17260182 37140.22292221 37140.2732426  37140.32356299\n",
      " 37140.37388338 37140.42420378 37140.47452417 37140.52484456\n",
      " 37140.57516495 37140.62548534]\n",
      "\n",
      "polynomial model prediction: \n",
      " [[37141.29638017]\n",
      " [37141.39702407]\n",
      " [37141.4976681 ]\n",
      " [37141.59831227]\n",
      " [37141.69895658]\n",
      " [37141.79960102]\n",
      " [37141.9002456 ]\n",
      " [37142.00089031]\n",
      " [37142.10153516]\n",
      " [37142.20218015]]\n"
     ]
    }
   ],
   "source": [
    "ten_data_after_X = convert_to_col_vector(ten_data_after_X)\n",
    "y_pred_linear = model_1.predict(ten_data_after_X)\n",
    "y_pred_poly = polynomial_model.predict(polynomial_model.make_polynomial(ten_data_after_X, degree) )\n",
    "print('\\nlinear model prediction: \\n', y_pred_linear)\n",
    "print('\\npolynomial model prediction: \\n', y_pred_poly)"
   ]
  }
 ],
 "metadata": {
  "colab": {
   "collapsed_sections": [
    "V-b0I3Fh7lfV"
   ],
   "name": "CIHW1_AlirezaRashidi_96243097.ipynb",
   "provenance": []
  },
  "kernelspec": {
   "display_name": "Python 3",
   "language": "python",
   "name": "python3"
  },
  "language_info": {
   "codemirror_mode": {
    "name": "ipython",
    "version": 3
   },
   "file_extension": ".py",
   "mimetype": "text/x-python",
   "name": "python",
   "nbconvert_exporter": "python",
   "pygments_lexer": "ipython3",
   "version": "3.9.4"
  }
 },
 "nbformat": 4,
 "nbformat_minor": 1
}
